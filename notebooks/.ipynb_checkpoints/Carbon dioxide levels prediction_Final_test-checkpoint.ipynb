{
 "cells": [
  {
   "cell_type": "markdown",
   "id": "7d18bc87",
   "metadata": {},
   "source": [
    "# Carbon level dioxide prediction: The big picture\n",
    "\n"
   ]
  },
  {
   "cell_type": "markdown",
   "id": "3a74a765",
   "metadata": {},
   "source": [
    "The carbon dioxide record from Mauna Loa Observatory, known as the “Keeling Curve,” is the world’s longest unbroken record of atmospheric carbon dioxide concentrations.<br>\n",
    "Scientists make atmospheric measurements in remote locations to sample air that is representative of a large volume of Earth’s atmosphere and relatively free from local influences.\n",
    "\n",
    "\n",
    "\n"
   ]
  },
  {
   "cell_type": "markdown",
   "id": "ad37fd68",
   "metadata": {},
   "source": [
    "**Source Kaggle** : https://www.kaggle.com/datasets/ucsandiego/carbon-dioxide\n"
   ]
  },
  {
   "cell_type": "markdown",
   "id": "72eedbdc",
   "metadata": {},
   "source": [
    "## Framing the problem\n",
    "\n"
   ]
  },
  {
   "cell_type": "markdown",
   "id": "afa7532b",
   "metadata": {},
   "source": [
    "### What could be the business objectives?\n"
   ]
  },
  {
   "cell_type": "markdown",
   "id": "a1affeb9",
   "metadata": {},
   "source": [
    "#### Environmental Impact Assessment\n"
   ]
  },
  {
   "cell_type": "markdown",
   "id": "8a11c13e",
   "metadata": {},
   "source": [
    "•\t**Objective**: Assess the impact of specific industries, regions, or activities on global CO₂ emissions.<br><br>\n",
    "•\t**Applications**: \n",
    "\n",
    "- Develop sustainability metrics for businesses to track their carbon footprint.\n",
    "- Help companies align with global environmental standards (e.g., UN Sustainable Development Goals).\n",
    "- Inform corporate social responsibility (CSR) strategies.\n"
   ]
  },
  {
   "cell_type": "markdown",
   "id": "bbe02111",
   "metadata": {},
   "source": [
    "#### Regulatory Compliance and Reporting\n"
   ]
  },
  {
   "cell_type": "markdown",
   "id": "428e8abf",
   "metadata": {},
   "source": [
    "•\t**Objective**: Help organizations meet emission standards and comply with regulations. <br><br>\n",
    "•\t**Applications**: \n",
    "\n",
    "- Forecast emissions trends to ensure compliance with future regulations.\n",
    "- Generate reports for governments or stakeholders showcasing emission reduction efforts.\n",
    "- Aid in carbon trading by quantifying emission reductions.\n",
    "\n"
   ]
  },
  {
   "cell_type": "markdown",
   "id": "a92e78e6",
   "metadata": {},
   "source": [
    "#### Emissions Reduction Strategy"
   ]
  },
  {
   "cell_type": "markdown",
   "id": "185a32df",
   "metadata": {},
   "source": [
    "• **Objective**: Identify key contributors to CO₂ emissions and design strategies to reduce them.<br><br>\n",
    "•\t**Applications**: \n",
    "- Prioritize emission reduction projects (e.g., renewable energy, electric vehicles).\n",
    "- Develop predictive models to estimate the impact of proposed initiatives.\n",
    "- Identify potential areas for investment in green technologies.\n"
   ]
  },
  {
   "cell_type": "markdown",
   "id": "4e5cc578",
   "metadata": {},
   "source": [
    "#### Policy Analysis and Advocacy\n"
   ]
  },
  {
   "cell_type": "markdown",
   "id": "83bb2ef1",
   "metadata": {},
   "source": [
    "•\t**Objective**: Provide data-driven insights for policymakers or advocacy groups.<br><br>\n",
    "•\t**Applications**: \n",
    "- Support policies on renewable energy adoption, carbon taxes, or emission caps.\n",
    "- Analyze trends in emissions by country or sector to recommend targeted interventions.\n",
    "- Track the effectiveness of previously implemented policies.\n"
   ]
  },
  {
   "cell_type": "markdown",
   "id": "4329c11b",
   "metadata": {},
   "source": [
    "#### Green Technology and Innovation\n"
   ]
  },
  {
   "cell_type": "markdown",
   "id": "e0e2aaa5",
   "metadata": {},
   "source": [
    "•\t**Objective**: Use data to guide innovation in low-carbon technologies.<br><br>\n",
    "•\t**Applications**: \n",
    "- Design algorithms to optimize energy consumption and reduce emissions.\n",
    "- Identify markets with high emissions as potential opportunities for green solutions.\n",
    "- Validate the ROI of new technologies in reducing carbon emissions.\n"
   ]
  },
  {
   "cell_type": "markdown",
   "id": "124ffe3d",
   "metadata": {},
   "source": [
    "#### Risk Management and Scenario Planning\n"
   ]
  },
  {
   "cell_type": "markdown",
   "id": "f5ec7a18",
   "metadata": {},
   "source": [
    "•\t**Objective**: Help businesses and governments prepare for future climate-related risks.<br><br>\n",
    "•\t**Applications**: \n",
    "- Build emission projection models under different scenarios (e.g., high vs. low regulation).\n",
    "- Assess the financial impact of emission-related risks, such as carbon taxes or reputational damage.\n",
    "- Identify sectors or regions at high risk for regulatory penalties or public scrutiny.\n"
   ]
  },
  {
   "cell_type": "markdown",
   "id": "2e826700",
   "metadata": {},
   "source": [
    "#### Public Awareness and Education\n"
   ]
  },
  {
   "cell_type": "markdown",
   "id": "af1ed84d",
   "metadata": {},
   "source": [
    "•\t**Objective**: Develop tools and resources to educate the public about CO₂ emissions.<br><br>\n",
    "•\t**Applications**: \n",
    "- Create interactive dashboards showing CO₂ emission trends and impacts.\n",
    "- Design campaigns highlighting the importance of individual and corporate action in emission reduction.\n",
    "- Partner with NGOs or educational institutions to raise awareness using data insights.\n"
   ]
  },
  {
   "cell_type": "markdown",
   "id": "56e7cd98",
   "metadata": {},
   "source": [
    "#### Carbon Offset and Credit Programs\n"
   ]
  },
  {
   "cell_type": "markdown",
   "id": "135b66dd",
   "metadata": {},
   "source": [
    "•\t**Objective**: Support the development of carbon offset programs.<br><br>\n",
    "•\t**Applications**: \n",
    "- Quantify emissions from specific activities to determine offset requirements.\n",
    "- Develop models to evaluate the effectiveness of offset initiatives (e.g., reforestation projects).\n",
    "- Provide data to support carbon credit trading platforms.\n"
   ]
  },
  {
   "cell_type": "markdown",
   "id": "f6904094",
   "metadata": {},
   "source": [
    "#### Investment Analysis for Sustainable Funds\n"
   ]
  },
  {
   "cell_type": "markdown",
   "id": "58b43414",
   "metadata": {},
   "source": [
    "•\t**Objective**: Guide investors toward low-carbon or climate-resilient assets.<br><br>\n",
    "•\t**Applications**: \n",
    "- Identify industries with decreasing emissions for ESG (Environmental, Social, Governance) investments.\n",
    "- Predict the long-term impact of climate policies on industry profitability.\n",
    "- Assess the carbon exposure of investment portfolios.\n"
   ]
  },
  {
   "cell_type": "markdown",
   "id": "e59285ec",
   "metadata": {},
   "source": [
    "#### Benchmarking and Competitive Analysis\n"
   ]
  },
  {
   "cell_type": "markdown",
   "id": "6839b5bf",
   "metadata": {},
   "source": [
    "•\t**Objective**: Benchmark an organization’s emissions against industry standards or competitors.<br><br>\n",
    "•\t**Applications**: \n",
    "o\tHighlight leaders and laggards in emissions reduction within a sector.\n",
    "o\tDevelop tools to measure how a company compares to peers in terms of carbon efficiency.\n",
    "o\tInform marketing strategies emphasizing sustainability leadership.\n"
   ]
  },
  {
   "cell_type": "markdown",
   "id": "1d0fab35",
   "metadata": {},
   "source": [
    "By leveraging this dataset, organizations across various industries can derive insights to advance their environmental objectives while aligning with global sustainability trends and regulatory frameworks."
   ]
  },
  {
   "cell_type": "markdown",
   "id": "fa4eaf4b",
   "metadata": {},
   "source": [
    "### What is the current solution (if it exists) ?\n"
   ]
  },
  {
   "cell_type": "markdown",
   "id": "8296dc8c",
   "metadata": {},
   "source": [
    "Predicting carbon dioxide (CO₂) levels is a critical task for environmental monitoring and climate action.<br><br>\n",
    "Based on the data at hand, which likely includes historical CO₂ emissions and time, several existing solutions and approaches can be applied to predict CO₂ levels. <br><br>\n",
    "Here’s an overview:\n"
   ]
  },
  {
   "cell_type": "markdown",
   "id": "f93e0845",
   "metadata": {},
   "source": [
    "#### Statistical and Classical Time Series Models\n"
   ]
  },
  {
   "cell_type": "markdown",
   "id": "f3a19d3a",
   "metadata": {},
   "source": [
    "These models are well-suited for datasets with clear temporal patterns and trends:"
   ]
  },
  {
   "cell_type": "markdown",
   "id": "d1239a4b",
   "metadata": {},
   "source": [
    "##### Autoregressive Integrated Moving Average (ARIMA)"
   ]
  },
  {
   "cell_type": "markdown",
   "id": "5d9d90fe",
   "metadata": {},
   "source": [
    "•\t**Description**: A classical time series model used to predict CO₂ levels based on past values.<br>\n",
    "•\t**Use Case**: Suitable for linear trends and seasonality in CO₂ emissions.<br><br>\n",
    "•\t**Advantages**: \n",
    "- Good for stationary data.\n",
    "- Provides interpretable coefficients.\n",
    "•\t**Challenges**: May not handle complex patterns or external factors well.\n"
   ]
  },
  {
   "cell_type": "markdown",
   "id": "0c55c8b7",
   "metadata": {},
   "source": [
    "##### Seasonal ARIMA (SARIMA)\n"
   ]
  },
  {
   "cell_type": "markdown",
   "id": "199ce987",
   "metadata": {},
   "source": [
    "•\t**Description**: Extends ARIMA by incorporating seasonal trends.<br>\n",
    "•\t**Use Case**: Ideal if the dataset shows periodic CO₂ level fluctuations, such as annual emissions cycles.<br>\n"
   ]
  },
  {
   "cell_type": "markdown",
   "id": "cb37beb1",
   "metadata": {},
   "source": [
    "##### Exponential Smoothing (ETS)\n"
   ]
  },
  {
   "cell_type": "markdown",
   "id": "7b72ee43",
   "metadata": {},
   "source": [
    "•\t**Description**: Uses weighted averages of past observations, with greater emphasis on recent data.<br>\n",
    "•\t**Use Case**: Suitable for short-term forecasting.<br>\n"
   ]
  },
  {
   "cell_type": "markdown",
   "id": "77ca290a",
   "metadata": {},
   "source": [
    "##### Vector Autoregression (VAR)\n"
   ]
  },
  {
   "cell_type": "markdown",
   "id": "34c0c260",
   "metadata": {},
   "source": [
    "•\t**Description**: A multivariate time series model for datasets with multiple interdependent variables (e.g., CO₂ levels, economic indicators, energy use).<br>\n",
    "•\t**Use Case**: Useful if external factors like GDP or population are included in the dataset.\n"
   ]
  },
  {
   "cell_type": "markdown",
   "id": "ae7fe4f6",
   "metadata": {},
   "source": [
    "#### Deep Learning Models\n"
   ]
  },
  {
   "cell_type": "markdown",
   "id": "7b6b0348",
   "metadata": {},
   "source": [
    "Deep learning methods are powerful for capturing complex patterns in large datasets.\n"
   ]
  },
  {
   "cell_type": "markdown",
   "id": "0e3a3623",
   "metadata": {},
   "source": [
    "##### Long Short-Term Memory Networks (LSTMs)\n"
   ]
  },
  {
   "cell_type": "markdown",
   "id": "346edffd",
   "metadata": {},
   "source": [
    "• **Description**: A type of recurrent neural network (RNN) designed for sequential data, ideal for time series forecasting.<br>\n",
    "•\t**Use Case**: Predicts future CO₂ levels by learning long-term dependencies in emission trends.<br>\n",
    "•\t**Advantages**: \n",
    "- Handles temporal dependencies well.\n",
    "- Works with non-linear trends.\n",
    "•\t**Challenges**: Computationally intensive and requires large datasets.\n"
   ]
  },
  {
   "cell_type": "markdown",
   "id": "87ffbc87",
   "metadata": {},
   "source": [
    "##### Convolutional Neural Networks (CNNs)\n"
   ]
  },
  {
   "cell_type": "markdown",
   "id": "f1efddb0",
   "metadata": {},
   "source": [
    "•\t**Description**: Can be adapted for time series forecasting by capturing local temporal patterns.<br>\n",
    "•\t**Use Case**: May be used alongside LSTMs in hybrid architectures.\n"
   ]
  },
  {
   "cell_type": "markdown",
   "id": "92829671",
   "metadata": {},
   "source": [
    "##### Transformer Models (e.g., Temporal Fusion Transformers)\n"
   ]
  },
  {
   "cell_type": "markdown",
   "id": "62989a10",
   "metadata": {},
   "source": [
    "•\t**Description**: Advanced models designed to handle sequential data with multiple features and dynamic trends.<br>\n",
    "•\t**Use Case**: Predict CO₂ levels with high accuracy by incorporating attention mechanisms.\n"
   ]
  },
  {
   "cell_type": "markdown",
   "id": "97e5738b",
   "metadata": {},
   "source": [
    "### What is the type of learning ?\n"
   ]
  },
  {
   "cell_type": "markdown",
   "id": "5b5484ed",
   "metadata": {},
   "source": [
    "With the gathered information, we are ready to design our system.<br>\n",
    "This is a **time series forecasting** task.\n",
    "\n"
   ]
  },
  {
   "cell_type": "markdown",
   "id": "a1fd1b45",
   "metadata": {},
   "source": [
    "## Selecting a performance measure\n"
   ]
  },
  {
   "cell_type": "markdown",
   "id": "cf62fac6",
   "metadata": {},
   "source": [
    "The next step is to choose a performance measure: <br>\n",
    "•\t**Short-term predictions**: Use MAE, RMSE, or MASE for clear and interpretable results.<br>\n",
    "•\t**Scale-independent metrics**: Use MAPE, sMAPE, or Theil’s U for datasets with varying scales or multiple regions.\n"
   ]
  },
  {
   "cell_type": "markdown",
   "id": "d1fc4416",
   "metadata": {},
   "source": [
    "We'll focus on:\n"
   ]
  },
  {
   "cell_type": "markdown",
   "id": "da95f024",
   "metadata": {},
   "source": [
    "### Mean Absolute Error (MAE)"
   ]
  },
  {
   "cell_type": "markdown",
   "id": "caee7af9",
   "metadata": {},
   "source": [
    "•\t**Description**: The average of absolute differences between actual and predicted values.<br><br>\n",
    "•\t**Formula**: <br>\n"
   ]
  },
  {
   "cell_type": "markdown",
   "id": "67f26f83",
   "metadata": {},
   "source": [
    "$$MAE  = \\frac{1}{n}\\sum_{i=1}^{n}|y_i - \\hat{y}_i|$$\n"
   ]
  },
  {
   "cell_type": "markdown",
   "id": "a6c327e9",
   "metadata": {},
   "source": [
    "•\t**Use Case**: \n",
    "- Easy to interpret as it represents the average error in the same unit as the data (e.g., metric tons of CO₂).\n",
    "- Sensitive to the scale of the data but not overly penalized by large errors.\n"
   ]
  },
  {
   "cell_type": "markdown",
   "id": "0ec9334b",
   "metadata": {},
   "source": [
    "### Mean Squared Error (MSE)\n"
   ]
  },
  {
   "cell_type": "markdown",
   "id": "99dea669",
   "metadata": {},
   "source": [
    "•\t**Description**: The average of squared differences between actual and predicted values.<br><br>\n",
    "•\t**Formula**:<br>\n"
   ]
  },
  {
   "cell_type": "markdown",
   "id": "9a680066",
   "metadata": {},
   "source": [
    "$$MSE = \\frac{1}{n} \\sum_{i=1}^{n} (y_i - \\hat{y}_i)^2$$\n"
   ]
  },
  {
   "cell_type": "markdown",
   "id": "c0960e45",
   "metadata": {},
   "source": [
    "•\t**Use Case**: \n",
    "- Penalizes large errors more heavily than MAE.\n",
    "- Useful for models where large prediction deviations are particularly undesirable.\n"
   ]
  },
  {
   "cell_type": "markdown",
   "id": "6ddd7fb9",
   "metadata": {},
   "source": [
    "### Root Mean Squared Error (RMSE)"
   ]
  },
  {
   "cell_type": "markdown",
   "id": "89a00eb7",
   "metadata": {},
   "source": [
    "•\t**Description**: The square root of MSE, representing the error in the same units as the original data.<br><br>\n",
    "•\t**Formula**:<br>\n"
   ]
  },
  {
   "cell_type": "markdown",
   "id": "7d70fdb5",
   "metadata": {},
   "source": [
    " $$RMSE = \\sqrt{\\frac{1}{n} \\sum_{i=1}^{n} (y_i - \\hat{y}_i)^2}$$\n",
    " "
   ]
  },
  {
   "cell_type": "markdown",
   "id": "1902db7d",
   "metadata": {},
   "source": [
    "•\t**Use Case**: \n",
    "- Highlights significant prediction errors.\n",
    "- Popular in time series forecasting due to interpretability.\n"
   ]
  },
  {
   "cell_type": "markdown",
   "id": "c013e364",
   "metadata": {},
   "source": [
    "### Mean Absolute Percentage Error (MAPE)"
   ]
  },
  {
   "cell_type": "markdown",
   "id": "efec756d",
   "metadata": {},
   "source": [
    "•\t**Description**: The average percentage error between actual and predicted values.<br><br>\n",
    "•\t**Formula**: <br>\n"
   ]
  },
  {
   "cell_type": "markdown",
   "id": "4ddb5046",
   "metadata": {},
   "source": [
    "$$MAPE=\\frac{1}{n} \\sum_{i=1}^{n} \\left| \\frac{y_i - \\hat{y}_i}{y_i} \\right| \\times 100 $$\n"
   ]
  },
  {
   "cell_type": "markdown",
   "id": "655e6bc2",
   "metadata": {},
   "source": [
    "•\t**Use Case**: \n",
    "- Provides a percentage-based measure, making it scale-independent.\n",
    "- Becomes problematic when actual values are near zero (dividing by zero).\n"
   ]
  },
  {
   "cell_type": "markdown",
   "id": "03fe5c19",
   "metadata": {},
   "source": [
    "# Getting the data\n"
   ]
  },
  {
   "cell_type": "markdown",
   "id": "91131b03",
   "metadata": {},
   "source": [
    "## Import libraries\n"
   ]
  },
  {
   "cell_type": "markdown",
   "id": "690f8aaa",
   "metadata": {},
   "source": [
    "Here will be imported all the necessary libraries that we'll use for this task !\n",
    "\n"
   ]
  },
  {
   "cell_type": "code",
   "execution_count": 1,
   "id": "074dc105",
   "metadata": {},
   "outputs": [],
   "source": [
    "import warnings\n",
    "warnings.filterwarnings(action = 'ignore')\n",
    "\n",
    "# # Libraries to import data\n",
    "import pandas as pd\n",
    "\n",
    "# Visualization\n",
    "import matplotlib.pyplot as plt\n",
    "import seaborn as sns\n",
    "\n",
    "# General libraries\n",
    "import numpy as np\n",
    "import math\n",
    "import numpy as np\n",
    "from scipy.stats import iqr,randint, stats\n",
    "from scipy import stats\n",
    "\n",
    "# Metrics\n",
    "from sklearn.metrics import mean_absolute_error, mean_squared_error, mean_absolute_percentage_error, r2_score\n",
    "from tensorflow.keras.metrics import RootMeanSquaredError, MeanAbsolutePercentageError\n",
    "\n",
    "# Import the seasonal_decompose tool that you saw in the lecture\n",
    "from statsmodels.tsa.seasonal import seasonal_decompose\n",
    "\n",
    "#Import the adfuller (Augmented Dicky-Fuller) test\n",
    "from statsmodels.tsa.stattools import adfuller\n",
    "\n",
    "\n",
    "from statsmodels.graphics.tsaplots import plot_pacf, plot_acf, plot_predict\n",
    "from statsmodels.tsa.arima.model import ARIMA\n",
    "from pmdarima import auto_arima\n",
    "import pmdarima as pm\n",
    "\n",
    "\n",
    "# Create RNN model\n",
    "from tensorflow.keras.models import Sequential\n",
    "from tensorflow.keras.optimizers import Adam\n",
    "from tensorflow.keras import layers\n",
    "from tensorflow.keras.callbacks import EarlyStopping\n",
    "\n",
    "# Scaling the data\n",
    "from sklearn.preprocessing import RobustScaler\n",
    "from sklearn.preprocessing import StandardScaler\n",
    "from sklearn.preprocessing import MinMaxScaler\n",
    "\n",
    "# Model selection\n",
    "from sklearn.model_selection import TimeSeriesSplit\n",
    "\n",
    "# Saving/loading models\n",
    "import joblib"
   ]
  },
  {
   "cell_type": "markdown",
   "id": "5e4fe03f",
   "metadata": {},
   "source": [
    "## Import the data\n"
   ]
  },
  {
   "cell_type": "markdown",
   "id": "7c718436",
   "metadata": {},
   "source": [
    "We import the data already stored locally.\n"
   ]
  },
  {
   "cell_type": "code",
   "execution_count": 2,
   "id": "cb9637ba",
   "metadata": {
    "scrolled": false
   },
   "outputs": [],
   "source": [
    "# We import the data already stored locally.\n",
    "path = '../data/raw_data/co2_levels.csv'\n",
    "\n",
    "co2_levels = pd.read_csv(path)"
   ]
  },
  {
   "cell_type": "markdown",
   "id": "8b709847",
   "metadata": {},
   "source": [
    "## Describe the features\n"
   ]
  },
  {
   "cell_type": "markdown",
   "id": "3b50ddf3",
   "metadata": {},
   "source": [
    "We have the following features : <br>\n",
    "- **Year**: year\n",
    "- **Month**: month \n",
    "- **Decimal Date**: decimal date\n",
    "- **Carbon Dioxide (ppm)**: Monthly CO2 concentrations in parts per million (ppm) measured on the 08A calibration scale and collected at 24:00 hours on the fifteenth of each month.\n",
    "- **Seasonally Adjusted CO2 (ppm)**:The fifth column provides the same data after a seasonal adjustment, which involves subtracting from the data a 4-harmonic fit with a linear gain factor to remove the seasonal cycle from carbon dioxide measurements\n",
    "- **Carbon Dioxide Fit (ppm)**:The sixth column provides the data with noise removed, generated from a stiff cubic spline function plus 4-harmonic functions with linear gain\n",
    "- **Seasonally Adjusted CO2 Fit (ppm)**:The seventh column is the same data with the seasonal cycle removed.\n"
   ]
  },
  {
   "cell_type": "markdown",
   "id": "2318b602",
   "metadata": {},
   "source": [
    "# Exploring the data\n"
   ]
  },
  {
   "cell_type": "markdown",
   "id": "bfdd9468",
   "metadata": {},
   "source": [
    "## Quick exploration\n"
   ]
  },
  {
   "cell_type": "code",
   "execution_count": 3,
   "id": "9bcefd73",
   "metadata": {
    "scrolled": true
   },
   "outputs": [
    {
     "data": {
      "text/html": [
       "<div>\n",
       "<style scoped>\n",
       "    .dataframe tbody tr th:only-of-type {\n",
       "        vertical-align: middle;\n",
       "    }\n",
       "\n",
       "    .dataframe tbody tr th {\n",
       "        vertical-align: top;\n",
       "    }\n",
       "\n",
       "    .dataframe thead th {\n",
       "        text-align: right;\n",
       "    }\n",
       "</style>\n",
       "<table border=\"1\" class=\"dataframe\">\n",
       "  <thead>\n",
       "    <tr style=\"text-align: right;\">\n",
       "      <th></th>\n",
       "      <th>Year</th>\n",
       "      <th>Month</th>\n",
       "      <th>Decimal Date</th>\n",
       "      <th>Carbon Dioxide (ppm)</th>\n",
       "      <th>Seasonally Adjusted CO2 (ppm)</th>\n",
       "      <th>Carbon Dioxide Fit (ppm)</th>\n",
       "      <th>Seasonally Adjusted CO2 Fit (ppm)</th>\n",
       "    </tr>\n",
       "  </thead>\n",
       "  <tbody>\n",
       "    <tr>\n",
       "      <th>0</th>\n",
       "      <td>1958</td>\n",
       "      <td>1</td>\n",
       "      <td>1958.0411</td>\n",
       "      <td>NaN</td>\n",
       "      <td>NaN</td>\n",
       "      <td>NaN</td>\n",
       "      <td>NaN</td>\n",
       "    </tr>\n",
       "    <tr>\n",
       "      <th>1</th>\n",
       "      <td>1958</td>\n",
       "      <td>2</td>\n",
       "      <td>1958.1260</td>\n",
       "      <td>NaN</td>\n",
       "      <td>NaN</td>\n",
       "      <td>NaN</td>\n",
       "      <td>NaN</td>\n",
       "    </tr>\n",
       "    <tr>\n",
       "      <th>2</th>\n",
       "      <td>1958</td>\n",
       "      <td>3</td>\n",
       "      <td>1958.2027</td>\n",
       "      <td>315.69</td>\n",
       "      <td>314.42</td>\n",
       "      <td>316.18</td>\n",
       "      <td>314.89</td>\n",
       "    </tr>\n",
       "    <tr>\n",
       "      <th>3</th>\n",
       "      <td>1958</td>\n",
       "      <td>4</td>\n",
       "      <td>1958.2877</td>\n",
       "      <td>317.45</td>\n",
       "      <td>315.15</td>\n",
       "      <td>317.30</td>\n",
       "      <td>314.98</td>\n",
       "    </tr>\n",
       "    <tr>\n",
       "      <th>4</th>\n",
       "      <td>1958</td>\n",
       "      <td>5</td>\n",
       "      <td>1958.3699</td>\n",
       "      <td>317.50</td>\n",
       "      <td>314.73</td>\n",
       "      <td>317.83</td>\n",
       "      <td>315.06</td>\n",
       "    </tr>\n",
       "  </tbody>\n",
       "</table>\n",
       "</div>"
      ],
      "text/plain": [
       "   Year  Month  Decimal Date  Carbon Dioxide (ppm)  \\\n",
       "0  1958      1     1958.0411                   NaN   \n",
       "1  1958      2     1958.1260                   NaN   \n",
       "2  1958      3     1958.2027                315.69   \n",
       "3  1958      4     1958.2877                317.45   \n",
       "4  1958      5     1958.3699                317.50   \n",
       "\n",
       "   Seasonally Adjusted CO2 (ppm)  Carbon Dioxide Fit (ppm)  \\\n",
       "0                            NaN                       NaN   \n",
       "1                            NaN                       NaN   \n",
       "2                         314.42                    316.18   \n",
       "3                         315.15                    317.30   \n",
       "4                         314.73                    317.83   \n",
       "\n",
       "   Seasonally Adjusted CO2 Fit (ppm)  \n",
       "0                                NaN  \n",
       "1                                NaN  \n",
       "2                             314.89  \n",
       "3                             314.98  \n",
       "4                             315.06  "
      ]
     },
     "execution_count": 3,
     "metadata": {},
     "output_type": "execute_result"
    }
   ],
   "source": [
    "# head of the data\n",
    "co2_levels.head()"
   ]
  },
  {
   "cell_type": "markdown",
   "id": "61dd599d",
   "metadata": {},
   "source": [
    "Let's create a Year_Month column and set  it as index of dataframe!\n"
   ]
  },
  {
   "cell_type": "code",
   "execution_count": 4,
   "id": "212eab65",
   "metadata": {},
   "outputs": [
    {
     "data": {
      "text/html": [
       "<div>\n",
       "<style scoped>\n",
       "    .dataframe tbody tr th:only-of-type {\n",
       "        vertical-align: middle;\n",
       "    }\n",
       "\n",
       "    .dataframe tbody tr th {\n",
       "        vertical-align: top;\n",
       "    }\n",
       "\n",
       "    .dataframe thead th {\n",
       "        text-align: right;\n",
       "    }\n",
       "</style>\n",
       "<table border=\"1\" class=\"dataframe\">\n",
       "  <thead>\n",
       "    <tr style=\"text-align: right;\">\n",
       "      <th></th>\n",
       "      <th>Carbon Dioxide (ppm)</th>\n",
       "      <th>Seasonally Adjusted CO2 (ppm)</th>\n",
       "      <th>Carbon Dioxide Fit (ppm)</th>\n",
       "      <th>Seasonally Adjusted CO2 Fit (ppm)</th>\n",
       "    </tr>\n",
       "    <tr>\n",
       "      <th>Year_Month</th>\n",
       "      <th></th>\n",
       "      <th></th>\n",
       "      <th></th>\n",
       "      <th></th>\n",
       "    </tr>\n",
       "  </thead>\n",
       "  <tbody>\n",
       "    <tr>\n",
       "      <th>1958-01-01</th>\n",
       "      <td>NaN</td>\n",
       "      <td>NaN</td>\n",
       "      <td>NaN</td>\n",
       "      <td>NaN</td>\n",
       "    </tr>\n",
       "    <tr>\n",
       "      <th>1958-02-01</th>\n",
       "      <td>NaN</td>\n",
       "      <td>NaN</td>\n",
       "      <td>NaN</td>\n",
       "      <td>NaN</td>\n",
       "    </tr>\n",
       "    <tr>\n",
       "      <th>1958-03-01</th>\n",
       "      <td>315.69</td>\n",
       "      <td>314.42</td>\n",
       "      <td>316.18</td>\n",
       "      <td>314.89</td>\n",
       "    </tr>\n",
       "    <tr>\n",
       "      <th>1958-04-01</th>\n",
       "      <td>317.45</td>\n",
       "      <td>315.15</td>\n",
       "      <td>317.30</td>\n",
       "      <td>314.98</td>\n",
       "    </tr>\n",
       "    <tr>\n",
       "      <th>1958-05-01</th>\n",
       "      <td>317.50</td>\n",
       "      <td>314.73</td>\n",
       "      <td>317.83</td>\n",
       "      <td>315.06</td>\n",
       "    </tr>\n",
       "  </tbody>\n",
       "</table>\n",
       "</div>"
      ],
      "text/plain": [
       "            Carbon Dioxide (ppm)  Seasonally Adjusted CO2 (ppm)  \\\n",
       "Year_Month                                                        \n",
       "1958-01-01                   NaN                            NaN   \n",
       "1958-02-01                   NaN                            NaN   \n",
       "1958-03-01                315.69                         314.42   \n",
       "1958-04-01                317.45                         315.15   \n",
       "1958-05-01                317.50                         314.73   \n",
       "\n",
       "            Carbon Dioxide Fit (ppm)  Seasonally Adjusted CO2 Fit (ppm)  \n",
       "Year_Month                                                               \n",
       "1958-01-01                       NaN                                NaN  \n",
       "1958-02-01                       NaN                                NaN  \n",
       "1958-03-01                    316.18                             314.89  \n",
       "1958-04-01                    317.30                             314.98  \n",
       "1958-05-01                    317.83                             315.06  "
      ]
     },
     "execution_count": 4,
     "metadata": {},
     "output_type": "execute_result"
    }
   ],
   "source": [
    "# Combine year and month into a new column as datetime\n",
    "co2_levels['Year_Month'] = pd.to_datetime(co2_levels['Year'].astype(str) + '-' + co2_levels['Month'].astype(str), format='%Y-%m')\n",
    "\n",
    "# Let's drop year and month column\n",
    "co2_levels.drop(columns=[\"Year\", \"Month\",\"Decimal Date\"], inplace=True, axis=1)\n",
    "\n",
    "# Let's set Year_Month as new index\n",
    "co2_levels.set_index(\"Year_Month\", inplace=True)\n",
    "co2_levels.head()"
   ]
  },
  {
   "cell_type": "markdown",
   "id": "4c25fb77",
   "metadata": {},
   "source": [
    "Let's only keep the Carbon dioxide column.\n"
   ]
  },
  {
   "cell_type": "code",
   "execution_count": 5,
   "id": "943e661a",
   "metadata": {},
   "outputs": [],
   "source": [
    "# Let's only keep the Carbon dioxide column.\n",
    "co2_levels.drop(columns=[\"Seasonally Adjusted CO2 (ppm)\",\n",
    "                         \"Carbon Dioxide Fit (ppm)\",\n",
    "                         \"Seasonally Adjusted CO2 Fit (ppm)\"], inplace=True, axis=1)"
   ]
  },
  {
   "cell_type": "code",
   "execution_count": 6,
   "id": "98464c7c",
   "metadata": {},
   "outputs": [
    {
     "name": "stdout",
     "output_type": "stream",
     "text": [
      "<class 'pandas.core.frame.DataFrame'>\n",
      "DatetimeIndex: 720 entries, 1958-01-01 to 2017-12-01\n",
      "Data columns (total 1 columns):\n",
      " #   Column                Non-Null Count  Dtype  \n",
      "---  ------                --------------  -----  \n",
      " 0   Carbon Dioxide (ppm)  703 non-null    float64\n",
      "dtypes: float64(1)\n",
      "memory usage: 11.2 KB\n"
     ]
    }
   ],
   "source": [
    "# summary of the DataFrame\n",
    "co2_levels.info()"
   ]
  },
  {
   "cell_type": "code",
   "execution_count": 7,
   "id": "0bea4a70",
   "metadata": {},
   "outputs": [
    {
     "data": {
      "text/html": [
       "<div>\n",
       "<style scoped>\n",
       "    .dataframe tbody tr th:only-of-type {\n",
       "        vertical-align: middle;\n",
       "    }\n",
       "\n",
       "    .dataframe tbody tr th {\n",
       "        vertical-align: top;\n",
       "    }\n",
       "\n",
       "    .dataframe thead th {\n",
       "        text-align: right;\n",
       "    }\n",
       "</style>\n",
       "<table border=\"1\" class=\"dataframe\">\n",
       "  <thead>\n",
       "    <tr style=\"text-align: right;\">\n",
       "      <th></th>\n",
       "      <th>Carbon Dioxide (ppm)</th>\n",
       "    </tr>\n",
       "  </thead>\n",
       "  <tbody>\n",
       "    <tr>\n",
       "      <th>count</th>\n",
       "      <td>703.000000</td>\n",
       "    </tr>\n",
       "    <tr>\n",
       "      <th>mean</th>\n",
       "      <td>352.375633</td>\n",
       "    </tr>\n",
       "    <tr>\n",
       "      <th>std</th>\n",
       "      <td>26.241884</td>\n",
       "    </tr>\n",
       "    <tr>\n",
       "      <th>min</th>\n",
       "      <td>313.210000</td>\n",
       "    </tr>\n",
       "    <tr>\n",
       "      <th>25%</th>\n",
       "      <td>328.555000</td>\n",
       "    </tr>\n",
       "    <tr>\n",
       "      <th>50%</th>\n",
       "      <td>349.800000</td>\n",
       "    </tr>\n",
       "    <tr>\n",
       "      <th>75%</th>\n",
       "      <td>373.195000</td>\n",
       "    </tr>\n",
       "    <tr>\n",
       "      <th>max</th>\n",
       "      <td>407.650000</td>\n",
       "    </tr>\n",
       "  </tbody>\n",
       "</table>\n",
       "</div>"
      ],
      "text/plain": [
       "       Carbon Dioxide (ppm)\n",
       "count            703.000000\n",
       "mean             352.375633\n",
       "std               26.241884\n",
       "min              313.210000\n",
       "25%              328.555000\n",
       "50%              349.800000\n",
       "75%              373.195000\n",
       "max              407.650000"
      ]
     },
     "execution_count": 7,
     "metadata": {},
     "output_type": "execute_result"
    }
   ],
   "source": [
    "# Descriptive statistics\n",
    "co2_levels.describe()"
   ]
  },
  {
   "cell_type": "code",
   "execution_count": 8,
   "id": "b1a262a3",
   "metadata": {
    "scrolled": false
   },
   "outputs": [
    {
     "data": {
      "image/png": "[encoded data removed]",
      "text/plain": [
       "<Figure size 800x500 with 1 Axes>"
      ]
     },
     "metadata": {},
     "output_type": "display_data"
    }
   ],
   "source": [
    "# Histogram of the DataFrame’s columns\n",
    "co2_levels.hist(bins=50, figsize=(8,5))\n",
    "plt.show()"
   ]
  },
  {
   "cell_type": "code",
   "execution_count": 9,
   "id": "b22badf1",
   "metadata": {},
   "outputs": [
    {
     "data": {
      "image/png": "[encoded data removed]",
      "text/plain": [
       "<Figure size 800x500 with 1 Axes>"
      ]
     },
     "metadata": {},
     "output_type": "display_data"
    }
   ],
   "source": [
    "def plot_time_series(data, y:None, title:None=''):\n",
    "    # Time series plot\n",
    "    fig, ax = plt.subplots(figsize=(8,5))\n",
    "    sns.lineplot(data = data, y=y, x = data.index)\n",
    "    \n",
    "    ax.set_title(f'- Line Plot - {title}')\n",
    "    # Adjust layout\n",
    "    plt.tight_layout()\n",
    "    plt.show()\n",
    "\n",
    "    \n",
    "plot_time_series(data = co2_levels, y = \"Carbon Dioxide (ppm)\", title = \"Carbon Dioxide (ppm)\")"
   ]
  },
  {
   "cell_type": "markdown",
   "id": "0a659e55",
   "metadata": {},
   "source": [
    "## Explore and visualizing the data to gain insights\n"
   ]
  },
  {
   "cell_type": "markdown",
   "id": "4dcfae1a",
   "metadata": {},
   "source": [
    "### Univariate analysis"
   ]
  },
  {
   "cell_type": "markdown",
   "id": "c9306a1e",
   "metadata": {},
   "source": [
    "#### Numerical features"
   ]
  },
  {
   "cell_type": "code",
   "execution_count": 10,
   "id": "76e00bc3",
   "metadata": {},
   "outputs": [],
   "source": [
    "# Get numerical features \n",
    "numerical_feats = co2_levels.select_dtypes(include='number').columns"
   ]
  },
  {
   "cell_type": "markdown",
   "id": "c9939ae8",
   "metadata": {},
   "source": [
    "Let's plot the histograms of the numerical features."
   ]
  },
  {
   "cell_type": "code",
   "execution_count": 11,
   "id": "a05b7065",
   "metadata": {},
   "outputs": [
    {
     "data": {
      "image/png": "[encoded data removed]",
      "text/plain": [
       "<Figure size 800x500 with 3 Axes>"
      ]
     },
     "metadata": {},
     "output_type": "display_data"
    }
   ],
   "source": [
    "# Plot histograms\n",
    "ncol_max = 3\n",
    "nrow_max = math.ceil(len(numerical_feats)/ncol_max)\n",
    "fig, axs = plt.subplots(nrows = nrow_max, ncols = ncol_max, figsize=(8, 5))\n",
    "\n",
    "\n",
    "# Flatten axes for easy iteration\n",
    "axs = axs.flatten()\n",
    "\n",
    "# Histograms\n",
    "for col in numerical_feats:  \n",
    "        # Plotting the histograms\n",
    "        sns.histplot(data = co2_levels[numerical_feats], \n",
    "                     x= co2_levels[col], \n",
    "                     kde = True,                                   \n",
    "                     ax=axs[co2_levels[numerical_feats].columns.get_loc(col)])\n",
    "        \n",
    "        # Formatting\n",
    "        axs[co2_levels[numerical_feats].columns.get_loc(col)].set_xlabel(col)\n",
    "        axs[co2_levels[numerical_feats].columns.get_loc(col)].set_title(f'Hist Plot - {col}')\n",
    "        \n",
    "# Hide unused subplots\n",
    "for ax in axs[len(numerical_feats):]:\n",
    "    ax.axis('off')\n",
    "    \n",
    "# Adjust layout\n",
    "plt.tight_layout()\n",
    "plt.show()"
   ]
  },
  {
   "cell_type": "markdown",
   "id": "d4497d36",
   "metadata": {},
   "source": [
    "Let's plot the violin plots of the numerical features."
   ]
  },
  {
   "cell_type": "code",
   "execution_count": 12,
   "id": "32046966",
   "metadata": {},
   "outputs": [
    {
     "data": {
      "image/png": "[encoded data removed]",
      "text/plain": [
       "<Figure size 800x500 with 3 Axes>"
      ]
     },
     "metadata": {},
     "output_type": "display_data"
    }
   ],
   "source": [
    "# Plot violin plots\n",
    "ncol_max = 3\n",
    "nrow_max = math.ceil(len(numerical_feats)/ncol_max)\n",
    "fig, axs = plt.subplots(nrows = nrow_max, ncols = ncol_max, figsize=(8, 5))\n",
    "\n",
    "\n",
    "# Flatten axes for easy iteration\n",
    "axs = axs.flatten()\n",
    "\n",
    "# boxplots\n",
    "for col in numerical_feats:  \n",
    "        # Plotting the violin plots\n",
    "        sns.violinplot(data = co2_levels[numerical_feats], \n",
    "                     x= co2_levels[col],                                   \n",
    "                     ax=axs[co2_levels[numerical_feats].columns.get_loc(col)])\n",
    "        \n",
    "        # Formatting\n",
    "        axs[co2_levels[numerical_feats].columns.get_loc(col)].set_xlabel(col)\n",
    "        axs[co2_levels[numerical_feats].columns.get_loc(col)].set_title(f'Violin Plot - {col}')  \n",
    "\n",
    "# Hide unused subplots\n",
    "for ax in axs[len(numerical_feats):]:\n",
    "    ax.axis('off')\n",
    "    \n",
    "# Adjust layout\n",
    "plt.tight_layout()\n",
    "plt.show()"
   ]
  },
  {
   "cell_type": "markdown",
   "id": "282cd338",
   "metadata": {},
   "source": [
    "Let's plot the boxplots of the numerical features."
   ]
  },
  {
   "cell_type": "code",
   "execution_count": 13,
   "id": "910a7519",
   "metadata": {},
   "outputs": [
    {
     "data": {
      "image/png": "[encoded data removed]",
      "text/plain": [
       "<Figure size 800x500 with 3 Axes>"
      ]
     },
     "metadata": {},
     "output_type": "display_data"
    }
   ],
   "source": [
    "# Plot boxplots\n",
    "ncol_max = 3\n",
    "nrow_max = math.ceil(len(numerical_feats)/ncol_max)\n",
    "fig, axs = plt.subplots(nrows = nrow_max, ncols = ncol_max, figsize=(8, 5))\n",
    "\n",
    "\n",
    "# Flatten axes for easy iteration\n",
    "axs = axs.flatten()\n",
    "\n",
    "# boxplots\n",
    "for col in numerical_feats:  \n",
    "        # Plotting the boxplots\n",
    "        sns.boxplot(data = co2_levels[numerical_feats], \n",
    "                     x= co2_levels[col],                                   \n",
    "                     ax=axs[co2_levels[numerical_feats].columns.get_loc(col)])\n",
    "        \n",
    "        # Formatting\n",
    "        axs[co2_levels[numerical_feats].columns.get_loc(col)].set_xlabel(col)\n",
    "        axs[co2_levels[numerical_feats].columns.get_loc(col)].set_title(f'Box Plot - {col}')  \n",
    "        \n",
    "# Hide unused subplots\n",
    "for ax in axs[len(numerical_feats):]:\n",
    "    ax.axis('off')\n",
    "    \n",
    "# Adjust layout\n",
    "plt.tight_layout()\n",
    "plt.show()"
   ]
  },
  {
   "cell_type": "markdown",
   "id": "073b2e53",
   "metadata": {},
   "source": [
    "# Prepare the data for forecasting\n",
    "\n"
   ]
  },
  {
   "cell_type": "markdown",
   "id": "9ee8642b",
   "metadata": {},
   "source": [
    "## Cleaning the data\n",
    "\n"
   ]
  },
  {
   "cell_type": "markdown",
   "id": "357872ab",
   "metadata": {},
   "source": [
    "### Processing duplicates\n"
   ]
  },
  {
   "cell_type": "markdown",
   "id": "48794886",
   "metadata": {},
   "source": [
    "We check the number of duplicated rows.\n"
   ]
  },
  {
   "cell_type": "code",
   "execution_count": 14,
   "id": "bc8dc2bb",
   "metadata": {},
   "outputs": [
    {
     "name": "stdout",
     "output_type": "stream",
     "text": [
      "Number of rows : 720\n",
      "Number of duplicated rows (index + values) : 0\n"
     ]
    }
   ],
   "source": [
    "# Check number of rows before removing duplicates\n",
    "print(f\"Number of rows : {len(co2_levels)}\")\n",
    "\n",
    "# Compute the number of duplicated rows\n",
    "print(f\"Number of duplicated rows (index + values) : {co2_levels.reset_index().duplicated().sum()}\")"
   ]
  },
  {
   "cell_type": "code",
   "execution_count": 23,
   "id": "95b0a261",
   "metadata": {},
   "outputs": [
    {
     "name": "stdout",
     "output_type": "stream",
     "text": [
      "No duplicates found !\n"
     ]
    }
   ],
   "source": [
    "def drop_time_series_duplicates(df:pd.DataFrame):\n",
    "    '''\n",
    "    This function gets a Pandas Dataframe as input, and drops duplicates rows if any.\n",
    "    The index of the input dataframe is related to a date, or duration mark.\n",
    "    '''\n",
    "    if df.reset_index().duplicated().sum() > 0 : \n",
    "        nb_duplicates = df.reset_index().duplicated().sum()\n",
    "        df.drop_duplicates()\n",
    "        print(f'{nb_duplicates} have been dropped !')\n",
    "    else:\n",
    "        print('No duplicates found !')\n",
    "\n",
    "    \n",
    "drop_time_series_duplicates(co2_levels)"
   ]
  },
  {
   "cell_type": "code",
   "execution_count": null,
   "id": "d99d5c6d",
   "metadata": {},
   "outputs": [],
   "source": []
  },
  {
   "cell_type": "code",
   "execution_count": null,
   "id": "729552f3",
   "metadata": {},
   "outputs": [],
   "source": []
  },
  {
   "cell_type": "code",
   "execution_count": null,
   "id": "65daf5cd",
   "metadata": {},
   "outputs": [],
   "source": []
  },
  {
   "cell_type": "code",
   "execution_count": null,
   "id": "0896d2cb",
   "metadata": {},
   "outputs": [],
   "source": []
  },
  {
   "cell_type": "code",
   "execution_count": 15,
   "id": "4e0dae2b",
   "metadata": {},
   "outputs": [
    {
     "ename": "SyntaxError",
     "evalue": "Missing parentheses in call to 'print'. Did you mean print(...)? (908402389.py, line 1)",
     "output_type": "error",
     "traceback": [
      "\u001b[0;36m  Cell \u001b[0;32mIn [15], line 1\u001b[0;36m\u001b[0m\n\u001b[0;31m    print i\u001b[0m\n\u001b[0m    ^\u001b[0m\n\u001b[0;31mSyntaxError\u001b[0m\u001b[0;31m:\u001b[0m Missing parentheses in call to 'print'. Did you mean print(...)?\n"
     ]
    }
   ],
   "source": [
    "print i\n"
   ]
  },
  {
   "cell_type": "markdown",
   "id": "8d8a1728",
   "metadata": {},
   "source": [
    "### Processing missing data\n"
   ]
  },
  {
   "cell_type": "markdown",
   "id": "cfbcfa47",
   "metadata": {},
   "source": [
    "We check the percentage of missing values in the data at hand.\n"
   ]
  },
  {
   "cell_type": "code",
   "execution_count": null,
   "id": "35cc2e75",
   "metadata": {
    "scrolled": false
   },
   "outputs": [],
   "source": [
    "def get_missing_data(data):       \n",
    "    # Counting the percentage of NaN for each column\n",
    "    missing_data = data.isnull().sum().sort_values(ascending=False)/len(data)*100 #NaN percentage for each column\n",
    "\n",
    "    # missing_data\n",
    "    missing_data = missing_data[missing_data > 0]\n",
    "\n",
    "    #Missing data column names\n",
    "    missing_cols = missing_data.index.values.tolist()\n",
    "\n",
    "    #Show missing data in percent    \n",
    "    return missing_data\n",
    "\n",
    "get_missing_data(co2_levels)"
   ]
  },
  {
   "cell_type": "markdown",
   "id": "ce028147",
   "metadata": {},
   "source": [
    "We have **2.36%** of missing values!\n",
    "\n"
   ]
  },
  {
   "cell_type": "markdown",
   "id": "88750f02",
   "metadata": {},
   "source": [
    "Let's look at the date of the missing values.\n"
   ]
  },
  {
   "cell_type": "code",
   "execution_count": null,
   "id": "ffed66b1",
   "metadata": {
    "scrolled": false
   },
   "outputs": [],
   "source": [
    "# Let's look at the date of the missing values.\n",
    "co2_levels.loc[co2_levels[\"Carbon Dioxide (ppm)\"].isnull()]"
   ]
  },
  {
   "cell_type": "markdown",
   "id": "8319c290",
   "metadata": {},
   "source": [
    "The first values and the last values of the time series are NaN values. Let's get rid of those.\n"
   ]
  },
  {
   "cell_type": "code",
   "execution_count": null,
   "id": "a19b7d36",
   "metadata": {
    "scrolled": true
   },
   "outputs": [],
   "source": [
    "# The first values and the last values of the time series are NaN values. Let's get rid of those.\n",
    "co2_levels = co2_levels.loc[(co2_levels.index > \"1958-02-01\")]\n",
    "co2_levels = co2_levels.loc[(co2_levels.index < \"2017-03-01\")]"
   ]
  },
  {
   "cell_type": "markdown",
   "id": "92060614",
   "metadata": {},
   "source": [
    "Let's check at the date of the remaining missing values.\n"
   ]
  },
  {
   "cell_type": "code",
   "execution_count": null,
   "id": "786c319d",
   "metadata": {
    "scrolled": true
   },
   "outputs": [],
   "source": [
    "# Let's look at the date of the missing values.\n",
    "co2_levels.loc[co2_levels[\"Carbon Dioxide (ppm)\"].isnull()]"
   ]
  },
  {
   "cell_type": "markdown",
   "id": "2350fa6f",
   "metadata": {},
   "source": [
    "The simplest option here is to use the very useful pd.interpolate(\"linear\") function to fill these in for us.\n"
   ]
  },
  {
   "cell_type": "code",
   "execution_count": null,
   "id": "5ac147cd",
   "metadata": {},
   "outputs": [],
   "source": [
    "# The simplest option here is to use the very useful pd.interpolate(\"linear\") function to fill these in for us.\n",
    "co2_levels = co2_levels.interpolate(\"linear\")"
   ]
  },
  {
   "cell_type": "markdown",
   "id": "d8297dc1",
   "metadata": {},
   "source": [
    "Let's do a final check for missing values.\n"
   ]
  },
  {
   "cell_type": "code",
   "execution_count": null,
   "id": "9e9e83f6",
   "metadata": {},
   "outputs": [],
   "source": [
    "# Let's do a final check for missing values.\n",
    "get_missing_data(co2_levels)"
   ]
  },
  {
   "cell_type": "markdown",
   "id": "a749d8d5",
   "metadata": {},
   "source": [
    "We don't have Nan values anymore.\n"
   ]
  },
  {
   "cell_type": "code",
   "execution_count": null,
   "id": "a5c13b67",
   "metadata": {},
   "outputs": [],
   "source": [
    "# Copy of data\n",
    "co2_levels_copy = co2_levels.copy()"
   ]
  },
  {
   "cell_type": "markdown",
   "id": "c54979ee",
   "metadata": {},
   "source": [
    "## Test set and train set\n",
    "\n"
   ]
  },
  {
   "cell_type": "markdown",
   "id": "014ecdd6",
   "metadata": {},
   "source": [
    "To avoid **data snooping bias**, we create a train set and a test set.\n",
    "\n"
   ]
  },
  {
   "cell_type": "markdown",
   "id": "889994bb",
   "metadata": {},
   "source": [
    "We split the data in : <br>\n",
    "- a train on which we will train our final model\n",
    "- a test set we will use to evaluate the model (in the end)\n"
   ]
  },
  {
   "cell_type": "code",
   "execution_count": null,
   "id": "a37697df",
   "metadata": {},
   "outputs": [],
   "source": [
    "# Next up we need to split into a train and test set (we'll do an 80:20 split).\n",
    "# Let's keep the last 20% of the values out for testing purposes\n",
    "train_size = 0.8\n",
    "index = round(train_size*co2_levels.shape[0])\n",
    "\n",
    "train = co2_levels.iloc[:index]\n",
    "test = co2_levels.iloc[index:]"
   ]
  },
  {
   "cell_type": "code",
   "execution_count": null,
   "id": "aafffafc",
   "metadata": {},
   "outputs": [],
   "source": [
    "train.head()"
   ]
  },
  {
   "cell_type": "code",
   "execution_count": null,
   "id": "e88587f9",
   "metadata": {
    "scrolled": false
   },
   "outputs": [],
   "source": [
    "# Plot the train set\n",
    "plot_time_series(data = train, y = \"Carbon Dioxide (ppm)\", title = \"train set\")"
   ]
  },
  {
   "cell_type": "markdown",
   "id": "c0e6eb40",
   "metadata": {},
   "source": [
    "# SARIMA modeling\n"
   ]
  },
  {
   "cell_type": "markdown",
   "id": "83177090",
   "metadata": {},
   "source": [
    "## Check stationarity\n"
   ]
  },
  {
   "cell_type": "code",
   "execution_count": null,
   "id": "e9326b75",
   "metadata": {},
   "outputs": [],
   "source": [
    "# Stationarity check \n",
    "def Augmented_Dickey_Fuller_Test_func(series , column_name):\n",
    "    print (f'Results of Dickey-Fuller Test for column:{column_name}')\n",
    "    df_test = adfuller(series, autolag='AIC')\n",
    "    df_output = pd.Series(df_test[0:4], \n",
    "                          index=['Test Statistic',\n",
    "                                 'p-value',\n",
    "                                 'No Lags Used',\n",
    "                                 'Number of Observations Used'])\n",
    "    for key,value in df_test[4].items():\n",
    "        df_output['Critical Value (%s)'%key] = value\n",
    "    print (df_output)\n",
    "        \n",
    "    if df_test[1] <= 0.05:\n",
    "        print(\"Conclusion:====>\")\n",
    "        print(\"Reject the null hypothesis\")\n",
    "        print(\"Data is stationary\")\n",
    "    else:\n",
    "        print(\"Conclusion:====>\")\n",
    "        print(\"Fail to reject the null hypothesis\")\n",
    "        print(\"Data is non-stationary\")         "
   ]
  },
  {
   "cell_type": "code",
   "execution_count": null,
   "id": "b194920d",
   "metadata": {
    "scrolled": true
   },
   "outputs": [],
   "source": [
    "# Test of stationarity of the data\n",
    "Augmented_Dickey_Fuller_Test_func(train,\"Carbon Dioxide (ppm)\")"
   ]
  },
  {
   "cell_type": "markdown",
   "id": "ada8291a",
   "metadata": {},
   "source": [
    "## Stationarity\n"
   ]
  },
  {
   "cell_type": "code",
   "execution_count": null,
   "id": "108ec8a8",
   "metadata": {
    "scrolled": false
   },
   "outputs": [],
   "source": [
    "# Multiplicative Decomposition (y = Trend * Seasonal * Residuals)\n",
    "result_add = seasonal_decompose(train, model='additive')\n",
    "result_add.plot();"
   ]
  },
  {
   "cell_type": "code",
   "execution_count": null,
   "id": "a800f0bb",
   "metadata": {
    "scrolled": false
   },
   "outputs": [],
   "source": [
    "# Multiplicative Decomposition (y = Trend * Seasonal * Residuals)\n",
    "result_mul = seasonal_decompose(train, model='multiplicative')\n",
    "result_mul.plot();"
   ]
  },
  {
   "cell_type": "code",
   "execution_count": null,
   "id": "0bdf0296",
   "metadata": {},
   "outputs": [],
   "source": [
    "# Create a column with seasonality of co2 levels\n",
    "train['co2_seasons'] = result_mul.seasonal\n",
    "\n",
    "# Create a co2 levels without seasonality\n",
    "train['co2_deseasonalized'] = train[\"Carbon Dioxide (ppm)\"] / train['co2_seasons']"
   ]
  },
  {
   "cell_type": "code",
   "execution_count": null,
   "id": "5bb3a918",
   "metadata": {
    "scrolled": true
   },
   "outputs": [],
   "source": [
    "plt.figure(figsize=(15,4))\n",
    "\n",
    "plt.subplot(1,2,1); \n",
    "plt.plot(train[\"Carbon Dioxide (ppm)\"]);\n",
    "plt.title(\"Carbon Dioxide (ppm)\", fontsize=16);\n",
    "\n",
    "plt.subplot(1,2,2); \n",
    "plt.plot(train['co2_deseasonalized']);\n",
    "plt.title(\"co2_deseasonalized\", fontsize=16);\n"
   ]
  },
  {
   "cell_type": "code",
   "execution_count": null,
   "id": "32365972",
   "metadata": {},
   "outputs": [],
   "source": [
    "# Test of stationarity of the data\n",
    "Augmented_Dickey_Fuller_Test_func(train['co2_deseasonalized'],\"co2_deseasonalized\")"
   ]
  },
  {
   "cell_type": "markdown",
   "id": "41e76cf1",
   "metadata": {},
   "source": [
    "This data is not stationary."
   ]
  },
  {
   "cell_type": "markdown",
   "id": "4a77aafd",
   "metadata": {},
   "source": [
    "## Differencing to get to stationarity\n"
   ]
  },
  {
   "cell_type": "code",
   "execution_count": null,
   "id": "c7a57128",
   "metadata": {},
   "outputs": [],
   "source": [
    "# We differentiate the data to get to stationarity (d=1)\n",
    "train_diff = train['co2_deseasonalized'].diff().dropna()"
   ]
  },
  {
   "cell_type": "code",
   "execution_count": null,
   "id": "4fce047e",
   "metadata": {},
   "outputs": [],
   "source": [
    "# Test of stationarity of the data\n",
    "Augmented_Dickey_Fuller_Test_func(train_diff,\"Carbon Dioxide (ppm) : No seasonality AND 1 diff\")"
   ]
  },
  {
   "cell_type": "code",
   "execution_count": null,
   "id": "d8cd8eac",
   "metadata": {},
   "outputs": [],
   "source": [
    "plt.figure(figsize=(15,4))\n",
    "plt.subplot(1,2,1); \n",
    "plt.plot(train['co2_deseasonalized']);\n",
    "plt.title(\"co2_deseasonalized\", fontsize=16);\n",
    "\n",
    "plt.subplot(1,2,2); \n",
    "plt.plot(train_diff);\n",
    "plt.title(\"Carbon Dioxide (ppm) : No seasonality AND 1 diff\", fontsize=16);"
   ]
  },
  {
   "cell_type": "markdown",
   "id": "ba3e913c",
   "metadata": {},
   "source": [
    "## Plot ACF/PACF, identify likely AR and MA orders p, q\n"
   ]
  },
  {
   "cell_type": "code",
   "execution_count": null,
   "id": "c1063c41",
   "metadata": {},
   "outputs": [],
   "source": [
    "fig, ax = plt.subplots(1, 2, figsize=(14, 5))\n",
    "plot_acf(train_diff, ax=ax[0], lags=20)\n",
    "plot_pacf(train_diff, ax=ax[1], lags=20)\n",
    "plt.show()"
   ]
  },
  {
   "cell_type": "markdown",
   "id": "c7473b0e",
   "metadata": {},
   "source": [
    "The AR **p** parameter would be **p = 1** (i.e 1 significant lag on PACF plot). <br>\n",
    "The I **d** parameter would be **d = 1** (i.e 1 differenciation).<br>\n",
    "The MA **q** parameter would be **q = 1** (i.e 1 significant lag on ACF plot). \n"
   ]
  },
  {
   "cell_type": "markdown",
   "id": "d75ce7f2",
   "metadata": {},
   "source": [
    "## Fitting ARIMA model\n"
   ]
  },
  {
   "cell_type": "code",
   "execution_count": null,
   "id": "5cd5d0cd",
   "metadata": {
    "scrolled": false
   },
   "outputs": [],
   "source": [
    "# Fitting ARIMA model\n",
    "p, d, q = 1, 1, 1\n",
    "\n",
    "# arima = ARIMA(train['co2_deseasonalized'], order=(p, d, q), trend='t')\n",
    "arima = ARIMA(endog = train['co2_deseasonalized'], order=(p, d, q))\n",
    "arima = arima.fit()"
   ]
  },
  {
   "cell_type": "code",
   "execution_count": null,
   "id": "0ed20ad8",
   "metadata": {
    "scrolled": false
   },
   "outputs": [],
   "source": [
    "# Summary \n",
    "arima.summary()"
   ]
  },
  {
   "cell_type": "markdown",
   "id": "33e74e43",
   "metadata": {},
   "source": [
    "## Check auto_Arima"
   ]
  },
  {
   "cell_type": "code",
   "execution_count": null,
   "id": "0089a872",
   "metadata": {
    "scrolled": true
   },
   "outputs": [],
   "source": [
    "import pmdarima as pm\n",
    "auto_arima = pm.auto_arima(train['co2_deseasonalized'],\n",
    "                       start_p=1, max_p=2,\n",
    "                       start_q=1, max_q=2,\n",
    "                       trend='t',\n",
    "                       seasonal=False,\n",
    "                       trace=True)"
   ]
  },
  {
   "cell_type": "code",
   "execution_count": null,
   "id": "7534ee4e",
   "metadata": {},
   "outputs": [],
   "source": [
    "# Best model orders \n",
    "auto_arima.order"
   ]
  },
  {
   "cell_type": "code",
   "execution_count": null,
   "id": "2fc3c89a",
   "metadata": {},
   "outputs": [],
   "source": [
    "# arima = ARIMA(train['co2_deseasonalized'], order=(p, d, q), trend='t')\n",
    "updated_arima = ARIMA(train['co2_deseasonalized'], order=auto_arima.order)\n",
    "updated_arima = updated_arima.fit()\n"
   ]
  },
  {
   "cell_type": "code",
   "execution_count": null,
   "id": "e622a47f",
   "metadata": {
    "scrolled": false
   },
   "outputs": [],
   "source": [
    "# Summary \n",
    "updated_arima.summary()"
   ]
  },
  {
   "cell_type": "markdown",
   "id": "75d776ca",
   "metadata": {},
   "source": [
    "## Check residuals\n"
   ]
  },
  {
   "cell_type": "code",
   "execution_count": null,
   "id": "9104de5f",
   "metadata": {
    "scrolled": false
   },
   "outputs": [],
   "source": [
    "residuals = pd.DataFrame(updated_arima.resid)\n",
    "fig, ax = plt.subplots(1,3, figsize=(16,3))\n",
    "residuals.plot(title=\"Residuals\", ax=ax[0])\n",
    "residuals.plot(kind='kde', title='Density', ax=ax[1]);\n",
    "stats.probplot(residuals[0], dist=\"norm\", plot=ax[2])     \n",
    "plt.show()"
   ]
  },
  {
   "cell_type": "markdown",
   "id": "8f709347",
   "metadata": {},
   "source": [
    "## Cross validation on ARIMA\n"
   ]
  },
  {
   "cell_type": "code",
   "execution_count": null,
   "id": "6afdbb32",
   "metadata": {},
   "outputs": [],
   "source": [
    "# Copy of data\n",
    "co2_levels_cross_val = co2_levels_copy"
   ]
  },
  {
   "cell_type": "code",
   "execution_count": null,
   "id": "39d9a5ff",
   "metadata": {},
   "outputs": [],
   "source": [
    "# Next up we need to split into a train and test set (we'll do an 80:20 split).\n",
    "# Let's keep the last 20% of the values out for testing purposes\n",
    "train_size = 0.8\n",
    "index = round(train_size*co2_levels_cross_val.shape[0])\n",
    "\n",
    "train_cv = co2_levels_cross_val.iloc[:index]\n",
    "test_cv = co2_levels_cross_val.iloc[index:]"
   ]
  },
  {
   "cell_type": "code",
   "execution_count": null,
   "id": "faecd269",
   "metadata": {},
   "outputs": [],
   "source": [
    "def create_arima_model(df):\n",
    "    import pmdarima as pm\n",
    "    \n",
    "    # Multiplicative Decomposition (y = Trend * Seasonal * Residuals)\n",
    "    result_mul = seasonal_decompose(df, model='multiplicative')\n",
    "\n",
    "    # Create a column with seasonality of co2 levels\n",
    "    df['co2_seasons'] = result_mul.seasonal\n",
    "\n",
    "    # Create a co2 levels without seasonality\n",
    "    df['co2_deseasonalized'] = df[\"Carbon Dioxide (ppm)\"] / df['co2_seasons']\n",
    "\n",
    "    # Search for the best model (i.e find p, d, q)     \n",
    "    auto_arima = pm.auto_arima(df['co2_deseasonalized'],\n",
    "                           start_p=1, max_p=2,\n",
    "                           start_q=1, max_q=2,\n",
    "                           trend='t',\n",
    "                           seasonal=False,\n",
    "                           trace=False)\n",
    "\n",
    "    # Create and fit the model    \n",
    "    updated_arima = ARIMA(df['co2_deseasonalized'], order=auto_arima.order)\n",
    "    updated_arima = updated_arima.fit()    \n",
    "    return updated_arima"
   ]
  },
  {
   "cell_type": "code",
   "execution_count": null,
   "id": "870141cb",
   "metadata": {},
   "outputs": [],
   "source": [
    "def evaluate_arima_mdl(train, test, arima_mdl):\n",
    "    # Retrieve the last seasonality from train to apply to test\n",
    "    seasonality_test = train[[\"co2_seasons\"]][-len(test):].reset_index().drop(columns=\"Year_Month\")\n",
    "    seasonality_test.index = test.index\n",
    "    \n",
    "    # Forecast values and confidence intervals\n",
    "    forecast_results = arima_mdl.get_forecast(len(test), alpha=0.05)\n",
    "    forecast = forecast_results.predicted_mean\n",
    "    confidence_int = forecast_results.conf_int().values\n",
    "\n",
    "    # Re-compose back to initial TS\n",
    "    forecast_recons_test = forecast * seasonality_test[\"co2_seasons\"]\n",
    "    lower_recons_test = confidence_int[:, 0] * seasonality_test[\"co2_seasons\"]\n",
    "    upper_recons_test = confidence_int[:, 1] * seasonality_test[\"co2_seasons\"]\n",
    "    \n",
    "    return forecast_recons_test, lower_recons_test, upper_recons_test"
   ]
  },
  {
   "cell_type": "code",
   "execution_count": null,
   "id": "c6935078",
   "metadata": {},
   "outputs": [],
   "source": [
    "def plot_final(train, train_label,\n",
    "               test, test_label,\n",
    "               forecast_recons, forecast_recons_label,\n",
    "               lower_recons, lower_recons_label,\n",
    "               upper_recons, upper_recons_label):\n",
    "    \n",
    "    fig, axs = plt.subplots(1, 2, figsize=(12, 5))\n",
    "    axs[0].plot(train, label=train_label)\n",
    "    axs[0].plot(test, label=test_label)\n",
    "    axs[0].plot(forecast_recons, label=forecast_recons_label)\n",
    "    axs[0].plot(lower_recons, label=lower_recons_label,ls='--')\n",
    "    axs[0].plot(upper_recons, label=upper_recons_label, ls='--')\n",
    "    axs[0].legend()\n",
    "    axs[0].set_xlabel('Date')\n",
    "    axs[0].set_title('Train data, test data and predictions')\n",
    "    axs[0].set_ylabel('Co2 level')\n",
    "\n",
    "    n_last =100\n",
    "    axs[1].plot(train[-n_last:], label=train_label)\n",
    "    axs[1].plot(test, label=test_label)\n",
    "    axs[1].plot(forecast_recons, label=forecast_recons_label)\n",
    "    axs[1].plot(lower_recons, label=lower_recons_label,ls='--')\n",
    "    axs[1].plot(upper_recons, label=upper_recons_label, ls='--')\n",
    "    axs[1].legend()\n",
    "    axs[1].set_xlabel('Date')\n",
    "    axs[1].set_title('ZOOM on train data, test data and predictions')\n",
    "    axs[1].set_ylabel('Co2 level')\n",
    "    "
   ]
  },
  {
   "cell_type": "code",
   "execution_count": null,
   "id": "3b4c4bdb",
   "metadata": {},
   "outputs": [],
   "source": [
    "def mean_absolute_percentage_error(y_true, y_pred):\n",
    "    y_true, y_pred = np.array(y_true), np.array(y_pred)\n",
    "    return np.mean(np.abs((y_true - y_pred) / y_true)) * 100"
   ]
  },
  {
   "cell_type": "code",
   "execution_count": null,
   "id": "cc72bb29",
   "metadata": {
    "scrolled": false
   },
   "outputs": [],
   "source": [
    "# Time Series Cross-Validation Setup\n",
    "cv = 5\n",
    "tscv = TimeSeriesSplit(n_splits=cv)\n",
    "\n",
    "mse, mae, rmse, mape = [],[],[],[]\n",
    "\n",
    "for train_index, test_index in tscv.split(co2_levels_cross_val):\n",
    "    train, test = co2_levels_cross_val.iloc[train_index], co2_levels_cross_val.iloc[test_index]\n",
    "    cross_validate_arima_model = create_arima_model(train)\n",
    "    forecast_recons_test,lower_recons_test, upper_recons_test = evaluate_arima_mdl(train, test,cross_validate_arima_model)\n",
    "    \n",
    "    mse.append(mean_squared_error(test, forecast_recons_test))\n",
    "    mae.append(mean_absolute_error(test, forecast_recons_test))\n",
    "    rmse.append(np.sqrt(mean_squared_error(test, forecast_recons_test)))\n",
    "    mape.append(mean_absolute_percentage_error(test,forecast_recons_test))\n",
    "    \n",
    "    plot_final(train[\"Carbon Dioxide (ppm)\"], \"Carbon Dioxide (ppm)\",\n",
    "           test, 'co2_levels_test',\n",
    "           forecast_recons_test,\"forecast_recons_test\",\n",
    "           lower_recons_test,\"lower_recons_test\",\n",
    "           upper_recons_test,\"upper_recons_test\")\n",
    "\n",
    "# Compute the metrics mean\n",
    "mse_arima_mean = np.mean(mse)\n",
    "mae_arima_mean = np.mean(mae)\n",
    "rmse_arima_mean = np.mean(rmse)\n",
    "mape_arima_mean = np.mean(mape)\n",
    "\n",
    "print('Evaluation metric results:-')\n",
    "print(f'MSE for ARIMA model is : {mse_arima_mean}')\n",
    "print(f'MAE for ARIMA model is : {mae_arima_mean}')\n",
    "print(f'RMSE for ARIMA model is : {rmse_arima_mean}')\n",
    "print(f'MAPE for ARIMA model is : {mape_arima_mean}')"
   ]
  },
  {
   "cell_type": "markdown",
   "id": "3360ce35",
   "metadata": {},
   "source": [
    "# Deep learning"
   ]
  },
  {
   "cell_type": "markdown",
   "id": "839b566c",
   "metadata": {},
   "source": [
    "## Data preparation\n"
   ]
  },
  {
   "cell_type": "code",
   "execution_count": null,
   "id": "f9a708b9",
   "metadata": {},
   "outputs": [],
   "source": [
    "def prepare_train_data(df, look_back=10):\n",
    "    '''\n",
    "    Scales the train data, then create sequences of train data.\n",
    "    Outputs : training data X, training target y and fitted scaler\n",
    "    '''\n",
    "    feature = ['Carbon Dioxide (ppm)']\n",
    "    scaler = StandardScaler()\n",
    "    scaled_data = scaler.fit_transform(df[feature])\n",
    "    X, y = [], []\n",
    "    for i in range(look_back, len(scaled_data)-1):\n",
    "        X.append(scaled_data[i-look_back:i])\n",
    "        y.append(scaled_data[i])       \n",
    "    return np.array(X), np.array(y), scaler"
   ]
  },
  {
   "cell_type": "code",
   "execution_count": null,
   "id": "7747047d",
   "metadata": {},
   "outputs": [],
   "source": [
    "def prepare_test_data(df, look_back=10, scaler=None):\n",
    "    '''\n",
    "    Scales the test data, then create sequences of test data.\n",
    "    Outputs : test data X, test target y and associated dates\n",
    "    '''\n",
    "    feature = ['Carbon Dioxide (ppm)']\n",
    "    scaled_data = scaler.transform(df[feature])\n",
    "    X, y = [], []\n",
    "    dates = []\n",
    "    for i in range(look_back, len(scaled_data)-1):\n",
    "        X.append(scaled_data[i-look_back:i])\n",
    "        y.append(scaled_data[i])   \n",
    "        dates.append(df.index[i])\n",
    "    return np.array(X), np.array(y), dates"
   ]
  },
  {
   "cell_type": "markdown",
   "id": "4283d719",
   "metadata": {},
   "source": [
    "## Model creation\n"
   ]
  },
  {
   "cell_type": "code",
   "execution_count": null,
   "id": "2fcd7bdf",
   "metadata": {},
   "outputs": [],
   "source": [
    "# Create LSTM model architecture\n",
    "def define_LSTM_model(sequence, feature):\n",
    "    '''\n",
    "    Defines the structure of the deep learning model, then defines compilation parameters.\n",
    "    Outputs LSTM model instance.\n",
    "    '''\n",
    "    # 1- RNN Architecture\n",
    "    model = Sequential()\n",
    "    model.add(layers.LSTM(units=500, activation='tanh',\n",
    "                          input_shape=(sequence,feature)))\n",
    "    model.add(layers.Dropout(rate=0.2))\n",
    "    model.add(layers.Dense(1, activation=\"linear\"))\n",
    "\n",
    "    # 2- Compilation\n",
    "    model.compile(loss='mse', optimizer='adam', \n",
    "                  metrics =['mse', 'mae', RootMeanSquaredError(), MeanAbsolutePercentageError()])\n",
    "    return model"
   ]
  },
  {
   "cell_type": "markdown",
   "id": "6f096c55",
   "metadata": {},
   "source": [
    "## Visualization"
   ]
  },
  {
   "cell_type": "code",
   "execution_count": null,
   "id": "9d2b8c82",
   "metadata": {},
   "outputs": [],
   "source": [
    "def plot_final_lstm(train, train_label,\n",
    "                   test, test_label,\n",
    "                   forecast_recons, forecast_recons_label):\n",
    "    '''\n",
    "    Plots the training data, the test data and the predictions from LSTM model.\n",
    "    Outputs : All the data on left side, a zoomed plot on latest data on the right side.\n",
    "    '''\n",
    "    \n",
    "    fig, axs = plt.subplots(1, 2, figsize=(12, 5))\n",
    "    axs[0].plot(train, label=train_label)\n",
    "    axs[0].plot(test, label=test_label)\n",
    "    axs[0].plot(forecast_recons, label=forecast_recons_label)\n",
    "    axs[0].legend()\n",
    "    axs[0].set_title('Train data, test data and predictions')\n",
    "    axs[0].set_xlabel('Date')\n",
    "    axs[0].set_ylabel('Co2 level')\n",
    "\n",
    "    n_last =100\n",
    "    axs[1].plot(train[-n_last:], label=train_label)\n",
    "    axs[1].plot(test, label=test_label)\n",
    "    axs[1].plot(forecast_recons, label=forecast_recons_label)\n",
    "    axs[1].legend()\n",
    "    axs[1].set_title('ZOOM on train data, test data and predictions')\n",
    "    axs[1].set_xlabel('Date')\n",
    "    axs[1].set_ylabel('Co2 level')"
   ]
  },
  {
   "cell_type": "markdown",
   "id": "e0f7f1e2",
   "metadata": {},
   "source": [
    "## Cross validation on LSTM model\n",
    "\n"
   ]
  },
  {
   "cell_type": "code",
   "execution_count": null,
   "id": "de546be3",
   "metadata": {},
   "outputs": [],
   "source": [
    "# Parameters \n",
    "# window = 50\n",
    "window = 1 # Unit : month\n",
    "feature = 1 # feature : CO2 level\n",
    "\n",
    "#Create model     \n",
    "lstm_model = define_LSTM_model(window, feature)"
   ]
  },
  {
   "cell_type": "code",
   "execution_count": null,
   "id": "3ff20222",
   "metadata": {
    "scrolled": false
   },
   "outputs": [],
   "source": [
    "%%time \n",
    "\n",
    "# Time Series Cross-Validation Setup\n",
    "tscv = TimeSeriesSplit(n_splits=cv)\n",
    "\n",
    "mse_lstm, mae_lstm, rmse_lstm, mape_lstm = [],[],[],[]\n",
    "\n",
    "for train_index, test_index in tscv.split(co2_levels_cross_val):\n",
    "    '''\n",
    "    Cross validates the LSTM model.\n",
    "    1. Create train dataset and test dataset\n",
    "    2. Prepare train data and test data (scaling, sequences)\n",
    "    3. Fit the LSTM model on the train (scaled) data\n",
    "    4. Predict unseen data (i.e based on test set)\n",
    "    5. Inverse scaling of scaled test and also predictions\n",
    "    6. Compute metrics\n",
    "    7. Plots the training data, the test data and the predictions from LSTM model and outputs : All the data on left side, a zoomed plot on latest data on the right side.\n",
    "    '''\n",
    "    \n",
    "    #Create train set and test set     \n",
    "    train, test = co2_levels_cross_val.iloc[train_index], co2_levels_cross_val.iloc[test_index]\n",
    "    \n",
    "    #Prepare data\n",
    "    X_train_scaled, y_train_scaled, scaler = prepare_train_data(train, window)\n",
    "    X_test_scaled, y_test_scaled, dates = prepare_test_data(test, window, scaler)\n",
    "    \n",
    "    # Fitting model parameter\n",
    "    es = EarlyStopping(patience = 30, restore_best_weights=True)\n",
    "\n",
    "    # Fitting model\n",
    "    history = lstm_model.fit(x=X_train_scaled,\n",
    "                        y=y_train_scaled,\n",
    "                        batch_size=16,\n",
    "                        epochs=1000,\n",
    "                        verbose=0,\n",
    "                        callbacks=[es],\n",
    "                        validation_split=0.3,\n",
    "                        shuffle=False)\n",
    "    \n",
    "    # Predictions from unseen data\n",
    "    y_pred = lstm_model.predict(X_test_scaled)\n",
    "    y_pred = scaler.inverse_transform(y_pred)   \n",
    "    y_pred_df = pd.DataFrame(y_pred, index=dates)\n",
    "\n",
    "    # Compute y_test (no scaling)\n",
    "    y_test = scaler.inverse_transform(y_test_scaled)\n",
    "    y_test_df = pd.DataFrame(y_test, index=dates)\n",
    "\n",
    "    # Compute metrics     \n",
    "    mse_lstm.append(mean_squared_error(y_test_df, y_pred_df))\n",
    "    mae_lstm.append(mean_absolute_error(y_test_df, y_pred_df))\n",
    "    rmse_lstm.append(np.sqrt(mean_squared_error(y_test_df, y_pred_df)))\n",
    "    mape_lstm.append(mean_absolute_percentage_error(y_test_df,y_pred_df))\n",
    "    \n",
    "    # Plotting     \n",
    "    plot_final_lstm(train, \"training data\",\n",
    "                   y_test_df, \"test data\",\n",
    "                   y_pred_df, \"predictions\")\n",
    "\n",
    "# Compute the metrics mean\n",
    "mse_lstm_mean = np.mean(mse_lstm)\n",
    "mae_lstm_mean = np.mean(mae_lstm)\n",
    "rmse_lstm_mean = np.mean(rmse_lstm)\n",
    "mape_lstm_mean = np.mean(mape_lstm)\n",
    "\n",
    "print('Evaluation metric results:-')\n",
    "print(f'MSE for LSTM model is : {mse_lstm_mean}')\n",
    "print(f'MAE for LSTM model is : {mae_lstm_mean}')\n",
    "print(f'RMSE for LSTM model is : {rmse_lstm_mean}')\n",
    "print(f'MAPE for LSTM model is : {mape_lstm_mean}')"
   ]
  },
  {
   "cell_type": "markdown",
   "id": "cdd25c41",
   "metadata": {},
   "source": [
    "# Comparison between ARIMA and LSTM models\n"
   ]
  },
  {
   "cell_type": "code",
   "execution_count": null,
   "id": "ad401be5",
   "metadata": {},
   "outputs": [],
   "source": [
    "compar = {}\n",
    "compar['Model'] = ['Arima', 'LSTM']\n",
    "compar['Mean MSE'] = [mse_arima_mean, mse_lstm_mean]\n",
    "compar['Mean MAE'] = [mae_arima_mean, mae_lstm_mean]\n",
    "compar['Mean RMSE'] = [rmse_arima_mean, rmse_lstm_mean]\n",
    "compar['Mean MAPE'] = [mape_arima_mean, mape_lstm_mean]\n",
    "\n",
    "compar_df = pd.DataFrame(compar).sort_values('Mean MAPE', ascending=True)\n",
    "compar_df"
   ]
  },
  {
   "cell_type": "markdown",
   "id": "e36f5a7b",
   "metadata": {},
   "source": [
    "The LSTM model has the lowest mean MAPE, as well as for the other metrics.\n"
   ]
  },
  {
   "cell_type": "markdown",
   "id": "fab2d83c",
   "metadata": {},
   "source": [
    "Let's use the **LSTM model** for our application.\n"
   ]
  },
  {
   "cell_type": "markdown",
   "id": "ae34fa5f",
   "metadata": {},
   "source": [
    "# Final model\n"
   ]
  },
  {
   "cell_type": "markdown",
   "id": "f5dcde45",
   "metadata": {},
   "source": [
    "## Prepare data\n"
   ]
  },
  {
   "cell_type": "code",
   "execution_count": null,
   "id": "a32533b2",
   "metadata": {},
   "outputs": [],
   "source": [
    "# Parameters \n",
    "# window = 50\n",
    "window = 1\n",
    "feature = 1"
   ]
  },
  {
   "cell_type": "code",
   "execution_count": null,
   "id": "1db4a880",
   "metadata": {},
   "outputs": [],
   "source": [
    "# Next up we need to split into a train and test set (we'll do an 80:20 split).\n",
    "# Let's keep the last 20% of the values out for testing purposes\n",
    "train_size = 0.8\n",
    "index = round(train_size*co2_levels.shape[0])\n",
    "\n",
    "train = co2_levels.iloc[:index]\n",
    "test = co2_levels.iloc[index:]"
   ]
  },
  {
   "cell_type": "code",
   "execution_count": null,
   "id": "99aeeafb",
   "metadata": {},
   "outputs": [],
   "source": [
    "#Prepare data\n",
    "X_train_scaled, y_train_scaled, scaler = prepare_train_data(train, window)\n",
    "X_test_scaled, y_test_scaled, dates = prepare_test_data(test, window, scaler)"
   ]
  },
  {
   "cell_type": "code",
   "execution_count": null,
   "id": "440eeaf9",
   "metadata": {
    "scrolled": false
   },
   "outputs": [],
   "source": [
    "%%time \n",
    "# Instantiate model\n",
    "final_model = define_LSTM_model(window, feature)\n",
    "\n",
    "# Fitting model parameter\n",
    "es = EarlyStopping(patience = 30, restore_best_weights=True)\n",
    "\n",
    "# Fitting model\n",
    "history = final_model.fit(x=X_train_scaled,\n",
    "                            y=y_train_scaled,\n",
    "                            batch_size=16,\n",
    "                            epochs=1000,\n",
    "                            verbose=0,\n",
    "                            callbacks=[es],\n",
    "                            validation_split=0.3,\n",
    "                            shuffle=False)"
   ]
  },
  {
   "cell_type": "code",
   "execution_count": null,
   "id": "2ac25f1c",
   "metadata": {
    "scrolled": true
   },
   "outputs": [],
   "source": [
    "final_model.summary()"
   ]
  },
  {
   "cell_type": "code",
   "execution_count": null,
   "id": "e3e4c52c",
   "metadata": {},
   "outputs": [],
   "source": [
    "# Function definition for visualization of history\n",
    "def plot_loss_metric(history, metric, title=None):\n",
    "    fig, ax = plt.subplots(1,2, figsize=(20,7))\n",
    "\n",
    "    # --- LOSS --- \n",
    "\n",
    "    ax[0].plot(history.history['loss'])\n",
    "    ax[0].plot(history.history['val_loss'])\n",
    "\n",
    "    ax[0].set_title('Model loss')\n",
    "    ax[0].set_ylabel('Loss')\n",
    "    ax[0].set_xlabel('Epoch')\n",
    "\n",
    "    min_loss = min(min(history.history['loss']),min(history.history['val_loss']))\n",
    "    max_loss = max(max(history.history['loss']),max(history.history['val_loss']))\n",
    "    ax[0].set_ylim((min_loss,max_loss))\n",
    "\n",
    "    ax[0].legend(['Train', 'Test'], loc='best')\n",
    "\n",
    "    ax[0].grid(axis=\"x\",linewidth=0.5)\n",
    "    ax[0].grid(axis=\"y\",linewidth=0.5)\n",
    "\n",
    "    # --- METRIC\n",
    "\n",
    "    ax[1].plot(history.history[metric])\n",
    "    ax[1].plot(history.history[f'val_{metric}'])\n",
    "\n",
    "    ax[1].set_title(f'Model {metric}')\n",
    "    ax[1].set_ylabel(metric)\n",
    "    \n",
    "    ax[1].set_xlabel('Epoch')\n",
    "\n",
    "    ax[1].legend(['Train', 'Test'], loc='best')\n",
    "    \n",
    "    min_metric = min(min(history.history[metric]),min(history.history[f'val_{metric}']))\n",
    "    max_metric = max(max(history.history[metric]),max(history.history[f'val_{metric}']))\n",
    "    ax[1].set_ylim((min_metric,max_metric))\n",
    "\n",
    "    ax[1].grid(axis=\"x\",linewidth=0.5)\n",
    "    ax[1].grid(axis=\"y\",linewidth=0.5)\n",
    "\n",
    "    if title:\n",
    "        fig.suptitle(title)"
   ]
  },
  {
   "cell_type": "code",
   "execution_count": null,
   "id": "803dbc5c",
   "metadata": {},
   "outputs": [],
   "source": [
    "# Visualization of history\n",
    "plot_loss_metric(history, 'mse')\n",
    "\n",
    "# Visualization of history\n",
    "plot_loss_metric(history, 'mae')\n",
    "\n",
    "# Visualization of history\n",
    "plot_loss_metric(history, 'root_mean_squared_error')\n",
    "\n",
    "# Visualization of history\n",
    "plot_loss_metric(history, 'mean_absolute_percentage_error')"
   ]
  },
  {
   "cell_type": "markdown",
   "id": "2f76fccf",
   "metadata": {},
   "source": [
    "## Evaluate model\n"
   ]
  },
  {
   "cell_type": "code",
   "execution_count": null,
   "id": "6bf9a4b0",
   "metadata": {
    "scrolled": true
   },
   "outputs": [],
   "source": [
    "# Evaluate model on unseen data (X_test)\n",
    "final_model.evaluate(X_test_scaled, y_test_scaled)"
   ]
  },
  {
   "cell_type": "markdown",
   "id": "91b15c68",
   "metadata": {},
   "source": [
    "## Predictions\n"
   ]
  },
  {
   "cell_type": "code",
   "execution_count": null,
   "id": "c8ddca49",
   "metadata": {},
   "outputs": [],
   "source": [
    "# Predictions from unseen data\n",
    "y_pred = final_model.predict(X_test_scaled)\n",
    "y_pred = scaler.inverse_transform(y_pred)\n",
    "\n",
    "# Shape\n",
    "print(f\"Shape of y_pred : {y_pred.shape}\")"
   ]
  },
  {
   "cell_type": "code",
   "execution_count": null,
   "id": "3eeb4f9d",
   "metadata": {},
   "outputs": [],
   "source": [
    "y_pred_df = pd.DataFrame(y_pred, index=dates)\n",
    "y_pred_df.head()"
   ]
  },
  {
   "cell_type": "code",
   "execution_count": null,
   "id": "ceded08a",
   "metadata": {},
   "outputs": [],
   "source": [
    "# Compute y_test (no scaling)\n",
    "y_test = scaler.inverse_transform(y_test_scaled)"
   ]
  },
  {
   "cell_type": "code",
   "execution_count": null,
   "id": "4fb4c3c1",
   "metadata": {
    "scrolled": true
   },
   "outputs": [],
   "source": [
    "y_test_df = pd.DataFrame(y_test, index=dates)\n",
    "y_test_df.head()"
   ]
  },
  {
   "cell_type": "code",
   "execution_count": null,
   "id": "98a90405",
   "metadata": {
    "scrolled": false
   },
   "outputs": [],
   "source": [
    "# Plotting     \n",
    "plot_final_lstm(train, \"training data\",\n",
    "               y_test_df, \"test data\",\n",
    "               y_pred_df, \"predictions\")"
   ]
  },
  {
   "cell_type": "markdown",
   "id": "6b1512c3",
   "metadata": {},
   "source": [
    "# Testing a single value\n",
    "\n"
   ]
  },
  {
   "cell_type": "code",
   "execution_count": null,
   "id": "8a18fff9",
   "metadata": {},
   "outputs": [],
   "source": [
    "def prepare_single_value(value, scaler, model):\n",
    "    '''\n",
    "    Scales a single value of data, then creates a sequence of 1 unique value.\n",
    "    Outputs : prediction from model\n",
    "    '''\n",
    "    val = np.array([[value]])\n",
    "    val = scaler.transform(val)\n",
    "    val = val.reshape(1, 1, 1)\n",
    "    prediction = model.predict(val)\n",
    "    prediction = scaler.inverse_transform(prediction)\n",
    "    return prediction\n"
   ]
  },
  {
   "cell_type": "code",
   "execution_count": null,
   "id": "fbee204d",
   "metadata": {},
   "outputs": [],
   "source": [
    "# Test 1 single value of Carbon dioxide level\n",
    "test_value = 400\n",
    "prepare_single_value(test_value, scaler, final_model)"
   ]
  },
  {
   "cell_type": "markdown",
   "id": "1a0d65d7",
   "metadata": {},
   "source": [
    "# Saving scaler and model\n"
   ]
  },
  {
   "cell_type": "markdown",
   "id": "5f0b505e",
   "metadata": {},
   "source": [
    "## Save the scaler"
   ]
  },
  {
   "cell_type": "code",
   "execution_count": null,
   "id": "1b053213",
   "metadata": {},
   "outputs": [],
   "source": [
    "# Saving the scaler fitted on train data (if new values, fit the scaler before using the LSTM model)\n",
    "final_scaler = StandardScaler()\n",
    "final_scaler.fit(train)  # Fit only on training data\n",
    "joblib.dump(final_scaler, \"../data/processed_data/my_final_scaler.pkl\")"
   ]
  },
  {
   "cell_type": "markdown",
   "id": "17a3b02f",
   "metadata": {},
   "source": [
    "## Save the model"
   ]
  },
  {
   "cell_type": "code",
   "execution_count": null,
   "id": "c3474ed0",
   "metadata": {},
   "outputs": [],
   "source": [
    "# Saving the best model\n",
    "joblib.dump(final_model, \"../data/processed_data/my_LSTM_model.pkl\")"
   ]
  },
  {
   "cell_type": "markdown",
   "id": "1b12354a",
   "metadata": {},
   "source": [
    "# Loading the scaler and the model\n"
   ]
  },
  {
   "cell_type": "markdown",
   "id": "5e63555b",
   "metadata": {},
   "source": [
    "## Load the scaler"
   ]
  },
  {
   "cell_type": "code",
   "execution_count": null,
   "id": "c79224ba",
   "metadata": {},
   "outputs": [],
   "source": [
    "# Reloading the saved scaler\n",
    "final_scaler_reloaded = joblib.load(\"../data/processed_data/my_final_scaler.pkl\")  # Load the saved scaler"
   ]
  },
  {
   "cell_type": "markdown",
   "id": "13b26308",
   "metadata": {},
   "source": [
    "## Load the model\n"
   ]
  },
  {
   "cell_type": "code",
   "execution_count": null,
   "id": "16c1ecb0",
   "metadata": {},
   "outputs": [],
   "source": [
    "# Reloading the saved model\n",
    "final_model_reloaded = joblib.load(\"../data/processed_data/my_LSTM_model.pkl\")"
   ]
  },
  {
   "cell_type": "markdown",
   "id": "529754de",
   "metadata": {},
   "source": [
    "# Make new prediction"
   ]
  },
  {
   "cell_type": "code",
   "execution_count": null,
   "id": "877e022a",
   "metadata": {},
   "outputs": [],
   "source": [
    "# Make new predictions of Carbon dioxide level\n",
    "test_new_value = 400\n",
    "prepare_single_value(test_new_value, final_scaler_reloaded, final_model_reloaded)"
   ]
  }
 ],
 "metadata": {
  "kernelspec": {
   "display_name": "Python 3 (ipykernel)",
   "language": "python",
   "name": "python3"
  },
  "language_info": {
   "codemirror_mode": {
    "name": "ipython",
    "version": 3
   },
   "file_extension": ".py",
   "mimetype": "text/x-python",
   "name": "python",
   "nbconvert_exporter": "python",
   "pygments_lexer": "ipython3",
   "version": "3.10.6"
  },
  "toc": {
   "base_numbering": 1,
   "nav_menu": {},
   "number_sections": true,
   "sideBar": true,
   "skip_h1_title": false,
   "title_cell": "Table of Contents",
   "title_sidebar": "Contents",
   "toc_cell": false,
   "toc_position": {
    "height": "calc(100% - 180px)",
    "left": "10px",
    "top": "150px",
    "width": "338.328px"
   },
   "toc_section_display": true,
   "toc_window_display": true
  },
  "varInspector": {
   "cols": {
    "lenName": 16,
    "lenType": 16,
    "lenVar": 40
   },
   "kernels_config": {
    "python": {
     "delete_cmd_postfix": "",
     "delete_cmd_prefix": "del ",
     "library": "var_list.py",
     "varRefreshCmd": "print(var_dic_list())"
    },
    "r": {
     "delete_cmd_postfix": ") ",
     "delete_cmd_prefix": "rm(",
     "library": "var_list.r",
     "varRefreshCmd": "cat(var_dic_list()) "
    }
   },
   "types_to_exclude": [
    "module",
    "function",
    "builtin_function_or_method",
    "instance",
    "_Feature"
   ],
   "window_display": false
  }
 },
 "nbformat": 4,
 "nbformat_minor": 5
}
