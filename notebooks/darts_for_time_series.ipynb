{
 "cells": [
  {
   "cell_type": "markdown",
   "id": "1492994b",
   "metadata": {
    "id": "860f20b3"
   },
   "source": [
    "# 🎯 **Introduction to Darts: A Time Series Library** 📈\n",
    "\n",
    "🔍 **What is Darts?**\n",
    "Darts is an amazing Python library that specializes in time series analysis and forecasting. 🕒 It provides a wide range of functionality and tools for working with time series data, making it an essential package for anyone interested in exploring and modeling temporal patterns. 💪\n",
    "\n",
    "🌟 **Why is Darts Good?**\n",
    "Darts stands out for several reasons:\n",
    "\n",
    "1. **User-Friendly**: Darts is designed to be beginner-friendly, making it accessible to students and researchers new to time series analysis. 📚\n",
    "\n",
    "2. **Extensive Functionality**: It offers a vast array of tools, models, and algorithms for time series manipulation, forecasting, and evaluation. 🧰\n",
    "\n",
    "3. **Integration with Pandas**: Darts seamlessly integrates with the widely-used pandas library, allowing users to leverage the power of Pandas' DataFrames for time series handling. 🐼\n",
    "\n",
    "4. **Visualization Capabilities**: Darts provides intuitive plotting functions, enabling users to visualize time series and forecasted values effortlessly. 📊\n",
    "\n",
    "5. **Modularity and Extendability**: Darts follows a modular design, making it easy to combine and extend functionalities, enabling users to experiment with different models and techniques. 🧩"
   ]
  },
  {
   "cell_type": "markdown",
   "id": "10a185bc",
   "metadata": {
    "id": "2b3c46a4"
   },
   "source": [
    "### Set-up:"
   ]
  },
  {
   "cell_type": "markdown",
   "id": "bd671bbd",
   "metadata": {},
   "source": [
    "💀💀💀 If you are working with an M1/ M2 chip you'll need to run this notebook on Colab since Darts does not yet work on silicon architecture! 💀💀💀"
   ]
  },
  {
   "cell_type": "code",
   "execution_count": null,
   "id": "40880c49",
   "metadata": {
    "colab": {
     "base_uri": "https://localhost:8080/"
    },
    "id": "1aed58c6",
    "outputId": "6dee32fe-d17a-4de4-aebe-d14520f80c41"
   },
   "outputs": [],
   "source": [
    "!pip install darts --quiet\n",
    "\n",
    "import darts\n",
    "print(f\"Darts version: {darts.__version__}\")\n"
   ]
  },
  {
   "cell_type": "markdown",
   "id": "a8f6b329",
   "metadata": {
    "id": "2f5c17d4"
   },
   "source": [
    "2. **Loading and Visualizing Time Series Data with Pandas and Darts** 📊\n",
    "   - Import the necessary libraries.\n",
    "   - Load sample [weather](https://wagon-public-datasets.s3.amazonaws.com/weather.csv) and [ice cream](https://wagon-public-datasets.s3.amazonaws.com/ice_cream.csv) time series dataset. This is pulled from [Google Trends](https://trends.google.com/trends/)! We've just taken data for searches on \"ice cream\" and \"hot weather\" from 2004. Feel free to check out your own data-sets down the line!\n",
    "   - Demonstrate how to create a Darts TimeSeries object from a Pandas DataFrame.\n",
    "   - Plot the time series using Darts' visualization capabilities."
   ]
  },
  {
   "cell_type": "code",
   "execution_count": null,
   "id": "3e6fffb3",
   "metadata": {
    "colab": {
     "base_uri": "https://localhost:8080/",
     "height": 206
    },
    "id": "c2b798ee-096d-4934-9fca-877c7c054213",
    "outputId": "73cd7051-6485-4c64-fdff-7871a5feca1d"
   },
   "outputs": [],
   "source": [
    "import pandas as pd\n",
    "\n",
    "# Load a sample time series dataset\n",
    "# Skip the first 2 rows when reading the CSV\n",
    "df = pd.read_csv(\"ice_cream.csv\", header=1, names=['Month', 'ice_cream'])\n",
    "print(df.shape)\n",
    "df.head()"
   ]
  },
  {
   "cell_type": "markdown",
   "id": "c9832a05",
   "metadata": {},
   "source": [
    "First up let's see how easy it is to load up our time series in a TimeSeries object and plot it!"
   ]
  },
  {
   "cell_type": "code",
   "execution_count": null,
   "id": "6539d3ea",
   "metadata": {
    "colab": {
     "base_uri": "https://localhost:8080/"
    },
    "id": "8bcc1ae0-bbbb-4b2d-9fa5-378f94ec8dda",
    "outputId": "cc8f1b65-5863-4dc6-a022-32985be5208e",
    "tags": []
   },
   "outputs": [],
   "source": [
    "from darts import TimeSeries\n",
    "series = TimeSeries.from_dataframe(df, 'Month', 'ice_cream')\n",
    "series.plot()"
   ]
  },
  {
   "cell_type": "markdown",
   "id": "b2df50b0",
   "metadata": {},
   "source": [
    "Uh oh - looks like we have some issues and missing values 😔 This is a super common issue with many time series! Let's move on to preprocessing to showcase some methods for handling issues like these!"
   ]
  },
  {
   "cell_type": "markdown",
   "id": "47da9640",
   "metadata": {
    "id": "a11fa28e"
   },
   "source": [
    "### **Manipulating Time Series Data** 🔄\n",
    "   - Showcase various operations for manipulating time series data:\n",
    "     - Resampling and frequency conversion.\n",
    "     - Handling missing values.\n",
    "     - Applying rolling window calculations.\n",
    "     - Feature engineering."
   ]
  },
  {
   "cell_type": "code",
   "execution_count": null,
   "id": "6320dd37",
   "metadata": {
    "id": "0eaf5a71-2596-43fb-a55e-c253e7effeaf"
   },
   "outputs": [],
   "source": [
    "from darts.utils.missing_values import fill_missing_values\n",
    "series = fill_missing_values(series)"
   ]
  },
  {
   "cell_type": "code",
   "execution_count": null,
   "id": "7badb606",
   "metadata": {
    "colab": {
     "base_uri": "https://localhost:8080/",
     "height": 461
    },
    "id": "05dfd8b3-f174-4b8c-bcdb-dc16052c130d",
    "outputId": "12bfea75-b7b0-40c3-9000-fed1285eedff"
   },
   "outputs": [],
   "source": [
    "series.plot()"
   ]
  },
  {
   "cell_type": "markdown",
   "id": "35307cc7",
   "metadata": {
    "id": "42b96890-b774-4c8e-bfaf-b901ff209601"
   },
   "source": [
    "Easy! What if we want to plot our data on an annual basis instead? We can just resample!"
   ]
  },
  {
   "cell_type": "code",
   "execution_count": null,
   "id": "36f704dc",
   "metadata": {
    "id": "86152e15-c9a7-46ef-9eac-5e1735abcb1d"
   },
   "outputs": [],
   "source": [
    "# Resampling and frequency conversion\n",
    "resampled_example = series.resample(\"Y\")"
   ]
  },
  {
   "cell_type": "code",
   "execution_count": null,
   "id": "55a583a5",
   "metadata": {
    "colab": {
     "base_uri": "https://localhost:8080/",
     "height": 461
    },
    "id": "8ab289c8-4ac0-4bc2-a9da-bd90e3d9e8f0",
    "outputId": "e0f462be-0606-4f70-a432-9a7f217ad0cd"
   },
   "outputs": [],
   "source": [
    "resampled_example.plot()"
   ]
  },
  {
   "cell_type": "code",
   "execution_count": null,
   "id": "d292c877",
   "metadata": {
    "id": "86988b83-214e-4bec-8bf7-ceab435375c6"
   },
   "outputs": [],
   "source": [
    "# Applying rolling window calculations\n",
    "rolling_mean_example = series.window_transform({\"function\":\"mean\", \"window\": 6})"
   ]
  },
  {
   "cell_type": "code",
   "execution_count": null,
   "id": "d8d7e922",
   "metadata": {
    "colab": {
     "base_uri": "https://localhost:8080/",
     "height": 463
    },
    "id": "089a8df1-e7f6-485e-b7a7-948a1640667b",
    "outputId": "d8f3a18e-39a2-44d9-df1b-20d31cc30526"
   },
   "outputs": [],
   "source": [
    "rolling_mean_example.plot()"
   ]
  },
  {
   "cell_type": "markdown",
   "id": "d6acde77",
   "metadata": {
    "id": "b2fd0ac8-a626-4d3a-b512-a9e99dd2daa3"
   },
   "source": [
    "We can diff our series just like we did with Pandas earlier"
   ]
  },
  {
   "cell_type": "code",
   "execution_count": null,
   "id": "bc3fb5ac",
   "metadata": {
    "id": "3785e3b3-8ab8-4515-b762-3297cd715067"
   },
   "outputs": [],
   "source": [
    "# Feature engineering\n",
    "diff_example = series.diff()"
   ]
  },
  {
   "cell_type": "code",
   "execution_count": null,
   "id": "89438a54",
   "metadata": {
    "colab": {
     "base_uri": "https://localhost:8080/",
     "height": 461
    },
    "id": "cb60cc35-23da-48db-acb6-1dd5d3921b10",
    "outputId": "90de03d2-731a-4334-e6fa-6c0364628d92"
   },
   "outputs": [],
   "source": [
    "diff_example.plot()"
   ]
  },
  {
   "cell_type": "markdown",
   "id": "0cd523fe",
   "metadata": {
    "id": "27b9e865-4a0c-4efd-b080-9213805163d6"
   },
   "source": [
    "We can even add holidays to our time series with a quick method - this will add a simple 0 or 1 based on whether or not there was a national holiday on that day. If we wanted, we can then use this to spot more correlations later!"
   ]
  },
  {
   "cell_type": "code",
   "execution_count": null,
   "id": "e600efc3",
   "metadata": {
    "id": "e3632c8d-e196-4071-bfa3-7ffd297d27bb"
   },
   "outputs": [],
   "source": [
    "hol_example = series.add_holidays(\"US\")"
   ]
  },
  {
   "cell_type": "code",
   "execution_count": null,
   "id": "9bc9cd39",
   "metadata": {
    "colab": {
     "base_uri": "https://localhost:8080/",
     "height": 461
    },
    "id": "1917842e-b654-4d4f-b29f-2a9274dc1930",
    "outputId": "1fb77abb-c011-47d9-b908-d7c1c091bac1"
   },
   "outputs": [],
   "source": [
    "hol_example.plot()"
   ]
  },
  {
   "cell_type": "markdown",
   "id": "a12b27fc",
   "metadata": {
    "id": "ad6beb3e"
   },
   "source": [
    "### Time Series Modeling and Forecasting ⏳\n",
    "   - Now we can split our data and begin modelling:\n",
    "     - Naive models (e.g., NaiveSeasonal).\n",
    "     - Classical models (e.g., ExponentialSmoothing).\n",
    "     - Machine learning models (e.g., Prophet, ARIMA).\n",
    "   - Demonstrate how to fit models to time series data and generate forecasts."
   ]
  },
  {
   "cell_type": "markdown",
   "id": "01f4bdf7",
   "metadata": {
    "id": "06a9758e-ef5b-42cf-9598-656d5364662a"
   },
   "source": [
    "First let's standardize and log our time series since it seems to have an exponential trend"
   ]
  },
  {
   "cell_type": "code",
   "execution_count": null,
   "id": "794a4810",
   "metadata": {
    "id": "91246744-33b9-4aaf-a323-42141686245f"
   },
   "outputs": [],
   "source": [
    "import numpy as np\n",
    "logged = (series).map(lambda x: np.log(x))"
   ]
  },
  {
   "cell_type": "code",
   "execution_count": null,
   "id": "c653709e",
   "metadata": {
    "id": "33cafcac-de8c-4440-beb1-da3bdc9fb94e"
   },
   "outputs": [],
   "source": [
    "from darts.dataprocessing.transformers.scaler import Scaler"
   ]
  },
  {
   "cell_type": "markdown",
   "id": "3c81dc43",
   "metadata": {},
   "source": [
    "Next we can easily implement a MinMaxScaler() for our data (in this case - all Google Trends are standardized to 100 so we could just divide by 100, but it's useful to demonstrate!)"
   ]
  },
  {
   "cell_type": "code",
   "execution_count": null,
   "id": "502ff36b",
   "metadata": {
    "id": "0ba23a47-d6f7-4e31-80ef-f78601dde911"
   },
   "outputs": [],
   "source": [
    "from sklearn.preprocessing import MinMaxScaler"
   ]
  },
  {
   "cell_type": "code",
   "execution_count": null,
   "id": "6af50b29",
   "metadata": {
    "id": "a43dd128-783e-4fcb-adfb-09cf51d7eeea"
   },
   "outputs": [],
   "source": [
    "scaler = MinMaxScaler()"
   ]
  },
  {
   "cell_type": "code",
   "execution_count": null,
   "id": "49a76376",
   "metadata": {
    "id": "c83c141d-c85e-4867-9e8a-f20482f7b3a3"
   },
   "outputs": [],
   "source": [
    "ts_transformer = Scaler(scaler)"
   ]
  },
  {
   "cell_type": "code",
   "execution_count": null,
   "id": "5db474f6",
   "metadata": {
    "id": "c6350e60-ff17-479b-af7e-cb61fc604292"
   },
   "outputs": [],
   "source": [
    "scaled_ts = ts_transformer.fit_transform(logged)"
   ]
  },
  {
   "cell_type": "code",
   "execution_count": null,
   "id": "f5127d99",
   "metadata": {
    "colab": {
     "base_uri": "https://localhost:8080/",
     "height": 461
    },
    "id": "ff0aa2c2-087d-4eea-b496-25fe2f5fe7b2",
    "outputId": "33aab9ef-823a-4457-b13c-3ec2ee037f17"
   },
   "outputs": [],
   "source": [
    "train, val = (scaled_ts).split_before(0.8)# (we standardize by dividing by 100 since Google Trends data tops out at 100 by default!)\n",
    "train.plot(label=\"training\")\n",
    "val.plot(label=\"validation\")"
   ]
  },
  {
   "cell_type": "markdown",
   "id": "e8c56ccf",
   "metadata": {
    "id": "82705680-d995-424c-aa75-20f92ba34559"
   },
   "source": [
    "First, let's define our baseline model with a NaiveSeasonal model (when K = 1 it will simply repeat the prior timestep!)"
   ]
  },
  {
   "cell_type": "code",
   "execution_count": null,
   "id": "a816f30d",
   "metadata": {
    "colab": {
     "base_uri": "https://localhost:8080/",
     "height": 461
    },
    "id": "b02210d9-89b0-4ca1-869a-182f8acedb39",
    "outputId": "56a8ee4d-52a3-4b7e-90ff-fb4d5a5f2b3b"
   },
   "outputs": [],
   "source": [
    "from darts.models import NaiveSeasonal\n",
    "\n",
    "naive_model = NaiveSeasonal(K=1)\n",
    "naive_model.fit(train)\n",
    "naive_forecast = naive_model.predict(len(val))\n",
    "\n",
    "train.plot(label=\"actual\")\n",
    "val.plot(label = \"validation\")\n",
    "naive_forecast.plot(label=\"naive forecast (K=1)\")"
   ]
  },
  {
   "cell_type": "markdown",
   "id": "faca32ac",
   "metadata": {
    "id": "5130404f-4ca0-49d6-b71c-c054f781dc10"
   },
   "source": [
    "Not great! Let's quantify our baseline with MAPE."
   ]
  },
  {
   "cell_type": "code",
   "execution_count": null,
   "id": "51517d09",
   "metadata": {
    "colab": {
     "base_uri": "https://localhost:8080/"
    },
    "id": "848c515b-05ac-4b2d-bb53-65f87e04e43f",
    "outputId": "a328b2c3-ba79-47ca-8d6f-12778569e03f"
   },
   "outputs": [],
   "source": [
    "from darts.metrics import mape\n",
    "\n",
    "accuracy = mape(val, naive_forecast)\n",
    "print(f\"Mean Absolute Percentage Error: {accuracy}\")"
   ]
  },
  {
   "cell_type": "markdown",
   "id": "3ae08b80",
   "metadata": {
    "id": "2333f394-219d-44f9-baaf-b8b3297a156c"
   },
   "source": [
    "Should be quite an easy baseline to beat! Let's try using an Exponential Smoothing model first"
   ]
  },
  {
   "cell_type": "code",
   "execution_count": null,
   "id": "aa1d58a6",
   "metadata": {
    "id": "f5555bf6"
   },
   "outputs": [],
   "source": [
    "from darts.models import ExponentialSmoothing\n",
    "\n",
    "# Initialize and fit an Exponential Smoothing model\n",
    "model = ExponentialSmoothing()\n",
    "model.fit(train)\n",
    "\n",
    "# Generate forecasts\n",
    "exp_forecast = model.predict(len(val))\n"
   ]
  },
  {
   "cell_type": "code",
   "execution_count": null,
   "id": "b004e661",
   "metadata": {
    "colab": {
     "base_uri": "https://localhost:8080/",
     "height": 461
    },
    "id": "19873815-df7b-47e9-ad16-993856b6741f",
    "outputId": "cd04950e-a7bc-42a5-e900-d3b42f687850"
   },
   "outputs": [],
   "source": [
    "train.plot(label=\"training\")\n",
    "val.plot(label=\"validation\")\n",
    "exp_forecast.plot(label = \"predictions\")"
   ]
  },
  {
   "cell_type": "code",
   "execution_count": null,
   "id": "2db91e14",
   "metadata": {
    "colab": {
     "base_uri": "https://localhost:8080/"
    },
    "id": "470141fd-3786-4096-a0bb-1f9858e4e66c",
    "outputId": "d9c556b2-a507-4196-e1e7-168d46d762db"
   },
   "outputs": [],
   "source": [
    "from darts.metrics import mape\n",
    "\n",
    "accuracy = mape(val, exp_forecast)\n",
    "print(f\"Mean Absolute Percentage Error: {accuracy}\")"
   ]
  },
  {
   "cell_type": "markdown",
   "id": "fa384706",
   "metadata": {
    "id": "dceaeb0b-74ae-4175-b0e9-f89e1ffeff10"
   },
   "source": [
    "Already quite a bit better!"
   ]
  },
  {
   "cell_type": "markdown",
   "id": "e5bbfae8",
   "metadata": {
    "id": "40ba4566-a378-4a74-9c28-bb4342b9c61d",
    "tags": []
   },
   "source": [
    "### Multiple models"
   ]
  },
  {
   "cell_type": "markdown",
   "id": "ce11c8a5",
   "metadata": {
    "id": "a3a8343e-ff84-4cc0-bc59-d0c54111b80c"
   },
   "source": [
    "Darts makes it incredibly easy to loop through a list of models to see which performs best for our task:"
   ]
  },
  {
   "cell_type": "code",
   "execution_count": null,
   "id": "8040ca21",
   "metadata": {
    "colab": {
     "base_uri": "https://localhost:8080/"
    },
    "id": "3239b826-1440-4bab-bb54-c1264424c06a",
    "outputId": "cc56352b-29bb-4c03-9ae5-14b328d62bc5"
   },
   "outputs": [],
   "source": [
    "from darts.models import AutoARIMA, Prophet, TBATS\n",
    "\n",
    "results_dict = {}\n",
    "\n",
    "for model in [AutoARIMA, Prophet, TBATS]:\n",
    "    temp = model()\n",
    "    temp.fit(train)\n",
    "    preds = temp.predict(len(val))\n",
    "    accuracy = mape(val, preds)\n",
    "    results_dict[f\"{model}\"] = accuracy"
   ]
  },
  {
   "cell_type": "code",
   "execution_count": null,
   "id": "10f09850",
   "metadata": {
    "colab": {
     "base_uri": "https://localhost:8080/"
    },
    "id": "051bba12-fa87-4ea7-a868-d1ae73de22b5",
    "outputId": "9d61c365-0788-4004-ce7f-1f32d550ef48"
   },
   "outputs": [],
   "source": [
    "results_dict"
   ]
  },
  {
   "cell_type": "markdown",
   "id": "de3ae1b3",
   "metadata": {
    "id": "b7cc9af5-7b79-4091-831e-838b39dbe3a8"
   },
   "source": [
    "It seems TBATS (a model that decomposes a time series into multiple components, including trend, seasonality, and error terms before representing each as a combination of trigonometric functions) has worked best! Could we do any better with some exogenous features though?"
   ]
  },
  {
   "cell_type": "markdown",
   "id": "b2491301",
   "metadata": {
    "id": "fcd3bc3b-81b5-4cb0-9e33-e75807cc41e9"
   },
   "source": [
    "### Covariates"
   ]
  },
  {
   "cell_type": "markdown",
   "id": "3099cb8f",
   "metadata": {
    "id": "53dcaf7f-9147-4cc5-99fd-8de743afb875"
   },
   "source": [
    "Reminder: Covariates refer to external data that can be used as inputs to models to help improve forecasts. In the context of forecasting models, the target is the series to be forecasted/predicted, and the covariates themselves are not predicted. We distinguish three kinds of covariates:\n",
    "\n",
    "Past covariates are (by definition) covariates known only into the past (e.g. measurements)\n",
    "\n",
    "Future covariates are (by definition) covariates known into the future (e.g., weather forecasts)\n",
    "\n",
    "Static covariates are (by definition) covariates constant over time (e.g., product IDs). \n",
    "\n",
    "Check out [this page](https://unit8co.github.io/darts/#:~:text=Darts%20is%20a%20Python%20library,%2C%20similar%20to%20scikit%2Dlearn.) to see which models have the availability to fold in past and future covariates. To keep things simple we'll proceed with Arima!\n",
    "\n"
   ]
  },
  {
   "cell_type": "markdown",
   "id": "13f3351f",
   "metadata": {
    "id": "8719fc9f-491d-40ba-ad44-0b2795ede558"
   },
   "source": [
    "<img src = \"https://wagon-public-datasets.s3.amazonaws.com/data-science-images/05-ML/09-Time-Series/covatiates.png\">"
   ]
  },
  {
   "cell_type": "markdown",
   "id": "2a31dd6d",
   "metadata": {
    "id": "d8e14f9b-83ba-4315-86a6-08e6f6b430d5"
   },
   "source": [
    "Let's try folding in some covariates for our ice_cream sales - what about searches for \"hot weather\"? (This will essentially act as a proxy for weather forecasts)"
   ]
  },
  {
   "cell_type": "code",
   "execution_count": null,
   "id": "f0e58fd3",
   "metadata": {
    "id": "410592dc-d7d1-421d-b4a7-57bebad693da"
   },
   "outputs": [],
   "source": [
    "weather_df = pd.read_csv(\"weather.csv\", header = 1)"
   ]
  },
  {
   "cell_type": "code",
   "execution_count": null,
   "id": "3dbfab7f",
   "metadata": {},
   "outputs": [],
   "source": [
    "weather_df"
   ]
  },
  {
   "cell_type": "markdown",
   "id": "7c480e58",
   "metadata": {},
   "source": [
    "We create a time series just as we did before:"
   ]
  },
  {
   "cell_type": "code",
   "execution_count": null,
   "id": "fa8d6804",
   "metadata": {
    "id": "7b9dee9b-3ebb-4702-820c-4da468c7dc30"
   },
   "outputs": [],
   "source": [
    "weather_ts = TimeSeries.from_dataframe(weather_df, time_col=\"Month\", value_cols=\"hot weather: (United States)\")"
   ]
  },
  {
   "cell_type": "markdown",
   "id": "a27b643c",
   "metadata": {},
   "source": [
    "Let's visualize the two side by side to see if they look aligned:"
   ]
  },
  {
   "cell_type": "code",
   "execution_count": null,
   "id": "9bf75ab6",
   "metadata": {},
   "outputs": [],
   "source": [
    "weather_ts.plot()\n",
    "scaled_ts.plot()"
   ]
  },
  {
   "cell_type": "markdown",
   "id": "a25af3da",
   "metadata": {},
   "source": [
    "We'll need to apply the same scaling procedures as before so we can properly compare:"
   ]
  },
  {
   "cell_type": "code",
   "execution_count": null,
   "id": "9e117f3c",
   "metadata": {
    "id": "efd9d463-fb52-4de9-b712-6172ffe8e168"
   },
   "outputs": [],
   "source": [
    "preproc_weather = ts_transformer.fit_transform(weather_ts)"
   ]
  },
  {
   "cell_type": "code",
   "execution_count": null,
   "id": "b258eea3",
   "metadata": {},
   "outputs": [],
   "source": [
    "preproc_weather.plot(label = \"weather searches\")\n",
    "scaled_ts.plot(label = \"ice cream searches\")"
   ]
  },
  {
   "cell_type": "markdown",
   "id": "c821838b",
   "metadata": {
    "id": "0b0272e8-98e5-45f2-a152-5990182b5e48"
   },
   "source": [
    "There seems to be quite a strong correlation between the two. If we add future predictions for \"hot weather\" searches (which would probably be quite similar to just a regular weather forecast), does our model get better?"
   ]
  },
  {
   "cell_type": "markdown",
   "id": "b796b9b6",
   "metadata": {
    "id": "59914c9d-c690-4c9b-9847-78d40632b13e"
   },
   "source": [
    "Let's try it with a simple AutoArima Model and no covariates before we add them in:"
   ]
  },
  {
   "cell_type": "code",
   "execution_count": null,
   "id": "4cf8b22d",
   "metadata": {
    "id": "2ea22cd9-914b-40fe-a481-073181e1598b"
   },
   "outputs": [],
   "source": [
    "model = AutoARIMA()\n",
    "\n",
    "# w no covariates\n",
    "model.fit(train)\n",
    "# predict on our val\n",
    "base_preds = model.predict(len(val))\n",
    "# calculate mape\n",
    "accuracy = mape(val, base_preds)\n",
    "# add it to a comparison dict\n",
    "covariates_dict = {}\n",
    "covariates_dict[\"no_covariates\"] = accuracy"
   ]
  },
  {
   "cell_type": "markdown",
   "id": "04731f72",
   "metadata": {
    "id": "c5d0ba3f-5680-43c4-aeb7-c823e422fe09"
   },
   "source": [
    "Now we fold in future covariates (i.e. our future prediction data for hot weather)"
   ]
  },
  {
   "cell_type": "code",
   "execution_count": null,
   "id": "ac430a2f",
   "metadata": {},
   "outputs": [],
   "source": [
    "covariate_model = AutoARIMA()\n",
    "# w future covariates only\n",
    "covariate_model.fit(train, future_covariates = preproc_weather)\n",
    "base_preds = covariate_model.predict(len(val), future_covariates=preproc_weather)\n",
    "accuracy = mape(val, base_preds)\n",
    "covariates_dict[f\"future_covariates\"] = accuracy"
   ]
  },
  {
   "cell_type": "code",
   "execution_count": null,
   "id": "043770d3",
   "metadata": {
    "colab": {
     "base_uri": "https://localhost:8080/"
    },
    "id": "f7bc3de5-7495-48d5-9c60-3a53a9e8d727",
    "outputId": "337b1b7f-671f-498b-d823-b9aed5821742"
   },
   "outputs": [],
   "source": [
    "covariates_dict"
   ]
  },
  {
   "cell_type": "markdown",
   "id": "3aa91341",
   "metadata": {},
   "source": [
    "Our error is down to just versus the original 20%. Darts makes it so easy to fold in as many different covariate series as we want to - all we have to do is `stack()` them (see stack [documentation](https://unit8co.github.io/darts/generated_api/darts.timeseries.html?highlight=stack#darts.timeseries.TimeSeries.stack) if you'd like to have some fun sticking more time series together)!"
   ]
  },
  {
   "cell_type": "markdown",
   "id": "927d22b2",
   "metadata": {
    "id": "2bcda017-de99-460c-8698-f771952b3465"
   },
   "source": [
    "🚀 In this notebook, you've accomplished the following:\n",
    "\n",
    "📚 Data Loading and Visualization: You loaded time series data, created Darts TimeSeries objects, and visualized the data using Darts' visualization capabilities.\n",
    "\n",
    "🔄 Data Manipulation: You performed various operations to manipulate time series data, including handling missing values, resampling, rolling window calculations, and feature engineering.\n",
    "\n",
    "⏳ Time Series Modeling and Forecasting: You explored different models such as NaiveSeasonal, ExponentialSmoothing, AutoARIMA, Prophet, and TBATS, fitting them to the data and generating forecasts.\n",
    "\n",
    "🔎 Covariates and Holidays: You learned how to incorporate covariates and holidays into your time series models, leveraging their predictive power to improve forecast accuracy.\n",
    "\n",
    "🎊 Conclusion: Working with time series doesn't have to be hard! Darts simplifies the process and empowers you to unlock insights from temporal data using an array of tools and models. So, dive in, explore, and unlock the potential of time series analysis! ✨\n",
    "\n",
    "🌈 Remember to have fun while exploring the captivating world of time series! If you encounter any challenges, Darts provides extensive documentation and a supportive community to assist you along the way. 🌟\n",
    "\n",
    "Happy forecasting! 🚀😊"
   ]
  }
 ],
 "metadata": {
  "kernelspec": {
   "display_name": "Python 3 (ipykernel)",
   "language": "python",
   "name": "python3"
  },
  "language_info": {
   "codemirror_mode": {
    "name": "ipython",
    "version": 3
   },
   "file_extension": ".py",
   "mimetype": "text/x-python",
   "name": "python",
   "nbconvert_exporter": "python",
   "pygments_lexer": "ipython3",
   "version": "3.10.6"
  },
  "toc": {
   "base_numbering": 1,
   "nav_menu": {},
   "number_sections": true,
   "sideBar": true,
   "skip_h1_title": false,
   "title_cell": "Table of Contents",
   "title_sidebar": "Contents",
   "toc_cell": false,
   "toc_position": {},
   "toc_section_display": true,
   "toc_window_display": false
  },
  "varInspector": {
   "cols": {
    "lenName": 16,
    "lenType": 16,
    "lenVar": 40
   },
   "kernels_config": {
    "python": {
     "delete_cmd_postfix": "",
     "delete_cmd_prefix": "del ",
     "library": "var_list.py",
     "varRefreshCmd": "print(var_dic_list())"
    },
    "r": {
     "delete_cmd_postfix": ") ",
     "delete_cmd_prefix": "rm(",
     "library": "var_list.r",
     "varRefreshCmd": "cat(var_dic_list()) "
    }
   },
   "types_to_exclude": [
    "module",
    "function",
    "builtin_function_or_method",
    "instance",
    "_Feature"
   ],
   "window_display": false
  }
 },
 "nbformat": 4,
 "nbformat_minor": 5
}
