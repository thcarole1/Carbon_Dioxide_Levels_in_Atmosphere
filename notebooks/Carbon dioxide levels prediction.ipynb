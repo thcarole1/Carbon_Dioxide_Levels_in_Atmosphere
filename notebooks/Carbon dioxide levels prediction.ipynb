{
 "cells": [
  {
   "cell_type": "markdown",
   "id": "7d18bc87",
   "metadata": {},
   "source": [
    "# Carbon level dioxide prediction: The big picture\n",
    "\n"
   ]
  },
  {
   "cell_type": "markdown",
   "id": "3a74a765",
   "metadata": {},
   "source": [
    "The carbon dioxide record from Mauna Loa Observatory, known as the “Keeling Curve,” is the world’s longest unbroken record of atmospheric carbon dioxide concentrations.<br>\n",
    "Scientists make atmospheric measurements in remote locations to sample air that is representative of a large volume of Earth’s atmosphere and relatively free from local influences.\n",
    "\n",
    "\n",
    "\n"
   ]
  },
  {
   "cell_type": "markdown",
   "id": "ad37fd68",
   "metadata": {},
   "source": [
    "**Source Kaggle** : https://www.kaggle.com/datasets/ucsandiego/carbon-dioxide\n",
    "\n"
   ]
  },
  {
   "cell_type": "markdown",
   "id": "72eedbdc",
   "metadata": {},
   "source": [
    "## Framing the problem\n",
    "\n"
   ]
  },
  {
   "cell_type": "markdown",
   "id": "afa7532b",
   "metadata": {},
   "source": [
    "### What could be the business objectives?\n"
   ]
  },
  {
   "cell_type": "markdown",
   "id": "a1affeb9",
   "metadata": {},
   "source": [
    "#### Environmental Impact Assessment\n"
   ]
  },
  {
   "cell_type": "markdown",
   "id": "8a11c13e",
   "metadata": {},
   "source": [
    "•\t**Objective**: Assess the impact of specific industries, regions, or activities on global CO₂ emissions.<br><br>\n",
    "•\t**Applications**: \n",
    "\n",
    "- Develop sustainability metrics for businesses to track their carbon footprint.\n",
    "- Help companies align with global environmental standards (e.g., UN Sustainable Development Goals).\n",
    "- Inform corporate social responsibility (CSR) strategies.\n"
   ]
  },
  {
   "cell_type": "markdown",
   "id": "bbe02111",
   "metadata": {},
   "source": [
    "#### Regulatory Compliance and Reporting\n"
   ]
  },
  {
   "cell_type": "markdown",
   "id": "428e8abf",
   "metadata": {},
   "source": [
    "•\t**Objective**: Help organizations meet emission standards and comply with regulations. <br><br>\n",
    "•\t**Applications**: \n",
    "\n",
    "- Forecast emissions trends to ensure compliance with future regulations.\n",
    "- Generate reports for governments or stakeholders showcasing emission reduction efforts.\n",
    "- Aid in carbon trading by quantifying emission reductions.\n",
    "\n"
   ]
  },
  {
   "cell_type": "markdown",
   "id": "a92e78e6",
   "metadata": {},
   "source": [
    "#### Emissions Reduction Strategy"
   ]
  },
  {
   "cell_type": "markdown",
   "id": "185a32df",
   "metadata": {},
   "source": [
    "• **Objective**: Identify key contributors to CO₂ emissions and design strategies to reduce them.<br><br>\n",
    "•\t**Applications**: \n",
    "- Prioritize emission reduction projects (e.g., renewable energy, electric vehicles).\n",
    "- Develop predictive models to estimate the impact of proposed initiatives.\n",
    "- Identify potential areas for investment in green technologies.\n"
   ]
  },
  {
   "cell_type": "markdown",
   "id": "4e5cc578",
   "metadata": {},
   "source": [
    "#### Policy Analysis and Advocacy\n"
   ]
  },
  {
   "cell_type": "markdown",
   "id": "83bb2ef1",
   "metadata": {},
   "source": [
    "•\t**Objective**: Provide data-driven insights for policymakers or advocacy groups.<br><br>\n",
    "•\t**Applications**: \n",
    "- Support policies on renewable energy adoption, carbon taxes, or emission caps.\n",
    "- Analyze trends in emissions by country or sector to recommend targeted interventions.\n",
    "- Track the effectiveness of previously implemented policies.\n"
   ]
  },
  {
   "cell_type": "markdown",
   "id": "4329c11b",
   "metadata": {},
   "source": [
    "#### Green Technology and Innovation\n"
   ]
  },
  {
   "cell_type": "markdown",
   "id": "e0e2aaa5",
   "metadata": {},
   "source": [
    "•\t**Objective**: Use data to guide innovation in low-carbon technologies.<br><br>\n",
    "•\t**Applications**: \n",
    "- Design algorithms to optimize energy consumption and reduce emissions.\n",
    "- Identify markets with high emissions as potential opportunities for green solutions.\n",
    "- Validate the ROI of new technologies in reducing carbon emissions.\n"
   ]
  },
  {
   "cell_type": "markdown",
   "id": "124ffe3d",
   "metadata": {},
   "source": [
    "#### Risk Management and Scenario Planning\n"
   ]
  },
  {
   "cell_type": "markdown",
   "id": "f5ec7a18",
   "metadata": {},
   "source": [
    "•\t**Objective**: Help businesses and governments prepare for future climate-related risks.<br><br>\n",
    "•\t**Applications**: \n",
    "- Build emission projection models under different scenarios (e.g., high vs. low regulation).\n",
    "- Assess the financial impact of emission-related risks, such as carbon taxes or reputational damage.\n",
    "- Identify sectors or regions at high risk for regulatory penalties or public scrutiny.\n"
   ]
  },
  {
   "cell_type": "markdown",
   "id": "2e826700",
   "metadata": {},
   "source": [
    "#### Public Awareness and Education\n"
   ]
  },
  {
   "cell_type": "markdown",
   "id": "af1ed84d",
   "metadata": {},
   "source": [
    "•\t**Objective**: Develop tools and resources to educate the public about CO₂ emissions.<br><br>\n",
    "•\t**Applications**: \n",
    "- Create interactive dashboards showing CO₂ emission trends and impacts.\n",
    "- Design campaigns highlighting the importance of individual and corporate action in emission reduction.\n",
    "- Partner with NGOs or educational institutions to raise awareness using data insights.\n"
   ]
  },
  {
   "cell_type": "markdown",
   "id": "56e7cd98",
   "metadata": {},
   "source": [
    "#### Carbon Offset and Credit Programs\n"
   ]
  },
  {
   "cell_type": "markdown",
   "id": "135b66dd",
   "metadata": {},
   "source": [
    "•\t**Objective**: Support the development of carbon offset programs.<br><br>\n",
    "•\t**Applications**: \n",
    "- Quantify emissions from specific activities to determine offset requirements.\n",
    "- Develop models to evaluate the effectiveness of offset initiatives (e.g., reforestation projects).\n",
    "- Provide data to support carbon credit trading platforms.\n"
   ]
  },
  {
   "cell_type": "markdown",
   "id": "f6904094",
   "metadata": {},
   "source": [
    "#### Investment Analysis for Sustainable Funds\n"
   ]
  },
  {
   "cell_type": "markdown",
   "id": "58b43414",
   "metadata": {},
   "source": [
    "•\t**Objective**: Guide investors toward low-carbon or climate-resilient assets.<br><br>\n",
    "•\t**Applications**: \n",
    "- Identify industries with decreasing emissions for ESG (Environmental, Social, Governance) investments.\n",
    "- Predict the long-term impact of climate policies on industry profitability.\n",
    "- Assess the carbon exposure of investment portfolios.\n"
   ]
  },
  {
   "cell_type": "markdown",
   "id": "e59285ec",
   "metadata": {},
   "source": [
    "#### Benchmarking and Competitive Analysis\n"
   ]
  },
  {
   "cell_type": "markdown",
   "id": "6839b5bf",
   "metadata": {},
   "source": [
    "•\t**Objective**: Benchmark an organization’s emissions against industry standards or competitors.<br><br>\n",
    "•\t**Applications**: \n",
    "o\tHighlight leaders and laggards in emissions reduction within a sector.\n",
    "o\tDevelop tools to measure how a company compares to peers in terms of carbon efficiency.\n",
    "o\tInform marketing strategies emphasizing sustainability leadership.\n"
   ]
  },
  {
   "cell_type": "markdown",
   "id": "1d0fab35",
   "metadata": {},
   "source": [
    "By leveraging this dataset, organizations across various industries can derive insights to advance their environmental objectives while aligning with global sustainability trends and regulatory frameworks."
   ]
  },
  {
   "cell_type": "markdown",
   "id": "fa4eaf4b",
   "metadata": {},
   "source": [
    "### What is the current solution (if it exists) ?\n"
   ]
  },
  {
   "cell_type": "markdown",
   "id": "8296dc8c",
   "metadata": {},
   "source": [
    "Predicting carbon dioxide (CO₂) levels is a critical task for environmental monitoring and climate action.<br><br>\n",
    "Based on the data at hand, which likely includes historical CO₂ emissions and time, several existing solutions and approaches can be applied to predict CO₂ levels. <br><br>\n",
    "Here’s an overview:\n"
   ]
  },
  {
   "cell_type": "markdown",
   "id": "f93e0845",
   "metadata": {},
   "source": [
    "#### Statistical and Classical Time Series Models\n"
   ]
  },
  {
   "cell_type": "markdown",
   "id": "f3a19d3a",
   "metadata": {},
   "source": [
    "These models are well-suited for datasets with clear temporal patterns and trends:"
   ]
  },
  {
   "cell_type": "markdown",
   "id": "d1239a4b",
   "metadata": {},
   "source": [
    "##### Autoregressive Integrated Moving Average (ARIMA)"
   ]
  },
  {
   "cell_type": "markdown",
   "id": "5d9d90fe",
   "metadata": {},
   "source": [
    "•\t**Description**: A classical time series model used to predict CO₂ levels based on past values.<br>\n",
    "•\t**Use Case**: Suitable for linear trends and seasonality in CO₂ emissions.<br><br>\n",
    "•\t**Advantages**: \n",
    "- Good for stationary data.\n",
    "- Provides interpretable coefficients.\n",
    "•\t**Challenges**: May not handle complex patterns or external factors well.\n"
   ]
  },
  {
   "cell_type": "markdown",
   "id": "0c55c8b7",
   "metadata": {},
   "source": [
    "##### Seasonal ARIMA (SARIMA)\n"
   ]
  },
  {
   "cell_type": "markdown",
   "id": "199ce987",
   "metadata": {},
   "source": [
    "•\t**Description**: Extends ARIMA by incorporating seasonal trends.<br>\n",
    "•\t**Use Case**: Ideal if the dataset shows periodic CO₂ level fluctuations, such as annual emissions cycles.<br>\n"
   ]
  },
  {
   "cell_type": "markdown",
   "id": "cb37beb1",
   "metadata": {},
   "source": [
    "##### Exponential Smoothing (ETS)\n"
   ]
  },
  {
   "cell_type": "markdown",
   "id": "7b72ee43",
   "metadata": {},
   "source": [
    "•\t**Description**: Uses weighted averages of past observations, with greater emphasis on recent data.<br>\n",
    "•\t**Use Case**: Suitable for short-term forecasting.<br>\n"
   ]
  },
  {
   "cell_type": "markdown",
   "id": "77ca290a",
   "metadata": {},
   "source": [
    "##### Vector Autoregression (VAR)\n"
   ]
  },
  {
   "cell_type": "markdown",
   "id": "34c0c260",
   "metadata": {},
   "source": [
    "•\t**Description**: A multivariate time series model for datasets with multiple interdependent variables (e.g., CO₂ levels, economic indicators, energy use).<br>\n",
    "•\t**Use Case**: Useful if external factors like GDP or population are included in the dataset.\n"
   ]
  },
  {
   "cell_type": "markdown",
   "id": "ae7fe4f6",
   "metadata": {},
   "source": [
    "#### Deep Learning Models\n"
   ]
  },
  {
   "cell_type": "markdown",
   "id": "7b6b0348",
   "metadata": {},
   "source": [
    "Deep learning methods are powerful for capturing complex patterns in large datasets.\n"
   ]
  },
  {
   "cell_type": "markdown",
   "id": "0e3a3623",
   "metadata": {},
   "source": [
    "##### Long Short-Term Memory Networks (LSTMs)\n"
   ]
  },
  {
   "cell_type": "markdown",
   "id": "346edffd",
   "metadata": {},
   "source": [
    "• **Description**: A type of recurrent neural network (RNN) designed for sequential data, ideal for time series forecasting.<br>\n",
    "•\t**Use Case**: Predicts future CO₂ levels by learning long-term dependencies in emission trends.<br>\n",
    "•\t**Advantages**: \n",
    "- Handles temporal dependencies well.\n",
    "- Works with non-linear trends.\n",
    "•\t**Challenges**: Computationally intensive and requires large datasets.\n"
   ]
  },
  {
   "cell_type": "markdown",
   "id": "87ffbc87",
   "metadata": {},
   "source": [
    "##### Convolutional Neural Networks (CNNs)\n"
   ]
  },
  {
   "cell_type": "markdown",
   "id": "f1efddb0",
   "metadata": {},
   "source": [
    "•\t**Description**: Can be adapted for time series forecasting by capturing local temporal patterns.<br>\n",
    "•\t**Use Case**: May be used alongside LSTMs in hybrid architectures.\n"
   ]
  },
  {
   "cell_type": "markdown",
   "id": "92829671",
   "metadata": {},
   "source": [
    "##### Transformer Models (e.g., Temporal Fusion Transformers)\n"
   ]
  },
  {
   "cell_type": "markdown",
   "id": "62989a10",
   "metadata": {},
   "source": [
    "•\t**Description**: Advanced models designed to handle sequential data with multiple features and dynamic trends.<br>\n",
    "•\t**Use Case**: Predict CO₂ levels with high accuracy by incorporating attention mechanisms.\n"
   ]
  },
  {
   "cell_type": "markdown",
   "id": "97e5738b",
   "metadata": {},
   "source": [
    "### What is the type of learning ?\n"
   ]
  },
  {
   "cell_type": "markdown",
   "id": "5b5484ed",
   "metadata": {},
   "source": [
    "With the gathered information, we are ready to design our system.<br>\n",
    "This is a **time series forecasting** task.\n",
    "\n"
   ]
  },
  {
   "cell_type": "markdown",
   "id": "a1fd1b45",
   "metadata": {},
   "source": [
    "## Selecting a performance measure\n"
   ]
  },
  {
   "cell_type": "markdown",
   "id": "cf62fac6",
   "metadata": {},
   "source": [
    "The next step is to choose a performance measure: <br>\n",
    "•\t**Short-term predictions**: Use MAE, RMSE, or MASE for clear and interpretable results.<br>\n",
    "•\t**Scale-independent metrics**: Use MAPE, sMAPE, or Theil’s U for datasets with varying scales or multiple regions.\n"
   ]
  },
  {
   "cell_type": "markdown",
   "id": "d1fc4416",
   "metadata": {},
   "source": [
    "We'll focus on:\n"
   ]
  },
  {
   "cell_type": "markdown",
   "id": "da95f024",
   "metadata": {},
   "source": [
    "### Mean Absolute Error (MAE)"
   ]
  },
  {
   "cell_type": "markdown",
   "id": "caee7af9",
   "metadata": {},
   "source": [
    "•\t**Description**: The average of absolute differences between actual and predicted values.<br><br>\n",
    "•\t**Formula**: <br>\n"
   ]
  },
  {
   "cell_type": "markdown",
   "id": "67f26f83",
   "metadata": {},
   "source": [
    "$$MAE  = \\frac{1}{n}\\sum_{i=1}^{n}|y_i - \\hat{y}_i|$$\n"
   ]
  },
  {
   "cell_type": "markdown",
   "id": "a6c327e9",
   "metadata": {},
   "source": [
    "•\t**Use Case**: \n",
    "- Easy to interpret as it represents the average error in the same unit as the data (e.g., metric tons of CO₂).\n",
    "- Sensitive to the scale of the data but not overly penalized by large errors.\n"
   ]
  },
  {
   "cell_type": "markdown",
   "id": "0ec9334b",
   "metadata": {},
   "source": [
    "### Mean Squared Error (MSE)\n"
   ]
  },
  {
   "cell_type": "markdown",
   "id": "99dea669",
   "metadata": {},
   "source": [
    "•\t**Description**: The average of squared differences between actual and predicted values.<br><br>\n",
    "•\t**Formula**:<br>\n"
   ]
  },
  {
   "cell_type": "markdown",
   "id": "9a680066",
   "metadata": {},
   "source": [
    "$$MSE = \\frac{1}{n} \\sum_{i=1}^{n} (y_i - \\hat{y}_i)^2$$\n"
   ]
  },
  {
   "cell_type": "markdown",
   "id": "c0960e45",
   "metadata": {},
   "source": [
    "•\t**Use Case**: \n",
    "- Penalizes large errors more heavily than MAE.\n",
    "- Useful for models where large prediction deviations are particularly undesirable.\n"
   ]
  },
  {
   "cell_type": "markdown",
   "id": "6ddd7fb9",
   "metadata": {},
   "source": [
    "### Root Mean Squared Error (RMSE)"
   ]
  },
  {
   "cell_type": "markdown",
   "id": "89a00eb7",
   "metadata": {},
   "source": [
    "•\t**Description**: The square root of MSE, representing the error in the same units as the original data.<br><br>\n",
    "•\t**Formula**:<br>\n"
   ]
  },
  {
   "cell_type": "markdown",
   "id": "7d70fdb5",
   "metadata": {},
   "source": [
    " $$RMSE = \\sqrt{\\frac{1}{n} \\sum_{i=1}^{n} (y_i - \\hat{y}_i)^2}$$\n",
    " "
   ]
  },
  {
   "cell_type": "markdown",
   "id": "1902db7d",
   "metadata": {},
   "source": [
    "•\t**Use Case**: \n",
    "- Highlights significant prediction errors.\n",
    "- Popular in time series forecasting due to interpretability.\n"
   ]
  },
  {
   "cell_type": "markdown",
   "id": "c013e364",
   "metadata": {},
   "source": [
    "### Mean Absolute Percentage Error (MAPE)"
   ]
  },
  {
   "cell_type": "markdown",
   "id": "efec756d",
   "metadata": {},
   "source": [
    "•\t**Description**: The average percentage error between actual and predicted values.<br><br>\n",
    "•\t**Formula**: <br>\n"
   ]
  },
  {
   "cell_type": "markdown",
   "id": "4ddb5046",
   "metadata": {},
   "source": [
    "$$MAPE=\\frac{1}{n} \\sum_{i=1}^{n} \\left| \\frac{y_i - \\hat{y}_i}{y_i} \\right| \\times 100 $$\n"
   ]
  },
  {
   "cell_type": "markdown",
   "id": "655e6bc2",
   "metadata": {},
   "source": [
    "•\t**Use Case**: \n",
    "- Provides a percentage-based measure, making it scale-independent.\n",
    "- Becomes problematic when actual values are near zero (dividing by zero).\n"
   ]
  },
  {
   "cell_type": "markdown",
   "id": "03fe5c19",
   "metadata": {},
   "source": [
    "# Getting the data\n"
   ]
  },
  {
   "cell_type": "markdown",
   "id": "91131b03",
   "metadata": {},
   "source": [
    "## Import libraries\n"
   ]
  },
  {
   "cell_type": "markdown",
   "id": "690f8aaa",
   "metadata": {},
   "source": [
    "Here will be imported all the necessary libraries that we'll use for this task !\n",
    "\n"
   ]
  },
  {
   "cell_type": "code",
   "execution_count": 1,
   "id": "074dc105",
   "metadata": {},
   "outputs": [],
   "source": [
    "import warnings\n",
    "warnings.filterwarnings(action = 'ignore')\n",
    "\n",
    "# Libraries to import data\n",
    "from pathlib import Path\n",
    "import pandas as pd\n",
    "import tarfile\n",
    "import urllib.request\n",
    "\n",
    "# Visualization\n",
    "import matplotlib.pyplot as plt\n",
    "from pandas.plotting import scatter_matrix\n",
    "import seaborn as sns\n",
    "\n",
    "# Split train set and test set\n",
    "from sklearn.model_selection import train_test_split\n",
    "\n",
    "# General libraries\n",
    "import numpy as np\n",
    "from scipy.stats import iqr\n",
    "import math\n",
    "from scipy.stats import randint\n",
    "from scipy import stats\n",
    "import scipy.stats as stats\n",
    "from io import BytesIO\n",
    "from IPython.display import HTML\n",
    "\n",
    "# Preprocessing the data\n",
    "from sklearn.impute import SimpleImputer\n",
    "from sklearn.preprocessing import OneHotEncoder, RobustScaler, StandardScaler, MinMaxScaler\n",
    "\n",
    "# Pipelines\n",
    "from sklearn.pipeline import make_pipeline\n",
    "from sklearn.pipeline import make_union\n",
    "from sklearn.compose import make_column_transformer\n",
    "\n",
    "# Models\n",
    "from sklearn.linear_model import LinearRegression\n",
    "from sklearn.tree import DecisionTreeRegressor\n",
    "from sklearn.model_selection import cross_val_score, GridSearchCV, RandomizedSearchCV, cross_validate\n",
    "from sklearn.ensemble import RandomForestRegressor\n",
    "from sklearn.linear_model import SGDRegressor, Lasso, ElasticNet, Ridge, LinearRegression\n",
    "from sklearn.svm import LinearSVR\n",
    "from xgboost import XGBClassifier\n",
    "\n",
    "# Metrics\n",
    "from sklearn.metrics import mean_squared_error\n",
    "\n",
    "# Saving/loading models\n",
    "import joblib\n"
   ]
  },
  {
   "cell_type": "markdown",
   "id": "5e4fe03f",
   "metadata": {},
   "source": [
    "## Import the data\n"
   ]
  },
  {
   "cell_type": "markdown",
   "id": "7c718436",
   "metadata": {},
   "source": [
    "We import the data already stored locally.\n"
   ]
  },
  {
   "cell_type": "code",
   "execution_count": 2,
   "id": "cb9637ba",
   "metadata": {
    "scrolled": false
   },
   "outputs": [],
   "source": [
    "# We import the data already stored locally.\n",
    "path = '../data/raw_data/co2_levels.csv'\n",
    "\n",
    "co2_levels = pd.read_csv(path)"
   ]
  },
  {
   "cell_type": "markdown",
   "id": "8b709847",
   "metadata": {},
   "source": [
    "## Describe the features\n"
   ]
  },
  {
   "cell_type": "markdown",
   "id": "3b50ddf3",
   "metadata": {},
   "source": [
    "We have the following features : <br>\n",
    "- **Year**: year\n",
    "- **Month**: month \n",
    "- **Decimal Date**: decimal date\n",
    "- **Carbon Dioxide (ppm)**: Monthly CO2 concentrations in parts per million (ppm) measured on the 08A calibration scale and collected at 24:00 hours on the fifteenth of each month.\n",
    "- **Seasonally Adjusted CO2 (ppm)**:The fifth column provides the same data after a seasonal adjustment, which involves subtracting from the data a 4-harmonic fit with a linear gain factor to remove the seasonal cycle from carbon dioxide measurements\n",
    "- **Carbon Dioxide Fit (ppm)**:The sixth column provides the data with noise removed, generated from a stiff cubic spline function plus 4-harmonic functions with linear gain\n",
    "- **Seasonally Adjusted CO2 Fit (ppm)**:The seventh column is the same data with the seasonal cycle removed.\n"
   ]
  },
  {
   "cell_type": "markdown",
   "id": "2318b602",
   "metadata": {},
   "source": [
    "# Exploring the data\n"
   ]
  },
  {
   "cell_type": "markdown",
   "id": "bfdd9468",
   "metadata": {},
   "source": [
    "## Quick exploration\n"
   ]
  },
  {
   "cell_type": "code",
   "execution_count": 3,
   "id": "9bcefd73",
   "metadata": {
    "scrolled": true
   },
   "outputs": [
    {
     "data": {
      "text/html": [
       "<div>\n",
       "<style scoped>\n",
       "    .dataframe tbody tr th:only-of-type {\n",
       "        vertical-align: middle;\n",
       "    }\n",
       "\n",
       "    .dataframe tbody tr th {\n",
       "        vertical-align: top;\n",
       "    }\n",
       "\n",
       "    .dataframe thead th {\n",
       "        text-align: right;\n",
       "    }\n",
       "</style>\n",
       "<table border=\"1\" class=\"dataframe\">\n",
       "  <thead>\n",
       "    <tr style=\"text-align: right;\">\n",
       "      <th></th>\n",
       "      <th>Year</th>\n",
       "      <th>Month</th>\n",
       "      <th>Decimal Date</th>\n",
       "      <th>Carbon Dioxide (ppm)</th>\n",
       "      <th>Seasonally Adjusted CO2 (ppm)</th>\n",
       "      <th>Carbon Dioxide Fit (ppm)</th>\n",
       "      <th>Seasonally Adjusted CO2 Fit (ppm)</th>\n",
       "    </tr>\n",
       "  </thead>\n",
       "  <tbody>\n",
       "    <tr>\n",
       "      <th>0</th>\n",
       "      <td>1958</td>\n",
       "      <td>1</td>\n",
       "      <td>1958.0411</td>\n",
       "      <td>NaN</td>\n",
       "      <td>NaN</td>\n",
       "      <td>NaN</td>\n",
       "      <td>NaN</td>\n",
       "    </tr>\n",
       "    <tr>\n",
       "      <th>1</th>\n",
       "      <td>1958</td>\n",
       "      <td>2</td>\n",
       "      <td>1958.1260</td>\n",
       "      <td>NaN</td>\n",
       "      <td>NaN</td>\n",
       "      <td>NaN</td>\n",
       "      <td>NaN</td>\n",
       "    </tr>\n",
       "    <tr>\n",
       "      <th>2</th>\n",
       "      <td>1958</td>\n",
       "      <td>3</td>\n",
       "      <td>1958.2027</td>\n",
       "      <td>315.69</td>\n",
       "      <td>314.42</td>\n",
       "      <td>316.18</td>\n",
       "      <td>314.89</td>\n",
       "    </tr>\n",
       "    <tr>\n",
       "      <th>3</th>\n",
       "      <td>1958</td>\n",
       "      <td>4</td>\n",
       "      <td>1958.2877</td>\n",
       "      <td>317.45</td>\n",
       "      <td>315.15</td>\n",
       "      <td>317.30</td>\n",
       "      <td>314.98</td>\n",
       "    </tr>\n",
       "    <tr>\n",
       "      <th>4</th>\n",
       "      <td>1958</td>\n",
       "      <td>5</td>\n",
       "      <td>1958.3699</td>\n",
       "      <td>317.50</td>\n",
       "      <td>314.73</td>\n",
       "      <td>317.83</td>\n",
       "      <td>315.06</td>\n",
       "    </tr>\n",
       "  </tbody>\n",
       "</table>\n",
       "</div>"
      ],
      "text/plain": [
       "   Year  Month  Decimal Date  Carbon Dioxide (ppm)  \\\n",
       "0  1958      1     1958.0411                   NaN   \n",
       "1  1958      2     1958.1260                   NaN   \n",
       "2  1958      3     1958.2027                315.69   \n",
       "3  1958      4     1958.2877                317.45   \n",
       "4  1958      5     1958.3699                317.50   \n",
       "\n",
       "   Seasonally Adjusted CO2 (ppm)  Carbon Dioxide Fit (ppm)  \\\n",
       "0                            NaN                       NaN   \n",
       "1                            NaN                       NaN   \n",
       "2                         314.42                    316.18   \n",
       "3                         315.15                    317.30   \n",
       "4                         314.73                    317.83   \n",
       "\n",
       "   Seasonally Adjusted CO2 Fit (ppm)  \n",
       "0                                NaN  \n",
       "1                                NaN  \n",
       "2                             314.89  \n",
       "3                             314.98  \n",
       "4                             315.06  "
      ]
     },
     "execution_count": 3,
     "metadata": {},
     "output_type": "execute_result"
    }
   ],
   "source": [
    "# head of the data\n",
    "co2_levels.head()"
   ]
  },
  {
   "cell_type": "markdown",
   "id": "c895f951",
   "metadata": {},
   "source": [
    "Let's create a Year_Month column and set  it as index of dataframe!\n"
   ]
  },
  {
   "cell_type": "code",
   "execution_count": 4,
   "id": "70958006",
   "metadata": {},
   "outputs": [
    {
     "data": {
      "text/html": [
       "<div>\n",
       "<style scoped>\n",
       "    .dataframe tbody tr th:only-of-type {\n",
       "        vertical-align: middle;\n",
       "    }\n",
       "\n",
       "    .dataframe tbody tr th {\n",
       "        vertical-align: top;\n",
       "    }\n",
       "\n",
       "    .dataframe thead th {\n",
       "        text-align: right;\n",
       "    }\n",
       "</style>\n",
       "<table border=\"1\" class=\"dataframe\">\n",
       "  <thead>\n",
       "    <tr style=\"text-align: right;\">\n",
       "      <th></th>\n",
       "      <th>Carbon Dioxide (ppm)</th>\n",
       "      <th>Seasonally Adjusted CO2 (ppm)</th>\n",
       "      <th>Carbon Dioxide Fit (ppm)</th>\n",
       "      <th>Seasonally Adjusted CO2 Fit (ppm)</th>\n",
       "    </tr>\n",
       "    <tr>\n",
       "      <th>Year_Month</th>\n",
       "      <th></th>\n",
       "      <th></th>\n",
       "      <th></th>\n",
       "      <th></th>\n",
       "    </tr>\n",
       "  </thead>\n",
       "  <tbody>\n",
       "    <tr>\n",
       "      <th>1958-01-01</th>\n",
       "      <td>NaN</td>\n",
       "      <td>NaN</td>\n",
       "      <td>NaN</td>\n",
       "      <td>NaN</td>\n",
       "    </tr>\n",
       "    <tr>\n",
       "      <th>1958-02-01</th>\n",
       "      <td>NaN</td>\n",
       "      <td>NaN</td>\n",
       "      <td>NaN</td>\n",
       "      <td>NaN</td>\n",
       "    </tr>\n",
       "    <tr>\n",
       "      <th>1958-03-01</th>\n",
       "      <td>315.69</td>\n",
       "      <td>314.42</td>\n",
       "      <td>316.18</td>\n",
       "      <td>314.89</td>\n",
       "    </tr>\n",
       "    <tr>\n",
       "      <th>1958-04-01</th>\n",
       "      <td>317.45</td>\n",
       "      <td>315.15</td>\n",
       "      <td>317.30</td>\n",
       "      <td>314.98</td>\n",
       "    </tr>\n",
       "    <tr>\n",
       "      <th>1958-05-01</th>\n",
       "      <td>317.50</td>\n",
       "      <td>314.73</td>\n",
       "      <td>317.83</td>\n",
       "      <td>315.06</td>\n",
       "    </tr>\n",
       "  </tbody>\n",
       "</table>\n",
       "</div>"
      ],
      "text/plain": [
       "            Carbon Dioxide (ppm)  Seasonally Adjusted CO2 (ppm)  \\\n",
       "Year_Month                                                        \n",
       "1958-01-01                   NaN                            NaN   \n",
       "1958-02-01                   NaN                            NaN   \n",
       "1958-03-01                315.69                         314.42   \n",
       "1958-04-01                317.45                         315.15   \n",
       "1958-05-01                317.50                         314.73   \n",
       "\n",
       "            Carbon Dioxide Fit (ppm)  Seasonally Adjusted CO2 Fit (ppm)  \n",
       "Year_Month                                                               \n",
       "1958-01-01                       NaN                                NaN  \n",
       "1958-02-01                       NaN                                NaN  \n",
       "1958-03-01                    316.18                             314.89  \n",
       "1958-04-01                    317.30                             314.98  \n",
       "1958-05-01                    317.83                             315.06  "
      ]
     },
     "execution_count": 4,
     "metadata": {},
     "output_type": "execute_result"
    }
   ],
   "source": [
    "# Combine year and month into a new column as datetime\n",
    "co2_levels['Year_Month'] = pd.to_datetime(co2_levels['Year'].astype(str) + '-' + co2_levels['Month'].astype(str), format='%Y-%m')\n",
    "\n",
    "# Let's drop year and month column\n",
    "co2_levels.drop(columns=[\"Year\", \"Month\",\"Decimal Date\"], inplace=True, axis=1)\n",
    "\n",
    "# Let's set Year_Month as new index\n",
    "co2_levels.set_index(\"Year_Month\", inplace=True)\n",
    "co2_levels.head()"
   ]
  },
  {
   "cell_type": "markdown",
   "id": "4951248c",
   "metadata": {},
   "source": [
    "Let's only keep the Carbon dioxide column.\n"
   ]
  },
  {
   "cell_type": "code",
   "execution_count": 5,
   "id": "dc0a83b8",
   "metadata": {},
   "outputs": [],
   "source": [
    "# Let's only keep the Carbon dioxide column.\n",
    "co2_levels.drop(columns=[\"Seasonally Adjusted CO2 (ppm)\",\n",
    "                         \"Carbon Dioxide Fit (ppm)\",\n",
    "                         \"Seasonally Adjusted CO2 Fit (ppm)\"], inplace=True, axis=1)"
   ]
  },
  {
   "cell_type": "code",
   "execution_count": 6,
   "id": "98464c7c",
   "metadata": {},
   "outputs": [
    {
     "name": "stdout",
     "output_type": "stream",
     "text": [
      "<class 'pandas.core.frame.DataFrame'>\n",
      "DatetimeIndex: 720 entries, 1958-01-01 to 2017-12-01\n",
      "Data columns (total 1 columns):\n",
      " #   Column                Non-Null Count  Dtype  \n",
      "---  ------                --------------  -----  \n",
      " 0   Carbon Dioxide (ppm)  703 non-null    float64\n",
      "dtypes: float64(1)\n",
      "memory usage: 11.2 KB\n"
     ]
    }
   ],
   "source": [
    "# summary of the DataFrame\n",
    "co2_levels.info()"
   ]
  },
  {
   "cell_type": "code",
   "execution_count": 7,
   "id": "0bea4a70",
   "metadata": {},
   "outputs": [
    {
     "data": {
      "text/html": [
       "<div>\n",
       "<style scoped>\n",
       "    .dataframe tbody tr th:only-of-type {\n",
       "        vertical-align: middle;\n",
       "    }\n",
       "\n",
       "    .dataframe tbody tr th {\n",
       "        vertical-align: top;\n",
       "    }\n",
       "\n",
       "    .dataframe thead th {\n",
       "        text-align: right;\n",
       "    }\n",
       "</style>\n",
       "<table border=\"1\" class=\"dataframe\">\n",
       "  <thead>\n",
       "    <tr style=\"text-align: right;\">\n",
       "      <th></th>\n",
       "      <th>Carbon Dioxide (ppm)</th>\n",
       "    </tr>\n",
       "  </thead>\n",
       "  <tbody>\n",
       "    <tr>\n",
       "      <th>count</th>\n",
       "      <td>703.000000</td>\n",
       "    </tr>\n",
       "    <tr>\n",
       "      <th>mean</th>\n",
       "      <td>352.375633</td>\n",
       "    </tr>\n",
       "    <tr>\n",
       "      <th>std</th>\n",
       "      <td>26.241884</td>\n",
       "    </tr>\n",
       "    <tr>\n",
       "      <th>min</th>\n",
       "      <td>313.210000</td>\n",
       "    </tr>\n",
       "    <tr>\n",
       "      <th>25%</th>\n",
       "      <td>328.555000</td>\n",
       "    </tr>\n",
       "    <tr>\n",
       "      <th>50%</th>\n",
       "      <td>349.800000</td>\n",
       "    </tr>\n",
       "    <tr>\n",
       "      <th>75%</th>\n",
       "      <td>373.195000</td>\n",
       "    </tr>\n",
       "    <tr>\n",
       "      <th>max</th>\n",
       "      <td>407.650000</td>\n",
       "    </tr>\n",
       "  </tbody>\n",
       "</table>\n",
       "</div>"
      ],
      "text/plain": [
       "       Carbon Dioxide (ppm)\n",
       "count            703.000000\n",
       "mean             352.375633\n",
       "std               26.241884\n",
       "min              313.210000\n",
       "25%              328.555000\n",
       "50%              349.800000\n",
       "75%              373.195000\n",
       "max              407.650000"
      ]
     },
     "execution_count": 7,
     "metadata": {},
     "output_type": "execute_result"
    }
   ],
   "source": [
    "# Descriptive statistics\n",
    "co2_levels.describe()"
   ]
  },
  {
   "cell_type": "code",
   "execution_count": 8,
   "id": "b1a262a3",
   "metadata": {
    "scrolled": false
   },
   "outputs": [
    {
     "data": {
      "image/png": "[encoded data removed]",
      "text/plain": [
       "<Figure size 800x500 with 1 Axes>"
      ]
     },
     "metadata": {},
     "output_type": "display_data"
    }
   ],
   "source": [
    "# Histogram of the DataFrame’s columns\n",
    "co2_levels.hist(bins=50, figsize=(8,5))\n",
    "plt.show()"
   ]
  },
  {
   "cell_type": "code",
   "execution_count": 9,
   "id": "5d620891",
   "metadata": {},
   "outputs": [
    {
     "data": {
      "image/png": "[encoded data removed]",
      "text/plain": [
       "<Figure size 800x500 with 1 Axes>"
      ]
     },
     "metadata": {},
     "output_type": "display_data"
    }
   ],
   "source": [
    "# Time series plot\n",
    "fig, ax = plt.subplots(figsize=(8,5))\n",
    "sns.lineplot(data = co2_levels, y= co2_levels[\"Carbon Dioxide (ppm)\"], x= co2_levels.index)\n",
    "ax.set_title(f'Line Plot - Carbon Dioxide (ppm)')\n",
    "# Adjust layout\n",
    "plt.tight_layout()\n",
    "plt.show()"
   ]
  },
  {
   "cell_type": "markdown",
   "id": "0a659e55",
   "metadata": {},
   "source": [
    "## Explore and visualizing the data to gain insights\n"
   ]
  },
  {
   "cell_type": "markdown",
   "id": "4dcfae1a",
   "metadata": {},
   "source": [
    "### Univariate analysis"
   ]
  },
  {
   "cell_type": "markdown",
   "id": "c9306a1e",
   "metadata": {},
   "source": [
    "#### Numerical features"
   ]
  },
  {
   "cell_type": "code",
   "execution_count": 10,
   "id": "76e00bc3",
   "metadata": {},
   "outputs": [],
   "source": [
    "# Get numerical features \n",
    "numerical_feats = co2_levels.select_dtypes(include='number').columns"
   ]
  },
  {
   "cell_type": "markdown",
   "id": "c9939ae8",
   "metadata": {},
   "source": [
    "Let's plot the histograms of the numerical features."
   ]
  },
  {
   "cell_type": "code",
   "execution_count": 11,
   "id": "a05b7065",
   "metadata": {},
   "outputs": [
    {
     "data": {
      "image/png": "[encoded data removed]",
      "text/plain": [
       "<Figure size 800x500 with 3 Axes>"
      ]
     },
     "metadata": {},
     "output_type": "display_data"
    }
   ],
   "source": [
    "# Plot histograms\n",
    "ncol_max = 3\n",
    "nrow_max = math.ceil(len(numerical_feats)/ncol_max)\n",
    "fig, axs = plt.subplots(nrows = nrow_max, ncols = ncol_max, figsize=(8, 5))\n",
    "\n",
    "\n",
    "# Flatten axes for easy iteration\n",
    "axs = axs.flatten()\n",
    "\n",
    "# Histograms\n",
    "for col in numerical_feats:  \n",
    "        # Plotting the histograms\n",
    "        sns.histplot(data = co2_levels[numerical_feats], \n",
    "                     x= co2_levels[col], \n",
    "                     kde = True,                                   \n",
    "                     ax=axs[co2_levels[numerical_feats].columns.get_loc(col)])\n",
    "        \n",
    "        # Formatting\n",
    "        axs[co2_levels[numerical_feats].columns.get_loc(col)].set_xlabel(col)\n",
    "        axs[co2_levels[numerical_feats].columns.get_loc(col)].set_title(f'Hist Plot - {col}')\n",
    "        \n",
    "# Hide unused subplots\n",
    "for ax in axs[len(numerical_feats):]:\n",
    "    ax.axis('off')\n",
    "    \n",
    "# Adjust layout\n",
    "plt.tight_layout()\n",
    "plt.show()"
   ]
  },
  {
   "cell_type": "markdown",
   "id": "d4497d36",
   "metadata": {},
   "source": [
    "Let's plot the violin plots of the numerical features."
   ]
  },
  {
   "cell_type": "code",
   "execution_count": 12,
   "id": "32046966",
   "metadata": {},
   "outputs": [
    {
     "data": {
      "image/png": "[encoded data removed]",
      "text/plain": [
       "<Figure size 800x500 with 3 Axes>"
      ]
     },
     "metadata": {},
     "output_type": "display_data"
    }
   ],
   "source": [
    "# Plot violin plots\n",
    "ncol_max = 3\n",
    "nrow_max = math.ceil(len(numerical_feats)/ncol_max)\n",
    "fig, axs = plt.subplots(nrows = nrow_max, ncols = ncol_max, figsize=(8, 5))\n",
    "\n",
    "\n",
    "# Flatten axes for easy iteration\n",
    "axs = axs.flatten()\n",
    "\n",
    "# boxplots\n",
    "for col in numerical_feats:  \n",
    "        # Plotting the violin plots\n",
    "        sns.violinplot(data = co2_levels[numerical_feats], \n",
    "                     x= co2_levels[col],                                   \n",
    "                     ax=axs[co2_levels[numerical_feats].columns.get_loc(col)])\n",
    "        \n",
    "        # Formatting\n",
    "        axs[co2_levels[numerical_feats].columns.get_loc(col)].set_xlabel(col)\n",
    "        axs[co2_levels[numerical_feats].columns.get_loc(col)].set_title(f'Violin Plot - {col}')  \n",
    "\n",
    "# Hide unused subplots\n",
    "for ax in axs[len(numerical_feats):]:\n",
    "    ax.axis('off')\n",
    "    \n",
    "# Adjust layout\n",
    "plt.tight_layout()\n",
    "plt.show()"
   ]
  },
  {
   "cell_type": "markdown",
   "id": "282cd338",
   "metadata": {},
   "source": [
    "Let's plot the boxplots of the numerical features."
   ]
  },
  {
   "cell_type": "code",
   "execution_count": 13,
   "id": "910a7519",
   "metadata": {},
   "outputs": [
    {
     "data": {
      "image/png": "[encoded data removed]",
      "text/plain": [
       "<Figure size 800x500 with 3 Axes>"
      ]
     },
     "metadata": {},
     "output_type": "display_data"
    }
   ],
   "source": [
    "# Plot boxplots\n",
    "ncol_max = 3\n",
    "nrow_max = math.ceil(len(numerical_feats)/ncol_max)\n",
    "fig, axs = plt.subplots(nrows = nrow_max, ncols = ncol_max, figsize=(8, 5))\n",
    "\n",
    "\n",
    "# Flatten axes for easy iteration\n",
    "axs = axs.flatten()\n",
    "\n",
    "# boxplots\n",
    "for col in numerical_feats:  \n",
    "        # Plotting the boxplots\n",
    "        sns.boxplot(data = co2_levels[numerical_feats], \n",
    "                     x= co2_levels[col],                                   \n",
    "                     ax=axs[co2_levels[numerical_feats].columns.get_loc(col)])\n",
    "        \n",
    "        # Formatting\n",
    "        axs[co2_levels[numerical_feats].columns.get_loc(col)].set_xlabel(col)\n",
    "        axs[co2_levels[numerical_feats].columns.get_loc(col)].set_title(f'Box Plot - {col}')  \n",
    "        \n",
    "# Hide unused subplots\n",
    "for ax in axs[len(numerical_feats):]:\n",
    "    ax.axis('off')\n",
    "    \n",
    "# Adjust layout\n",
    "plt.tight_layout()\n",
    "plt.show()"
   ]
  },
  {
   "cell_type": "markdown",
   "id": "073b2e53",
   "metadata": {},
   "source": [
    "# Prepare the data for forecasting\n",
    "\n"
   ]
  },
  {
   "cell_type": "markdown",
   "id": "074b5591",
   "metadata": {},
   "source": [
    "## Cleaning the data\n",
    "\n"
   ]
  },
  {
   "cell_type": "markdown",
   "id": "dc97a997",
   "metadata": {},
   "source": [
    "### Processing duplicates\n"
   ]
  },
  {
   "cell_type": "markdown",
   "id": "69701efe",
   "metadata": {},
   "source": [
    "We check the number of duplicated rows.\n"
   ]
  },
  {
   "cell_type": "code",
   "execution_count": 14,
   "id": "d91b1f23",
   "metadata": {},
   "outputs": [
    {
     "name": "stdout",
     "output_type": "stream",
     "text": [
      "Number of rows : 720\n",
      "Number of duplicated rows (index + values) : 0\n"
     ]
    }
   ],
   "source": [
    "# Check number of rows before removing duplicates\n",
    "print(f\"Number of rows : {len(co2_levels)}\")\n",
    "\n",
    "# Compute the number of duplicated rows\n",
    "print(f\"Number of duplicated rows (index + values) : {co2_levels.reset_index().duplicated().sum()}\")"
   ]
  },
  {
   "cell_type": "markdown",
   "id": "4e0b3f21",
   "metadata": {},
   "source": [
    "### Processing missing data\n"
   ]
  },
  {
   "cell_type": "markdown",
   "id": "481ecf25",
   "metadata": {},
   "source": [
    "We check the percentage of missing values in the data at hand.\n"
   ]
  },
  {
   "cell_type": "code",
   "execution_count": 15,
   "id": "94677508",
   "metadata": {
    "scrolled": false
   },
   "outputs": [
    {
     "data": {
      "text/plain": [
       "Carbon Dioxide (ppm)    2.361111\n",
       "dtype: float64"
      ]
     },
     "execution_count": 15,
     "metadata": {},
     "output_type": "execute_result"
    }
   ],
   "source": [
    "def get_missing_data(data):       \n",
    "    # Counting the percentage of NaN for each column\n",
    "    missing_data = data.isnull().sum().sort_values(ascending=False)/len(data)*100 #NaN percentage for each column\n",
    "\n",
    "    # missing_data\n",
    "    missing_data = missing_data[missing_data > 0]\n",
    "\n",
    "    #Missing data column names\n",
    "    missing_cols = missing_data.index.values.tolist()\n",
    "\n",
    "    #Show missing data in percent    \n",
    "    return missing_data\n",
    "\n",
    "get_missing_data(co2_levels)"
   ]
  },
  {
   "cell_type": "markdown",
   "id": "3e1c1a7a",
   "metadata": {},
   "source": [
    "We have **2.36%** of missing values!\n",
    "\n"
   ]
  },
  {
   "cell_type": "markdown",
   "id": "c1404209",
   "metadata": {},
   "source": [
    "Let's look at the date of the missing values.\n"
   ]
  },
  {
   "cell_type": "code",
   "execution_count": 16,
   "id": "576ef51f",
   "metadata": {
    "scrolled": false
   },
   "outputs": [
    {
     "data": {
      "text/html": [
       "<div>\n",
       "<style scoped>\n",
       "    .dataframe tbody tr th:only-of-type {\n",
       "        vertical-align: middle;\n",
       "    }\n",
       "\n",
       "    .dataframe tbody tr th {\n",
       "        vertical-align: top;\n",
       "    }\n",
       "\n",
       "    .dataframe thead th {\n",
       "        text-align: right;\n",
       "    }\n",
       "</style>\n",
       "<table border=\"1\" class=\"dataframe\">\n",
       "  <thead>\n",
       "    <tr style=\"text-align: right;\">\n",
       "      <th></th>\n",
       "      <th>Carbon Dioxide (ppm)</th>\n",
       "    </tr>\n",
       "    <tr>\n",
       "      <th>Year_Month</th>\n",
       "      <th></th>\n",
       "    </tr>\n",
       "  </thead>\n",
       "  <tbody>\n",
       "    <tr>\n",
       "      <th>1958-01-01</th>\n",
       "      <td>NaN</td>\n",
       "    </tr>\n",
       "    <tr>\n",
       "      <th>1958-02-01</th>\n",
       "      <td>NaN</td>\n",
       "    </tr>\n",
       "    <tr>\n",
       "      <th>1958-06-01</th>\n",
       "      <td>NaN</td>\n",
       "    </tr>\n",
       "    <tr>\n",
       "      <th>1958-10-01</th>\n",
       "      <td>NaN</td>\n",
       "    </tr>\n",
       "    <tr>\n",
       "      <th>1964-02-01</th>\n",
       "      <td>NaN</td>\n",
       "    </tr>\n",
       "    <tr>\n",
       "      <th>1964-03-01</th>\n",
       "      <td>NaN</td>\n",
       "    </tr>\n",
       "    <tr>\n",
       "      <th>1964-04-01</th>\n",
       "      <td>NaN</td>\n",
       "    </tr>\n",
       "    <tr>\n",
       "      <th>2017-03-01</th>\n",
       "      <td>NaN</td>\n",
       "    </tr>\n",
       "    <tr>\n",
       "      <th>2017-04-01</th>\n",
       "      <td>NaN</td>\n",
       "    </tr>\n",
       "    <tr>\n",
       "      <th>2017-05-01</th>\n",
       "      <td>NaN</td>\n",
       "    </tr>\n",
       "    <tr>\n",
       "      <th>2017-06-01</th>\n",
       "      <td>NaN</td>\n",
       "    </tr>\n",
       "    <tr>\n",
       "      <th>2017-07-01</th>\n",
       "      <td>NaN</td>\n",
       "    </tr>\n",
       "    <tr>\n",
       "      <th>2017-08-01</th>\n",
       "      <td>NaN</td>\n",
       "    </tr>\n",
       "    <tr>\n",
       "      <th>2017-09-01</th>\n",
       "      <td>NaN</td>\n",
       "    </tr>\n",
       "    <tr>\n",
       "      <th>2017-10-01</th>\n",
       "      <td>NaN</td>\n",
       "    </tr>\n",
       "    <tr>\n",
       "      <th>2017-11-01</th>\n",
       "      <td>NaN</td>\n",
       "    </tr>\n",
       "    <tr>\n",
       "      <th>2017-12-01</th>\n",
       "      <td>NaN</td>\n",
       "    </tr>\n",
       "  </tbody>\n",
       "</table>\n",
       "</div>"
      ],
      "text/plain": [
       "            Carbon Dioxide (ppm)\n",
       "Year_Month                      \n",
       "1958-01-01                   NaN\n",
       "1958-02-01                   NaN\n",
       "1958-06-01                   NaN\n",
       "1958-10-01                   NaN\n",
       "1964-02-01                   NaN\n",
       "1964-03-01                   NaN\n",
       "1964-04-01                   NaN\n",
       "2017-03-01                   NaN\n",
       "2017-04-01                   NaN\n",
       "2017-05-01                   NaN\n",
       "2017-06-01                   NaN\n",
       "2017-07-01                   NaN\n",
       "2017-08-01                   NaN\n",
       "2017-09-01                   NaN\n",
       "2017-10-01                   NaN\n",
       "2017-11-01                   NaN\n",
       "2017-12-01                   NaN"
      ]
     },
     "execution_count": 16,
     "metadata": {},
     "output_type": "execute_result"
    }
   ],
   "source": [
    "# Let's look at the date of the missing values.\n",
    "co2_levels.loc[co2_levels[\"Carbon Dioxide (ppm)\"].isnull()]"
   ]
  },
  {
   "cell_type": "markdown",
   "id": "2c8c140a",
   "metadata": {},
   "source": [
    "The first values and the last values of the time series are NaN values. Let's get rid of those.\n"
   ]
  },
  {
   "cell_type": "code",
   "execution_count": 19,
   "id": "f087479b",
   "metadata": {
    "scrolled": true
   },
   "outputs": [],
   "source": [
    "# The first values and the last values of the time series are NaN values. Let's get rid of those.\n",
    "co2_levels = co2_levels.loc[(co2_levels.index > \"1958-02-01\")]\n",
    "co2_levels = co2_levels.loc[(co2_levels.index < \"2017-03-01\")]"
   ]
  },
  {
   "cell_type": "markdown",
   "id": "fcdd91a3",
   "metadata": {},
   "source": [
    "Let's check at the date of the remaining missing values.\n"
   ]
  },
  {
   "cell_type": "code",
   "execution_count": 20,
   "id": "f16636f8",
   "metadata": {
    "scrolled": true
   },
   "outputs": [
    {
     "data": {
      "text/html": [
       "<div>\n",
       "<style scoped>\n",
       "    .dataframe tbody tr th:only-of-type {\n",
       "        vertical-align: middle;\n",
       "    }\n",
       "\n",
       "    .dataframe tbody tr th {\n",
       "        vertical-align: top;\n",
       "    }\n",
       "\n",
       "    .dataframe thead th {\n",
       "        text-align: right;\n",
       "    }\n",
       "</style>\n",
       "<table border=\"1\" class=\"dataframe\">\n",
       "  <thead>\n",
       "    <tr style=\"text-align: right;\">\n",
       "      <th></th>\n",
       "      <th>Carbon Dioxide (ppm)</th>\n",
       "    </tr>\n",
       "    <tr>\n",
       "      <th>Year_Month</th>\n",
       "      <th></th>\n",
       "    </tr>\n",
       "  </thead>\n",
       "  <tbody>\n",
       "    <tr>\n",
       "      <th>1958-06-01</th>\n",
       "      <td>NaN</td>\n",
       "    </tr>\n",
       "    <tr>\n",
       "      <th>1958-10-01</th>\n",
       "      <td>NaN</td>\n",
       "    </tr>\n",
       "    <tr>\n",
       "      <th>1964-02-01</th>\n",
       "      <td>NaN</td>\n",
       "    </tr>\n",
       "    <tr>\n",
       "      <th>1964-03-01</th>\n",
       "      <td>NaN</td>\n",
       "    </tr>\n",
       "    <tr>\n",
       "      <th>1964-04-01</th>\n",
       "      <td>NaN</td>\n",
       "    </tr>\n",
       "  </tbody>\n",
       "</table>\n",
       "</div>"
      ],
      "text/plain": [
       "            Carbon Dioxide (ppm)\n",
       "Year_Month                      \n",
       "1958-06-01                   NaN\n",
       "1958-10-01                   NaN\n",
       "1964-02-01                   NaN\n",
       "1964-03-01                   NaN\n",
       "1964-04-01                   NaN"
      ]
     },
     "execution_count": 20,
     "metadata": {},
     "output_type": "execute_result"
    }
   ],
   "source": [
    "# Let's look at the date of the missing values.\n",
    "co2_levels.loc[co2_levels[\"Carbon Dioxide (ppm)\"].isnull()]"
   ]
  },
  {
   "cell_type": "markdown",
   "id": "c11a920d",
   "metadata": {},
   "source": [
    "The simplest option here is to use the very useful pd.interpolate(\"linear\") function to fill these in for us.\n"
   ]
  },
  {
   "cell_type": "code",
   "execution_count": null,
   "id": "3f4baa8d",
   "metadata": {},
   "outputs": [],
   "source": [
    "# The simplest option here is to use the very useful pd.interpolate(\"linear\") function to fill these in for us.\n",
    "co2_levels = co2_levels.interpolate(\"linear\")"
   ]
  },
  {
   "cell_type": "markdown",
   "id": "f64d4401",
   "metadata": {},
   "source": [
    "Let's do a final check for missing values.\n"
   ]
  },
  {
   "cell_type": "code",
   "execution_count": null,
   "id": "74cd2291",
   "metadata": {},
   "outputs": [],
   "source": [
    "# Let's do a final check for missing values.\n",
    "get_missing_data(co2_levels)"
   ]
  },
  {
   "cell_type": "markdown",
   "id": "04b2928e",
   "metadata": {},
   "source": [
    "We don't have Nan values anymore.\n"
   ]
  },
  {
   "cell_type": "code",
   "execution_count": 46,
   "id": "c4d9f387",
   "metadata": {},
   "outputs": [
    {
     "ename": "SyntaxError",
     "evalue": "Missing parentheses in call to 'print'. Did you mean print(...)? (908402389.py, line 1)",
     "output_type": "error",
     "traceback": [
      "\u001b[0;36m  Cell \u001b[0;32mIn [46], line 1\u001b[0;36m\u001b[0m\n\u001b[0;31m    print i\u001b[0m\n\u001b[0m    ^\u001b[0m\n\u001b[0;31mSyntaxError\u001b[0m\u001b[0;31m:\u001b[0m Missing parentheses in call to 'print'. Did you mean print(...)?\n"
     ]
    }
   ],
   "source": [
    "print i\n"
   ]
  },
  {
   "cell_type": "markdown",
   "id": "c54979ee",
   "metadata": {},
   "source": [
    "## Test set and train set\n",
    "\n"
   ]
  },
  {
   "cell_type": "markdown",
   "id": "014ecdd6",
   "metadata": {},
   "source": [
    "To avoid **data snooping bias**, we create a train set and a test set.\n",
    "\n"
   ]
  },
  {
   "cell_type": "markdown",
   "id": "889994bb",
   "metadata": {},
   "source": [
    "We split the data in : <br>\n",
    "- a train on which we will train our final model\n",
    "- a test set we will use to evaluate the model (in the end)\n"
   ]
  },
  {
   "cell_type": "code",
   "execution_count": null,
   "id": "a6b727ab",
   "metadata": {},
   "outputs": [],
   "source": [
    "# Create train set and test set (stratified based on median incom categories)\n",
    "strat_train_set, strat_test_set = train_test_split(\n",
    "    housing, test_size=0.2, stratify=housing[\"income_cat\"], random_state=42)\n"
   ]
  },
  {
   "cell_type": "code",
   "execution_count": null,
   "id": "a37697df",
   "metadata": {},
   "outputs": [],
   "source": [
    "# Next up we need to split into a train and test set (we'll do an 80:20 split).\n",
    "# Let's keep the last 20% of the values out for testing purposes\n",
    "train_size = 0.8\n",
    "index = round(train_size*monthly.shape[0])\n",
    "\n",
    "train = monthly.iloc[:index]\n",
    "test = monthly.iloc[index:]"
   ]
  },
  {
   "cell_type": "code",
   "execution_count": null,
   "id": "c23971a9",
   "metadata": {},
   "outputs": [],
   "source": [
    "co2_levels\n"
   ]
  },
  {
   "cell_type": "code",
   "execution_count": null,
   "id": "bdbe1176",
   "metadata": {},
   "outputs": [],
   "source": []
  },
  {
   "cell_type": "code",
   "execution_count": null,
   "id": "a78ab258",
   "metadata": {},
   "outputs": [],
   "source": []
  },
  {
   "cell_type": "code",
   "execution_count": null,
   "id": "1e4baeae",
   "metadata": {},
   "outputs": [],
   "source": []
  },
  {
   "cell_type": "code",
   "execution_count": null,
   "id": "3341ce1f",
   "metadata": {},
   "outputs": [],
   "source": []
  },
  {
   "cell_type": "markdown",
   "id": "8471d3e7",
   "metadata": {},
   "source": [
    "We separate the features from the target.\n"
   ]
  },
  {
   "cell_type": "code",
   "execution_count": null,
   "id": "8b66c96a",
   "metadata": {},
   "outputs": [],
   "source": [
    "# Separate featues from target\n",
    "X_train = strat_train_set.drop(\"median_house_value\", axis=1)\n",
    "y_train = strat_train_set[\"median_house_value\"].copy()"
   ]
  },
  {
   "cell_type": "markdown",
   "id": "044b0ccd",
   "metadata": {},
   "source": [
    "## Cleaning the data\n",
    "\n"
   ]
  },
  {
   "cell_type": "markdown",
   "id": "8d534547",
   "metadata": {},
   "source": [
    "### Processing duplicates\n"
   ]
  },
  {
   "cell_type": "markdown",
   "id": "6f30cfb3",
   "metadata": {},
   "source": [
    "We check the number of duplicated rows.\n"
   ]
  },
  {
   "cell_type": "code",
   "execution_count": null,
   "id": "92037146",
   "metadata": {},
   "outputs": [],
   "source": [
    "# Check number of rows before removing duplicates\n",
    "print(f\"Number of rows : {len(co2_levels)}\")\n",
    "\n",
    "# Compute the number of duplicated rows\n",
    "print(f\"Number of duplicated rows : {co2_levels.reset_index().duplicated().sum()}\")"
   ]
  },
  {
   "cell_type": "markdown",
   "id": "d9e09b74",
   "metadata": {},
   "source": [
    "### Processing missing data\n"
   ]
  },
  {
   "cell_type": "markdown",
   "id": "aeff49c6",
   "metadata": {},
   "source": [
    "We check the percentage of missing values in the data at hand.\n"
   ]
  },
  {
   "cell_type": "code",
   "execution_count": null,
   "id": "c041dd48",
   "metadata": {},
   "outputs": [],
   "source": [
    "def get_missing_data(data):       \n",
    "    # Counting the percentage of NaN for each column\n",
    "    missing_data = data.isnull().sum().sort_values(ascending=False)/len(data)*100 #NaN percentage for each column\n",
    "\n",
    "    # missing_data\n",
    "    missing_data = missing_data[missing_data > 0]\n",
    "\n",
    "    #Missing data column names\n",
    "    missing_cols = missing_data.index.values.tolist()\n",
    "\n",
    "    #Show missing data in percent\n",
    "    return missing_data\n",
    "\n",
    "missing_data = get_missing_data(co2_levels)\n",
    "missing_data\n",
    "\n"
   ]
  },
  {
   "cell_type": "markdown",
   "id": "fdf2bee8",
   "metadata": {},
   "source": [
    "One solution is to replace the missing values by a representative value of the corresponding feature.\n"
   ]
  },
  {
   "cell_type": "code",
   "execution_count": null,
   "id": "2ac0698c",
   "metadata": {
    "scrolled": false
   },
   "outputs": [],
   "source": [
    "# Insatantiate a simple imputer implementing a median strategy\n",
    "imputer = SimpleImputer(strategy=\"median\")\n",
    "\n",
    "# Select only the numerical features\n",
    "X_train_num = X_train.select_dtypes(include=[np.number])\n",
    "\n",
    "# Fitting the simple imputer on the numerical features\n",
    "imputer.fit(X_train_num)\n",
    "\n",
    "# Applying/transforming the numerical columns with the simple imputer \n",
    "X_train_num_transformed = imputer.transform(X_train_num)\n",
    "\n",
    "# Convert the numpy array to a pandas dataframe\n",
    "X_train_num_tr = pd.DataFrame(X_train_num_transformed, columns=X_train_num.columns, index= X_train_num.index)"
   ]
  },
  {
   "cell_type": "markdown",
   "id": "a700b757",
   "metadata": {},
   "source": [
    "After imputation, let's check if we still have missing values in our data.\n"
   ]
  },
  {
   "cell_type": "code",
   "execution_count": null,
   "id": "d5de19a8",
   "metadata": {},
   "outputs": [],
   "source": [
    "# Check for missing data\n",
    "missing_data = get_missing_data(X_train_num_tr)\n",
    "missing_data\n"
   ]
  },
  {
   "cell_type": "markdown",
   "id": "53e82dd5",
   "metadata": {},
   "source": [
    "We don't have missing values now.\n"
   ]
  },
  {
   "cell_type": "markdown",
   "id": "5d82ee00",
   "metadata": {},
   "source": [
    "### Checking outliers"
   ]
  },
  {
   "cell_type": "markdown",
   "id": "7b08efee",
   "metadata": {},
   "source": [
    "Let's check the outliers of the numerical columns.\n"
   ]
  },
  {
   "cell_type": "code",
   "execution_count": null,
   "id": "3582734c",
   "metadata": {
    "scrolled": false
   },
   "outputs": [],
   "source": [
    "# Plot boxplots of each numerical column\n",
    "plt.figure(figsize=(10, 20))\n",
    "\n",
    "# for column in housing_num_tr.columns: \n",
    "for i, column in enumerate(X_train_num_tr.columns.to_list(), 1):\n",
    "    plt.subplot(13, 3, i)\n",
    "    sns.boxplot(x=X_train_num_tr[column], palette='Set2')\n",
    "    plt.title(f'Boxplot of {column}')\n",
    "    plt.xlabel(column)\n",
    "    plt.ylabel('Value')\n",
    "\n",
    "plt.tight_layout()\n",
    "plt.show()\n"
   ]
  },
  {
   "cell_type": "markdown",
   "id": "09f2ee08",
   "metadata": {},
   "source": [
    "It would be useful to extract the features containing outliers automatically. It will be used for pipeline implementation.\n",
    "\n"
   ]
  },
  {
   "cell_type": "markdown",
   "id": "a64e4bf3",
   "metadata": {},
   "source": [
    "Let's extract the features with outliers numerically !\n"
   ]
  },
  {
   "cell_type": "code",
   "execution_count": null,
   "id": "60572c0c",
   "metadata": {},
   "outputs": [],
   "source": [
    "# Identify the columns with outliers\n",
    "numerical_columns_w_outliers = []\n",
    "numerical_columns_no_outliers = []\n",
    "\n",
    "for col in X_train_num_tr.columns: \n",
    "    # Calculate IQR\n",
    "    iqr_value = iqr(X_train_num_tr[col])\n",
    "\n",
    "    #Calculate 1st quartile\n",
    "    q1 = np.percentile(X_train_num_tr[col],25)\n",
    "\n",
    "    #Calculate 3rd quartile\n",
    "    q3 = np.percentile(X_train_num_tr[col],75)\n",
    "\n",
    "    #Calculate lower limit below which data point is considered an outlier\n",
    "    outlier_lim_low = q1 - 1.5 * iqr_value\n",
    "\n",
    "    #Calculate higher limit above which data point is considered an outlier\n",
    "    outlier_lim_high = q3 + 1.5 * iqr_value\n",
    "    \n",
    "    #Calculate number of 'low' outliers\n",
    "    outlier_condition_low = X_train_num_tr[col] < outlier_lim_low\n",
    "    number_outliers_low = len(X_train_num_tr[outlier_condition_low][col])\n",
    "    \n",
    "    #Calculate number of 'high' outliers\n",
    "    outlier_condition_high = X_train_num_tr[col] > outlier_lim_high\n",
    "    number_outliers_high = len(X_train_num_tr[outlier_condition_high][col])\n",
    "    \n",
    "    #Calculate total number of outliers\n",
    "    number_outliers_total = number_outliers_low + number_outliers_high\n",
    "      \n",
    "    #If any outliers in column, column is added to a list of columns with outliers\n",
    "    if number_outliers_total > 0:\n",
    "        numerical_columns_w_outliers.append(col)\n",
    "    elif number_outliers_total == 0:\n",
    "        numerical_columns_no_outliers.append(col)     \n",
    "        "
   ]
  },
  {
   "cell_type": "markdown",
   "id": "ff1e42f6",
   "metadata": {},
   "source": [
    "### Feature scaling and transformation\n"
   ]
  },
  {
   "cell_type": "markdown",
   "id": "b18527c6",
   "metadata": {},
   "source": [
    "**WHY SCALING ??**\n",
    "\n",
    "❗️ Features with large magnitudes can incorrectly outweigh features of small magnitudes <br>\n",
    "⚡️ Scaling to smaller magnitudes improves computational efficiency <br>\n",
    "🕵🏻‍♂️ Increases interpretability about the impact of each feature in a Machine Learning model <br>\n"
   ]
  },
  {
   "cell_type": "markdown",
   "id": "e3cb0646",
   "metadata": {},
   "source": [
    "#### Columns with outliers\n"
   ]
  },
  {
   "cell_type": "markdown",
   "id": "fb6eed3e",
   "metadata": {},
   "source": [
    "<span style=\"font-family:Comic Sans MS; color:red\">We consider using Robust scaling for columns WITH outliers !  </span>\n"
   ]
  },
  {
   "attachments": {
    "image.png": {
     "image/png": "[encoded data removed]"
    }
   },
   "cell_type": "markdown",
   "id": "a4c41a40",
   "metadata": {},
   "source": [
    "![image.png](attachment:image.png)\n"
   ]
  },
  {
   "cell_type": "code",
   "execution_count": null,
   "id": "4eb5e3a2",
   "metadata": {},
   "outputs": [],
   "source": [
    "# Reminder of features with outliers\n",
    "display(numerical_columns_w_outliers)"
   ]
  },
  {
   "cell_type": "markdown",
   "id": "53fee30a",
   "metadata": {},
   "source": [
    "Let's have a look of the statistics of numerical columns with outliers (**BEFORE SCALING**).\n",
    "\n"
   ]
  },
  {
   "cell_type": "code",
   "execution_count": null,
   "id": "b48fd423",
   "metadata": {},
   "outputs": [],
   "source": [
    "# Describe columns with outliers\n",
    "X_train_num_tr[numerical_columns_w_outliers].describe()"
   ]
  },
  {
   "cell_type": "code",
   "execution_count": null,
   "id": "a3db7b55",
   "metadata": {
    "scrolled": true
   },
   "outputs": [],
   "source": [
    "# Instantiate Robustscaler\n",
    "robust_scaler = RobustScaler()\n",
    "\n",
    "# Fit and transform\n",
    "X_train_num_tr[numerical_columns_w_outliers] = robust_scaler.fit_transform(X_train_num_tr[numerical_columns_w_outliers])\n",
    "X_train_num_tr.head(3)"
   ]
  },
  {
   "cell_type": "markdown",
   "id": "c38fc31b",
   "metadata": {},
   "source": [
    "Now, let's check the statistics of the numerical columns with outliers (**AFTER SCALING**).\n",
    "\n"
   ]
  },
  {
   "cell_type": "code",
   "execution_count": null,
   "id": "70e63a40",
   "metadata": {},
   "outputs": [],
   "source": [
    "# Describe columns with outliers\n",
    "X_train_num_tr[numerical_columns_w_outliers].describe()"
   ]
  },
  {
   "cell_type": "markdown",
   "id": "7bb3939c",
   "metadata": {},
   "source": [
    "#### Columns without outliers\n"
   ]
  },
  {
   "cell_type": "markdown",
   "id": "8450d0d0",
   "metadata": {},
   "source": [
    "<span style=\"font-family:Comic Sans MS; color:red\">We consider using MinMax scaling for columns WITHOUT outliers !  </span>\n"
   ]
  },
  {
   "attachments": {
    "image-2.png": {
     "image/png": "[encoded data removed]"
    },
    "image.png": {
     "image/png": "[encoded data removed]"
    }
   },
   "cell_type": "markdown",
   "id": "a7e66393",
   "metadata": {},
   "source": [
    "![image.png](attachment:image.png)\n",
    "![image-2.png](attachment:image-2.png)\n"
   ]
  },
  {
   "cell_type": "markdown",
   "id": "d1ea5a49",
   "metadata": {},
   "source": [
    "Let's have a look of the statistics of numerical columns without outliers (**BEFORE SCALING**).\n"
   ]
  },
  {
   "cell_type": "code",
   "execution_count": null,
   "id": "bc92c0a3",
   "metadata": {},
   "outputs": [],
   "source": [
    "# Describe columns with NO outliers\n",
    "X_train_num_tr[numerical_columns_no_outliers].describe()"
   ]
  },
  {
   "cell_type": "code",
   "execution_count": null,
   "id": "dbda86c7",
   "metadata": {},
   "outputs": [],
   "source": [
    "#Instanciate, fit, transform with minmax scaler\n",
    "minmax_scaler = MinMaxScaler()\n",
    "X_train_num_tr[numerical_columns_no_outliers] = minmax_scaler.fit_transform(X_train_num_tr[numerical_columns_no_outliers])"
   ]
  },
  {
   "cell_type": "markdown",
   "id": "4c099864",
   "metadata": {},
   "source": [
    "Now, let's check the statistics of the numerical columns without outliers (**AFTER SCALING**).\n"
   ]
  },
  {
   "cell_type": "code",
   "execution_count": null,
   "id": "5f71eeea",
   "metadata": {},
   "outputs": [],
   "source": [
    "# Describe columns with NO outliers\n",
    "X_train_num_tr[numerical_columns_no_outliers].describe()"
   ]
  },
  {
   "cell_type": "markdown",
   "id": "ecc0a961",
   "metadata": {},
   "source": [
    "### Create pipelines\n"
   ]
  },
  {
   "cell_type": "code",
   "execution_count": null,
   "id": "93cce2de",
   "metadata": {},
   "outputs": [],
   "source": [
    "# Reminder of the columns to deal with\n",
    "print(numerical_columns_w_outliers)\n",
    "print(numerical_columns_no_outliers)\n",
    "print(categorical_columns)"
   ]
  },
  {
   "cell_type": "code",
   "execution_count": null,
   "id": "b3ce4c00",
   "metadata": {
    "scrolled": false
   },
   "outputs": [],
   "source": [
    "# Create pipelines\n",
    "num_transformer_w_outliers = make_pipeline(SimpleImputer(strategy=\"median\"), RobustScaler())\n",
    "num_transformer_no_outliers = make_pipeline(SimpleImputer(strategy=\"median\"), MinMaxScaler())\n",
    "cat_transformer = OneHotEncoder(sparse_output=False)\n",
    "\n",
    "# 'Assemble' the pipelines\n",
    "preprocessing = make_column_transformer(\n",
    "                                        (num_transformer_w_outliers, numerical_columns_w_outliers),\n",
    "                                        (num_transformer_no_outliers, numerical_columns_no_outliers),\n",
    "                                        (cat_transformer, categorical_columns)\n",
    "                                        )\n",
    "\n",
    "preprocessing"
   ]
  },
  {
   "cell_type": "markdown",
   "id": "28b499c9",
   "metadata": {},
   "source": [
    "# Select and train a model\n",
    "\n",
    "\n"
   ]
  },
  {
   "cell_type": "code",
   "execution_count": null,
   "id": "8b01a77b",
   "metadata": {},
   "outputs": [],
   "source": [
    "# Separate featues from target\n",
    "X_train = strat_train_set.drop(\"median_house_value\", axis=1)\n",
    "y_train = strat_train_set[\"median_house_value\"].copy()"
   ]
  },
  {
   "cell_type": "markdown",
   "id": "def3f550",
   "metadata": {},
   "source": [
    "Now, let's use several regression models.\n"
   ]
  },
  {
   "cell_type": "markdown",
   "id": "f310f38f",
   "metadata": {},
   "source": [
    "## Cross validation\n"
   ]
  },
  {
   "cell_type": "code",
   "execution_count": null,
   "id": "2c7b5c3a",
   "metadata": {},
   "outputs": [],
   "source": [
    "%%time\n",
    "\n",
    "# Selection of models to try out\n",
    "models = [LinearRegression(), \n",
    "                 DecisionTreeRegressor(random_state=42),\n",
    "                 RandomForestRegressor(random_state=42)]\n",
    "\n",
    "scores_dict = {}\n",
    "\n",
    "# Train and evaluate the models\n",
    "for model in models:\n",
    "    dico = {}\n",
    "    piped_model = make_pipeline(preprocessing, model)\n",
    "    scores = cross_validate(piped_model, \n",
    "                            X_train, \n",
    "                            y_train, \n",
    "                            cv=5, \n",
    "                            scoring=[\"neg_root_mean_squared_error\",\n",
    "                                     \"r2\",\n",
    "                                     \"neg_mean_absolute_error\"])\n",
    "    # Compute the mean metrics for each model \n",
    "    dico['mean_r2'] = scores['test_r2'].mean() \n",
    "    dico['mean_rmse'] = -scores['test_neg_root_mean_squared_error'].mean()\n",
    "    dico['mean_mae'] = -scores['test_neg_mean_absolute_error'].mean()\n",
    "    \n",
    "    # Assign the mean metrics to each model     \n",
    "    scores_dict[str(model)[:str(model).find('(')]]= dico\n",
    "    \n",
    "# Create a summary dataframe\n",
    "mean_r2_list = []\n",
    "mean_mae_list=[]\n",
    "mean_rmse_list=[]\n",
    "index_list = []\n",
    "\n",
    "for key, value in scores_dict.items():\n",
    "    index_list.append(key)\n",
    "    mean_r2_list.append(value['mean_r2'])\n",
    "    mean_mae_list.append(value['mean_mae'])\n",
    "    mean_rmse_list.append(value['mean_rmse'])\n",
    "\n",
    "summary_df = pd.DataFrame(\n",
    "    {\"mean_r2\" : mean_r2_list,\n",
    "    \"mean_mae\" : mean_mae_list,\n",
    "    \"mean_rmse\" : mean_rmse_list},\n",
    "    index = index_list\n",
    ")\n",
    "\n",
    "display(summary_df)"
   ]
  },
  {
   "cell_type": "markdown",
   "id": "1cd982d2",
   "metadata": {},
   "source": [
    "**RandomForestRegressor** seems to have the lowest **RMSE** score, the lowest **MAE** and the biggest **R2** score.\n",
    "\n"
   ]
  },
  {
   "cell_type": "markdown",
   "id": "b30cf8d3",
   "metadata": {},
   "source": [
    "## Residuals\n",
    "\n"
   ]
  },
  {
   "cell_type": "code",
   "execution_count": null,
   "id": "e714c81d",
   "metadata": {},
   "outputs": [],
   "source": [
    "# Separate featues from target\n",
    "X_test = strat_test_set.drop(\"median_house_value\", axis=1)\n",
    "y_test = strat_test_set[\"median_house_value\"].copy()"
   ]
  },
  {
   "cell_type": "code",
   "execution_count": null,
   "id": "535506de",
   "metadata": {
    "scrolled": true
   },
   "outputs": [],
   "source": [
    "%%time\n",
    "\n",
    "# Selection of models to try out\n",
    "models = [LinearRegression(), \n",
    "                 DecisionTreeRegressor(random_state=42),\n",
    "                 RandomForestRegressor(random_state=42)]\n",
    "\n",
    "predictions = {}\n",
    "residuals = {}\n",
    "absolute_residuals = {}\n",
    "\n",
    "# Train and predict\n",
    "for model in models:\n",
    "    piped_model = make_pipeline(preprocessing, model)\n",
    "    piped_model.fit(X_train, y_train)\n",
    "    \n",
    "    # Predictions     \n",
    "    predictions[str(model)[:str(model).find('(')]] = piped_model.predict(X_test)\n",
    "    # Residuals\n",
    "    residuals[str(model)[:str(model).find('(')]] = y_test-piped_model.predict(X_test)\n",
    "    # Absolute value of Residuals\n",
    "    absolute_residuals[str(model)[:str(model).find('(')]] = abs(y_test-piped_model.predict(X_test))\n",
    "\n",
    "predictons_df = pd.DataFrame(predictions, index=y_test.index)\n",
    "residuals_df = pd.DataFrame(residuals, index=y_test.index)\n",
    "absolute_residuals_df = pd.DataFrame(absolute_residuals, index=y_test.index)\n",
    "\n",
    "display(pd.merge(y_test, predictons_df, left_index=True, right_index=True))\n",
    "display(pd.merge(y_test, residuals_df, left_index=True, right_index=True))\n",
    "display(pd.merge(y_test, absolute_residuals_df, left_index=True, right_index=True))"
   ]
  },
  {
   "cell_type": "markdown",
   "id": "233e9adf",
   "metadata": {},
   "source": [
    "### Scatter plots of Residuals VS Actual values\n"
   ]
  },
  {
   "cell_type": "code",
   "execution_count": null,
   "id": "1e451a79",
   "metadata": {
    "scrolled": false
   },
   "outputs": [],
   "source": [
    "# Plot scatter plots between actual values and residuals (actual values - predicted values)\n",
    "ncol_max = 2\n",
    "nrow_max = math.ceil(len(residuals_df.columns)/ncol_max)\n",
    "fig, axs = plt.subplots(nrows = nrow_max, ncols = ncol_max, figsize=(10, 10))\n",
    "\n",
    "# Flatten axes for easy iteration\n",
    "axs = axs.flatten()\n",
    "\n",
    "for col in residuals_df.columns:  \n",
    "        axs[residuals_df.columns.get_loc(col)].scatter(y_test, residuals_df[col], color='blue', alpha=0.6)\n",
    "        \n",
    "        # Formatting\n",
    "        axs[residuals_df.columns.get_loc(col)].set_xlabel('Actual Values')\n",
    "        axs[residuals_df.columns.get_loc(col)].set_ylabel('Residuals')\n",
    "        axs[residuals_df.columns.get_loc(col)].set_title(f'Residual Plot - {col}')  \n",
    "        axs[residuals_df.columns.get_loc(col)].axhline(y=0, color='red', linestyle='--')\n",
    "\n",
    "# Hide unused subplots\n",
    "for ax in axs[len(residuals_df.columns):]:\n",
    "    ax.axis('off')\n",
    "    \n",
    "# Adjust layout\n",
    "plt.tight_layout()\n",
    "plt.show()\n"
   ]
  },
  {
   "cell_type": "markdown",
   "id": "2a486771",
   "metadata": {},
   "source": [
    "### Scatter plots of Residuals VS Predicted values\n"
   ]
  },
  {
   "cell_type": "code",
   "execution_count": null,
   "id": "3b590e4a",
   "metadata": {
    "scrolled": true
   },
   "outputs": [],
   "source": [
    "# Plot scatter plots between actual values and residuals (actual values - predicted values)\n",
    "ncol_max = 2\n",
    "nrow_max = math.ceil(len(residuals_df.columns)/ncol_max)\n",
    "fig, axs = plt.subplots(nrows = nrow_max, ncols = ncol_max, figsize=(10, 10))\n",
    "\n",
    "# Flatten axes for easy iteration\n",
    "axs = axs.flatten()\n",
    "\n",
    "for col in residuals_df.columns:  \n",
    "        axs[residuals_df.columns.get_loc(col)].scatter(predictons_df[col], residuals_df[col], color='blue', alpha=0.6)\n",
    "        \n",
    "        # Formatting\n",
    "        axs[residuals_df.columns.get_loc(col)].set_xlabel('Predicted Values')\n",
    "        axs[residuals_df.columns.get_loc(col)].set_ylabel('Residuals')\n",
    "        axs[residuals_df.columns.get_loc(col)].set_title(f'Residual Plot - {col}')  \n",
    "        axs[residuals_df.columns.get_loc(col)].axhline(y=0, color='red', linestyle='--')\n",
    "\n",
    "# Hide unused subplots\n",
    "for ax in axs[len(residuals_df.columns):]:\n",
    "    ax.axis('off')\n",
    "    \n",
    "# Adjust layout\n",
    "plt.tight_layout()\n",
    "plt.show()\n"
   ]
  },
  {
   "cell_type": "markdown",
   "id": "a9d063ec",
   "metadata": {},
   "source": [
    "### Scatter plots of Absolute value of Residuals VS Actual values\n"
   ]
  },
  {
   "cell_type": "code",
   "execution_count": null,
   "id": "ae1c4d05",
   "metadata": {
    "scrolled": true
   },
   "outputs": [],
   "source": [
    "# Plot scatter plots between actual values and residuals (actual values - predicted values)\n",
    "ncol_max = 2\n",
    "nrow_max = math.ceil(len(residuals_df.columns)/ncol_max)\n",
    "fig, axs = plt.subplots(nrows = nrow_max, ncols = ncol_max, figsize=(10, 10))\n",
    "\n",
    "\n",
    "# Flatten axes for easy iteration\n",
    "axs = axs.flatten()\n",
    "\n",
    "for col in absolute_residuals_df.columns:  \n",
    "        axs[absolute_residuals_df.columns.get_loc(col)].scatter(y_test, absolute_residuals_df[col], color='blue', alpha=0.6)\n",
    "        \n",
    "        # Formatting\n",
    "        axs[absolute_residuals_df.columns.get_loc(col)].set_xlabel('Actual Values')\n",
    "        axs[absolute_residuals_df.columns.get_loc(col)].set_ylabel('Absolute value of Residuals')\n",
    "        axs[absolute_residuals_df.columns.get_loc(col)].set_title(f'Absolute value of Residuals Plot - {col}')\n",
    "        axs[residuals_df.columns.get_loc(col)].axhline(y=0, color='red', linestyle='--')\n",
    "    \n",
    "# Hide unused subplots\n",
    "for ax in axs[len(absolute_residuals_df.columns):]:\n",
    "    ax.axis('off')\n",
    "    \n",
    "# Adjust layout\n",
    "plt.tight_layout()\n",
    "plt.show()\n"
   ]
  },
  {
   "cell_type": "markdown",
   "id": "8194330e",
   "metadata": {},
   "source": [
    "### Scatter plots of Absolute value of Residuals VS Predicted values\n"
   ]
  },
  {
   "cell_type": "code",
   "execution_count": null,
   "id": "23a15856",
   "metadata": {
    "scrolled": false
   },
   "outputs": [],
   "source": [
    "# Plot scatter plots between actual values and residuals (actual values - predicted values)\n",
    "ncol_max = 2\n",
    "nrow_max = math.ceil(len(residuals_df.columns)/ncol_max)\n",
    "fig, axs = plt.subplots(nrows = nrow_max, ncols = ncol_max, figsize=(10, 10))\n",
    "\n",
    "\n",
    "# Flatten axes for easy iteration\n",
    "axs = axs.flatten()\n",
    "\n",
    "for col in absolute_residuals_df.columns:  \n",
    "        axs[absolute_residuals_df.columns.get_loc(col)].scatter(predictons_df[col], absolute_residuals_df[col], color='blue', alpha=0.6)\n",
    "        \n",
    "        # Formatting\n",
    "        axs[absolute_residuals_df.columns.get_loc(col)].set_xlabel('Predicted Values')\n",
    "        axs[absolute_residuals_df.columns.get_loc(col)].set_ylabel('Absolute value of Residuals')\n",
    "        axs[absolute_residuals_df.columns.get_loc(col)].set_title(f'Absolute value of Residuals Plot - {col}')\n",
    "        axs[residuals_df.columns.get_loc(col)].axhline(y=0, color='red', linestyle='--')\n",
    "    \n",
    "# Hide unused subplots\n",
    "for ax in axs[len(absolute_residuals_df.columns):]:\n",
    "    ax.axis('off')\n",
    "    \n",
    "# Adjust layout\n",
    "plt.tight_layout()\n",
    "plt.show()\n",
    "\n"
   ]
  },
  {
   "cell_type": "markdown",
   "id": "4841d18f",
   "metadata": {},
   "source": [
    "### KDE plots of Residuals\n"
   ]
  },
  {
   "cell_type": "code",
   "execution_count": null,
   "id": "127d995a",
   "metadata": {
    "scrolled": true
   },
   "outputs": [],
   "source": [
    "# Plot kde plots of residuals (actual values - predicted values)\n",
    "ncol_max = 2\n",
    "nrow_max = math.ceil(len(residuals_df.columns)/ncol_max)\n",
    "fig, axs = plt.subplots(nrows = nrow_max, ncols = ncol_max, figsize=(10, 10))\n",
    "\n",
    "# Flatten axes for easy iteration\n",
    "axs = axs.flatten()\n",
    "\n",
    "for col in residuals_df.columns:  \n",
    "        sns.kdeplot(x=residuals_df[col], ax=axs[residuals_df.columns.get_loc(col)])\n",
    "        \n",
    "        # Formatting\n",
    "        axs[residuals_df.columns.get_loc(col)].set_xlabel('Residuals Values', labelpad=10) \n",
    "        axs[residuals_df.columns.get_loc(col)].set_ylabel('kde distribution')\n",
    "        axs[residuals_df.columns.get_loc(col)].set_title(f'Residuals KDE Plot - {col}', pad=20)  \n",
    "        axs[residuals_df.columns.get_loc(col)].axhline(y=0, color='red', linestyle='--')\n",
    "\n",
    "# Hide unused subplots\n",
    "for ax in axs[len(residuals_df.columns):]:\n",
    "    ax.axis('off')\n",
    "    \n",
    "# Adjust layout\n",
    "plt.tight_layout()\n",
    "plt.show()"
   ]
  },
  {
   "cell_type": "markdown",
   "id": "b152ab3f",
   "metadata": {},
   "source": [
    "### Histograms plots of Residuals\n"
   ]
  },
  {
   "cell_type": "code",
   "execution_count": null,
   "id": "f8f9a8d6",
   "metadata": {
    "scrolled": true
   },
   "outputs": [],
   "source": [
    "# Plot kde plots of residuals (actual values - predicted values)\n",
    "ncol_max = 2\n",
    "nrow_max = math.ceil(len(residuals_df.columns)/ncol_max)\n",
    "fig, axs = plt.subplots(nrows = nrow_max, ncols = ncol_max, figsize=(10, 10))\n",
    "\n",
    "# Flatten axes for easy iteration\n",
    "axs = axs.flatten()\n",
    "\n",
    "for col in residuals_df.columns:  \n",
    "        sns.histplot(x=residuals_df[col], kde=True,bins=50, ax=axs[residuals_df.columns.get_loc(col)])\n",
    "     \n",
    "        # Formatting\n",
    "        axs[residuals_df.columns.get_loc(col)].set_xlabel('Residuals Values', labelpad=10) \n",
    "        axs[residuals_df.columns.get_loc(col)].set_ylabel('histplot')\n",
    "        axs[residuals_df.columns.get_loc(col)].set_title(f'Residuals Hist Plot - {col}', pad=20)  \n",
    "        axs[residuals_df.columns.get_loc(col)].axhline(y=0, color='red', linestyle='--')\n",
    "\n",
    "# Hide unused subplots\n",
    "for ax in axs[len(residuals_df.columns):]:\n",
    "    ax.axis('off')\n",
    "    \n",
    "# Adjust layout\n",
    "plt.tight_layout()\n",
    "plt.show()\n"
   ]
  },
  {
   "cell_type": "markdown",
   "id": "5c05826c",
   "metadata": {},
   "source": [
    "### Q-Q plots of Residuals\n"
   ]
  },
  {
   "cell_type": "code",
   "execution_count": null,
   "id": "733e9cb3",
   "metadata": {
    "scrolled": false
   },
   "outputs": [],
   "source": [
    "# Plot kde plots of residuals (actual values - predicted values)\n",
    "ncol_max = 2\n",
    "nrow_max = math.ceil(len(residuals_df.columns)/ncol_max)\n",
    "fig, axs = plt.subplots(nrows = nrow_max, ncols = ncol_max, figsize=(10, 10))\n",
    "\n",
    "# Flatten axes for easy iteration\n",
    "axs = axs.flatten()\n",
    "\n",
    "for col in residuals_df.columns:  \n",
    "#         sns.histplot(x=residuals_df[col], kde=True,bins=50, ax=axs[residuals_df.columns.get_loc(col)])\n",
    "        \n",
    "        stats.probplot(residuals_df[col], dist=\"norm\", plot=axs[residuals_df.columns.get_loc(col)])\n",
    "     \n",
    "        # Formatting\n",
    "#         axs[residuals_df.columns.get_loc(col)].set_xlabel('Residuals Values', labelpad=10) \n",
    "#         axs[residuals_df.columns.get_loc(col)].set_ylabel('histplot')\n",
    "        axs[residuals_df.columns.get_loc(col)].set_title(f'Q-Q Plot of Residuals - {col}', pad=20)  \n",
    "#         axs[residuals_df.columns.get_loc(col)].axhline(y=0, color='red', linestyle='--')\n",
    "\n",
    "# Hide unused subplots\n",
    "for ax in axs[len(residuals_df.columns):]:\n",
    "    ax.axis('off')\n",
    "    \n",
    "# Adjust layout\n",
    "plt.tight_layout()\n",
    "plt.show()\n"
   ]
  },
  {
   "cell_type": "code",
   "execution_count": null,
   "id": "65c2a05c",
   "metadata": {
    "scrolled": false
   },
   "outputs": [],
   "source": [
    "# Plot QQ plots of residuals (actual values - predicted values)\n",
    "def create_QQ_plot(residuals_dataframe):\n",
    "    ncol_max = 2\n",
    "    nrow_max = math.ceil(len(residuals_dataframe.columns)/ncol_max)\n",
    "    \n",
    "    fig, axs = plt.subplots(nrows = nrow_max, ncols = ncol_max, figsize=(10, 10))\n",
    "    \n",
    "    # Flatten axes for easy iteration\n",
    "    axs = axs.flatten()\n",
    "\n",
    "    \n",
    "    for col in residuals_dataframe.columns: \n",
    "        # Create QQ plots         \n",
    "        stats.probplot(residuals_dataframe[col], dist=\"norm\", plot=axs[residuals_dataframe.columns.get_loc(col)])\n",
    "     \n",
    "        # Formatting\n",
    "        axs[residuals_dataframe.columns.get_loc(col)].set_title(f'Q-Q Plot of Residuals - {col}', pad=20)  \n",
    "        \n",
    "    # Hide unused subplots\n",
    "    for ax in axs[len(residuals_dataframe.columns):]:\n",
    "        ax.axis('off')\n",
    "                  \n",
    "    # Adjust layout\n",
    "    plt.tight_layout()\n",
    "    plt.show()\n",
    "        \n",
    "create_QQ_plot(residuals_df)"
   ]
  },
  {
   "cell_type": "code",
   "execution_count": null,
   "id": "93a2f9bf",
   "metadata": {
    "scrolled": false
   },
   "outputs": [],
   "source": [
    "# Plot QQ plots of residuals (actual values - predicted values)\n",
    "def create_QQ_plot_unique(residuals_series):\n",
    "    ncol_max = 1\n",
    "    nrow_max = 1\n",
    "    \n",
    "    fig, ax = plt.subplots(nrows = nrow_max, ncols = ncol_max, figsize=(5, 5))\n",
    "      \n",
    "    # Create QQ plots         \n",
    "    stats.probplot(residuals_series, dist=\"norm\", plot=ax)\n",
    "\n",
    "    # Formatting\n",
    "    ax.set_title(f'Q-Q Plot of Residuals - {residuals_series.name}', pad=20)  \n",
    "                  \n",
    "    # Adjust layout\n",
    "    plt.tight_layout()\n",
    "    plt.show()\n",
    "        \n",
    "create_QQ_plot_unique(residuals_df[residuals_df.columns[0]])"
   ]
  },
  {
   "cell_type": "markdown",
   "id": "a41df463",
   "metadata": {},
   "source": [
    "### Mean Residuals\n",
    "\n"
   ]
  },
  {
   "cell_type": "code",
   "execution_count": null,
   "id": "453b3e70",
   "metadata": {},
   "outputs": [],
   "source": [
    "# Mean value of the residuals\n",
    "mean_residuals = {}\n",
    "for col in residuals_df.columns:  \n",
    "    mean_residual = np.mean(residuals_df[col])\n",
    "#     print(f\"Mean of Residuals of {col}: {mean_residual}\")\n",
    "    mean_residuals[f\"{col}\"] = mean_residual\n",
    "\n",
    "# Create a dataframe\n",
    "mean_residuals_list=[]\n",
    "index_list = []\n",
    "\n",
    "for key, value in mean_residuals.items():\n",
    "    index_list.append(key)\n",
    "    mean_residuals_list.append(value)\n",
    "\n",
    "# Pandas dataframe of the mean residuals of each model\n",
    "mean_residuals_df = pd.DataFrame({\"mean_residuals\" : mean_residuals_list},index = index_list)\n",
    "mean_residuals_df"
   ]
  },
  {
   "cell_type": "markdown",
   "id": "60c18a76",
   "metadata": {},
   "source": [
    "## Boxplot of absolute values of residuals\n",
    "\n"
   ]
  },
  {
   "cell_type": "code",
   "execution_count": null,
   "id": "c19ec7df",
   "metadata": {
    "scrolled": false
   },
   "outputs": [],
   "source": [
    "# Plot boxplots between actual values and residuals (actual values - predicted values)\n",
    "ncol_max = 2\n",
    "nrow_max = math.ceil(len(residuals_df.columns)/ncol_max)\n",
    "fig, axs = plt.subplots(nrows = nrow_max, ncols = ncol_max, figsize=(10, 10))\n",
    "\n",
    "# Flatten axes for easy iteration\n",
    "axs = axs.flatten()\n",
    "\n",
    "for col in absolute_residuals_df.columns:  \n",
    "        axs[absolute_residuals_df.columns.get_loc(col)].boxplot(absolute_residuals_df[col])\n",
    "      \n",
    "        # Formatting\n",
    "        axs[absolute_residuals_df.columns.get_loc(col)].set_xlabel('Actual Values')\n",
    "        axs[absolute_residuals_df.columns.get_loc(col)].set_ylabel('Absolute value of Residuals')\n",
    "        axs[absolute_residuals_df.columns.get_loc(col)].set_title(f'Absolute value of Residuals Plot - {col}')\n",
    "        axs[residuals_df.columns.get_loc(col)].axhline(y=0, color='red', linestyle='--')\n",
    "\n",
    "# Hide unused subplots\n",
    "for ax in axs[len(absolute_residuals_df.columns):]:\n",
    "    ax.axis('off')\n",
    "    \n",
    "# Adjust layout\n",
    "plt.tight_layout()\n",
    "plt.show()\n"
   ]
  },
  {
   "cell_type": "markdown",
   "id": "f83a7ea9",
   "metadata": {},
   "source": [
    "**RandomForestRegressor** has the lowest RMSE.\n",
    "\n"
   ]
  },
  {
   "cell_type": "markdown",
   "id": "1a59f9f1",
   "metadata": {},
   "source": [
    "## Recap\n"
   ]
  },
  {
   "cell_type": "code",
   "execution_count": null,
   "id": "f9487752",
   "metadata": {},
   "outputs": [],
   "source": [
    "display(summary_df)\n",
    "\n",
    "summary_df = pd.merge(summary_df, mean_residuals_df, how='inner', left_index=True, right_index=True)\n",
    "summary_df = summary_df.reset_index().rename(columns={\"index\" : \"model\"})\n",
    "display(summary_df)\n"
   ]
  },
  {
   "cell_type": "code",
   "execution_count": null,
   "id": "14122486",
   "metadata": {
    "scrolled": false
   },
   "outputs": [],
   "source": [
    "# Plot boxplots between actual values and residuals (actual values - predicted values)\n",
    "ncol_max = 3\n",
    "nrow_max = len(residuals_df.columns)\n",
    "fig, axs = plt.subplots(nrows = nrow_max, ncols = ncol_max, figsize=(10, 10))\n",
    "\n",
    "# # Flatten axes for easy iteration\n",
    "# axs = axs.flatten()\n",
    "\n",
    "for col in absolute_residuals_df.columns: \n",
    "        # Boxplot of absolute residuals\n",
    "        axs[absolute_residuals_df.columns.get_loc(col)][0].boxplot(absolute_residuals_df[col])  \n",
    "        # Create QQ plots         \n",
    "        stats.probplot(residuals_df[col], dist=\"norm\", plot=axs[residuals_df.columns.get_loc(col)][1])\n",
    "#         # Histplot of residuals\n",
    "#         sns.histplot(x=residuals_df[col], kde=True,bins=50, ax=axs[residuals_df.columns.get_loc(col)][2])\n",
    "        #KDE plot of residuals\n",
    "        sns.kdeplot(x=residuals_df[col], ax=axs[residuals_df.columns.get_loc(col)][2])\n",
    "      \n",
    "        # Formatting\n",
    "        axs[absolute_residuals_df.columns.get_loc(col)][0].set_xlabel('Actual Values')\n",
    "        axs[absolute_residuals_df.columns.get_loc(col)][2].set_xlabel('Residuals')\n",
    "        \n",
    "        \n",
    "        \n",
    "        # Set y label\n",
    "        axs[absolute_residuals_df.columns.get_loc(col)][0].set_ylabel('Absolute value of Residuals')\n",
    "        axs[absolute_residuals_df.columns.get_loc(col)][1].set_ylabel('Absolute value of Residuals')\n",
    "      \n",
    "        # constant values on plots\n",
    "        axs[residuals_df.columns.get_loc(col)][0].axhline(y=0, color='red', linestyle='--')  \n",
    "        axs[residuals_df.columns.get_loc(col)][2].axvline(x=0, color='red', linestyle='--')  \n",
    "        \n",
    "        \n",
    "        #Set titles\n",
    "        axs[absolute_residuals_df.columns.get_loc(col)][0].set_title(f'Box Plot - {col}', \n",
    "                                                                     pad=20, \n",
    "                                                                     fontsize=10)  \n",
    "        axs[residuals_df.columns.get_loc(col)][1].set_title(f'Q-Q Plot - {col}', \n",
    "                                                            pad=20, \n",
    "                                                            fontsize=10)  \n",
    "        axs[residuals_df.columns.get_loc(col)][2].set_title(f'KDE Plot - {col}', \n",
    "                                                            pad=20, \n",
    "                                                            fontsize=10)  \n",
    "        \n",
    "# Hide unused subplots\n",
    "for ax in axs[len(absolute_residuals_df.columns):]:\n",
    "    ax.axis('off')   \n",
    "    \n",
    "# Adjust layout\n",
    "plt.tight_layout()\n",
    "plt.show()"
   ]
  },
  {
   "cell_type": "code",
   "execution_count": null,
   "id": "f6179a7c",
   "metadata": {
    "scrolled": false
   },
   "outputs": [],
   "source": [
    "# Plot boxplots between actual values and residuals (actual values - predicted values)\n",
    "ncol_max = 3\n",
    "nrow_max = len(residuals_df.columns)\n",
    "fig, axs = plt.subplots(nrows = nrow_max, ncols = ncol_max, figsize=(10, 10))\n",
    "\n",
    "# # Flatten axes for easy iteration\n",
    "# axs = axs.flatten()\n",
    "\n",
    "for col in absolute_residuals_df.columns: \n",
    "        # Boxplot of absolute residuals\n",
    "        axs[absolute_residuals_df.columns.get_loc(col)][0].boxplot(absolute_residuals_df[col])  \n",
    "        # Create QQ plots         \n",
    "        stats.probplot(residuals_df[col], dist=\"norm\", plot=axs[residuals_df.columns.get_loc(col)][1])\n",
    "#         # Histplot of residuals\n",
    "#         sns.histplot(x=residuals_df[col], kde=True,bins=50, ax=axs[residuals_df.columns.get_loc(col)][2])\n",
    "        #KDE plot of residuals\n",
    "        sns.kdeplot(x=residuals_df[col], ax=axs[residuals_df.columns.get_loc(col)][2])\n",
    "      \n",
    "        # Formatting\n",
    "        axs[absolute_residuals_df.columns.get_loc(col)][0].set_xlabel('Actual Values')\n",
    "        axs[absolute_residuals_df.columns.get_loc(col)][2].set_xlabel('Residuals')\n",
    "\n",
    "        # Set y limits\n",
    "        axs[absolute_residuals_df.columns.get_loc(col)][0].set_ylim(0, 1e6)\n",
    "        axs[absolute_residuals_df.columns.get_loc(col)][1].set_ylim(-0.6*1e6, 1e6)\n",
    "        axs[absolute_residuals_df.columns.get_loc(col)][2].set_ylim(0, 1.5*1e-5)\n",
    "\n",
    "        # Set x limits\n",
    "        axs[absolute_residuals_df.columns.get_loc(col)][2].set_xlim(-0.5*1e6, 1*1e6)\n",
    "                \n",
    "        # Set y label\n",
    "        axs[absolute_residuals_df.columns.get_loc(col)][0].set_ylabel('Absolute value of Residuals')\n",
    "        axs[absolute_residuals_df.columns.get_loc(col)][1].set_ylabel('Absolute value of Residuals')\n",
    "      \n",
    "        # constant values on plots\n",
    "        axs[residuals_df.columns.get_loc(col)][0].axhline(y=0, color='red', linestyle='--')  \n",
    "        axs[residuals_df.columns.get_loc(col)][2].axvline(x=0, color='red', linestyle='--')  \n",
    "        \n",
    "        \n",
    "        #Set titles\n",
    "        axs[absolute_residuals_df.columns.get_loc(col)][0].set_title(f'Box Plot - {col}', \n",
    "                                                                     pad=20, \n",
    "                                                                     fontsize=10)  \n",
    "        axs[residuals_df.columns.get_loc(col)][1].set_title(f'Q-Q Plot - {col}', \n",
    "                                                            pad=20, \n",
    "                                                            fontsize=10)  \n",
    "        axs[residuals_df.columns.get_loc(col)][2].set_title(f'KDE Plot - {col}', \n",
    "                                                            pad=20, \n",
    "                                                            fontsize=10)  \n",
    "        \n",
    "# Hide unused subplots\n",
    "for ax in axs[len(absolute_residuals_df.columns):]:\n",
    "    ax.axis('off')   \n",
    "    \n",
    "# Adjust layout\n",
    "plt.tight_layout()\n",
    "plt.show()\n"
   ]
  },
  {
   "cell_type": "markdown",
   "id": "72e31036",
   "metadata": {},
   "source": [
    "The **Random Forest Regressor** has : \n",
    "\n",
    "- the highest mean R2\n",
    "- the lowest mean MAE\n",
    "- the lowest mean RMSE\n",
    "- the lowest mean residuals\n",
    "- the lowest error magnitudes of residuals\n"
   ]
  },
  {
   "cell_type": "markdown",
   "id": "ff24d1d4",
   "metadata": {},
   "source": [
    "We select the **Random Forest Regressor** ! \n"
   ]
  },
  {
   "cell_type": "markdown",
   "id": "70bc4265",
   "metadata": {},
   "source": [
    "# Fine tune the model\n",
    "\n"
   ]
  },
  {
   "cell_type": "markdown",
   "id": "bb4770b4",
   "metadata": {},
   "source": [
    "Let's fine tuned our chosen model (**Random Forest Regressor**).\n",
    "\n",
    "\n"
   ]
  },
  {
   "cell_type": "markdown",
   "id": "72c37fbb",
   "metadata": {},
   "source": [
    "## Grid Search\n",
    "\n"
   ]
  },
  {
   "cell_type": "code",
   "execution_count": null,
   "id": "25e09390",
   "metadata": {},
   "outputs": [],
   "source": [
    "# Train a RandomForestRegressor model\n",
    "forest_reg = make_pipeline(preprocessing, RandomForestRegressor(random_state=42))\n",
    "forest_reg"
   ]
  },
  {
   "cell_type": "markdown",
   "id": "a3d3e8d0",
   "metadata": {},
   "source": [
    "What are the available hyper parameters of the regressor ?\n"
   ]
  },
  {
   "cell_type": "code",
   "execution_count": null,
   "id": "48286fdf",
   "metadata": {
    "scrolled": true
   },
   "outputs": [],
   "source": [
    "# Get the pipeline parmeters\n",
    "forest_reg.get_params().keys()"
   ]
  },
  {
   "cell_type": "code",
   "execution_count": null,
   "id": "7b91b804",
   "metadata": {},
   "outputs": [],
   "source": [
    "%%time\n",
    "# Create grid\n",
    "param_grid = [\n",
    "                {'randomforestregressor__n_estimators' : [10, 20],\n",
    "                 'randomforestregressor__max_depth' : [10, 20]}\n",
    "            ]\n",
    "\n",
    "# Perform Grid Search\n",
    "grid_search = GridSearchCV(forest_reg, param_grid, cv=3,scoring='neg_root_mean_squared_error')\n",
    "\n",
    "# Fit data to Grid Search\n",
    "grid_search.fit(X_train, y_train)"
   ]
  },
  {
   "cell_type": "markdown",
   "id": "56d6aadf",
   "metadata": {},
   "source": [
    "The best hyperparameter combination found:\n"
   ]
  },
  {
   "cell_type": "code",
   "execution_count": null,
   "id": "8d0c2873",
   "metadata": {},
   "outputs": [],
   "source": [
    "# Get the best params found\n",
    "grid_search.best_params_"
   ]
  },
  {
   "cell_type": "code",
   "execution_count": null,
   "id": "70ace68f",
   "metadata": {},
   "outputs": [],
   "source": [
    "# Get the best estimator found\n",
    "grid_search.best_estimator_"
   ]
  },
  {
   "cell_type": "markdown",
   "id": "60599551",
   "metadata": {},
   "source": [
    "👎 Limitations of Grid Search:<br>\n",
    "•\tComputationally costly <br>\n",
    "•\tThe optimal hyperparameter value can be missed <br>\n",
    "•\tCan overfit hyperparameters to the training set if too many combinations are tried out for too small a dataset\n"
   ]
  },
  {
   "cell_type": "markdown",
   "id": "34e78110",
   "metadata": {},
   "source": [
    "So let's try a **random grid search** !\n",
    "\n"
   ]
  },
  {
   "cell_type": "markdown",
   "id": "be03d1d8",
   "metadata": {},
   "source": [
    "## Random search\n",
    "\n"
   ]
  },
  {
   "cell_type": "markdown",
   "id": "ce8bb1bf",
   "metadata": {},
   "source": [
    "Randomly explore hyperparameter values from: <br>\n",
    "•\tA hyperparameter space to randomly sample from <br>\n",
    "•\tThe specified number of samples to be tested\n"
   ]
  },
  {
   "cell_type": "code",
   "execution_count": null,
   "id": "3056eded",
   "metadata": {},
   "outputs": [],
   "source": [
    "%%time\n",
    "# Create grid\n",
    "param_distribs = [\n",
    "                {'randomforestregressor__n_estimators' : [np.random.randint(low = 10, high = 20)],\n",
    "                 'randomforestregressor__max_depth' : [np.random.randint(low = 10, high = 20)]}\n",
    "            ]\n",
    "\n",
    "# Perform Grid Search\n",
    "rnd_search = RandomizedSearchCV(forest_reg, param_distribs, cv=3,scoring='neg_root_mean_squared_error')\n",
    "rnd_search.fit(X_train, y_train)\n"
   ]
  },
  {
   "cell_type": "markdown",
   "id": "40d8b02f",
   "metadata": {},
   "source": [
    "The best hyperparameter combination found:"
   ]
  },
  {
   "cell_type": "code",
   "execution_count": null,
   "id": "e64c29ae",
   "metadata": {},
   "outputs": [],
   "source": [
    "# Get the best params found\n",
    "rnd_search.best_params_"
   ]
  },
  {
   "cell_type": "code",
   "execution_count": null,
   "id": "5d9fe5cf",
   "metadata": {},
   "outputs": [],
   "source": [
    "# Get the best estimator found\n",
    "rnd_search.best_estimator_"
   ]
  },
  {
   "cell_type": "markdown",
   "id": "8634c221",
   "metadata": {},
   "source": [
    "# Analyse the best models and their errors\n"
   ]
  },
  {
   "cell_type": "markdown",
   "id": "ab4645d9",
   "metadata": {},
   "source": [
    "Let's check the relative importance of each feature for making accurate predictions.\n"
   ]
  },
  {
   "cell_type": "code",
   "execution_count": null,
   "id": "dc230127",
   "metadata": {},
   "outputs": [],
   "source": [
    "final_model = rnd_search.best_estimator_  # includes preprocessing\n",
    "feature_importances = final_model[\"randomforestregressor\"].feature_importances_"
   ]
  },
  {
   "cell_type": "markdown",
   "id": "2eed4f05",
   "metadata": {},
   "source": [
    "Let's sort the importance scores in descending order and displau them next to their corresponding attribute names.\n"
   ]
  },
  {
   "cell_type": "code",
   "execution_count": null,
   "id": "b3a1e416",
   "metadata": {
    "scrolled": false
   },
   "outputs": [],
   "source": [
    "# Let's sort the importance scores in descending order and displau them next to their corresponding attribute names.\n",
    "sorted = sorted(zip(feature_importances,\n",
    "           final_model[\"columntransformer\"].get_feature_names_out()),\n",
    "           reverse=True)\n",
    "sorted"
   ]
  },
  {
   "cell_type": "code",
   "execution_count": null,
   "id": "860ea7a8",
   "metadata": {},
   "outputs": [],
   "source": [
    "final_model = rnd_search.best_estimator_  # includes preprocessing\n",
    "feature_importances = final_model[\"randomforestregressor\"].feature_importances_\n",
    "\n",
    "# Sort the feature importances in descending order\n",
    "indices = np.argsort(feature_importances)[::-1]\n",
    "indices\n",
    "\n",
    "# Plot the feature importances\n",
    "plt.figure(figsize=(10, 6))\n",
    "plt.title(\"Feature Importance (RandomForestRegressor)\")\n",
    "plt.barh(range(len(final_model[\"columntransformer\"].get_feature_names_out())),\n",
    "         feature_importances[indices], align=\"center\")\n",
    "\n",
    "plt.yticks(range(len(final_model[\"columntransformer\"].get_feature_names_out())),\n",
    "          final_model[\"columntransformer\"].get_feature_names_out()[indices])\n",
    "\n",
    "plt.xlabel(\"Importance\")\n",
    "plt.show()"
   ]
  },
  {
   "cell_type": "markdown",
   "id": "70ac475f",
   "metadata": {},
   "source": [
    "With this information, we may want to try dropping some of the less useful features.\n"
   ]
  },
  {
   "cell_type": "markdown",
   "id": "58f4ecb4",
   "metadata": {},
   "source": [
    "# Evaluate the system on the Test set\n"
   ]
  },
  {
   "cell_type": "code",
   "execution_count": null,
   "id": "1050d1ab",
   "metadata": {},
   "outputs": [],
   "source": [
    "# Separate featues from target\n",
    "X_test = strat_test_set.drop(\"median_house_value\", axis=1)\n",
    "y_test = strat_test_set[\"median_house_value\"].copy()"
   ]
  },
  {
   "cell_type": "code",
   "execution_count": null,
   "id": "cdbc8b97",
   "metadata": {},
   "outputs": [],
   "source": [
    "# Make the predictions\n",
    "final_predictions = final_model.predict(X_test)"
   ]
  },
  {
   "cell_type": "code",
   "execution_count": null,
   "id": "a2675001",
   "metadata": {},
   "outputs": [],
   "source": [
    "# Calculation of metric\n",
    "final_rmse = mean_squared_error(y_test, final_predictions, squared=False)\n",
    "print(final_rmse)"
   ]
  },
  {
   "cell_type": "code",
   "execution_count": null,
   "id": "ddf123e0",
   "metadata": {},
   "outputs": [],
   "source": [
    "# Compute 95% confidence interval\n",
    "confidence = 0.95\n",
    "squared_errors = (final_predictions - y_test) ** 2\n",
    "np.sqrt(stats.t.interval(confidence, len(squared_errors) - 1,\n",
    "                         loc=squared_errors.mean(),\n",
    "                         scale=stats.sem(squared_errors)))\n"
   ]
  },
  {
   "cell_type": "markdown",
   "id": "ecab32ec",
   "metadata": {},
   "source": [
    "# Save the model\n"
   ]
  },
  {
   "cell_type": "code",
   "execution_count": null,
   "id": "1cd3ce17",
   "metadata": {},
   "outputs": [],
   "source": [
    "# Saving the best model\n",
    "joblib.dump(final_model, \"../data/processed_data/my_california_housing_model.pkl\")"
   ]
  },
  {
   "cell_type": "markdown",
   "id": "ce571de3",
   "metadata": {},
   "source": [
    "# Load the model\n"
   ]
  },
  {
   "cell_type": "code",
   "execution_count": null,
   "id": "63761004",
   "metadata": {},
   "outputs": [],
   "source": [
    "# Reloading the saved model\n",
    "final_model_reloaded = joblib.load(\"../data/processed_data/my_california_housing_model.pkl\")"
   ]
  },
  {
   "cell_type": "code",
   "execution_count": null,
   "id": "73898a64",
   "metadata": {},
   "outputs": [],
   "source": [
    "# Make new predictions\n",
    "new_data = housing.iloc[:5]  # pretend these are new districts\n",
    "predictions = final_model_reloaded.predict(new_data)\n",
    "predictions"
   ]
  }
 ],
 "metadata": {
  "kernelspec": {
   "display_name": "Python 3 (ipykernel)",
   "language": "python",
   "name": "python3"
  },
  "language_info": {
   "codemirror_mode": {
    "name": "ipython",
    "version": 3
   },
   "file_extension": ".py",
   "mimetype": "text/x-python",
   "name": "python",
   "nbconvert_exporter": "python",
   "pygments_lexer": "ipython3",
   "version": "3.10.6"
  },
  "toc": {
   "base_numbering": 1,
   "nav_menu": {},
   "number_sections": true,
   "sideBar": true,
   "skip_h1_title": false,
   "title_cell": "Table of Contents",
   "title_sidebar": "Contents",
   "toc_cell": false,
   "toc_position": {
    "height": "calc(100% - 180px)",
    "left": "10px",
    "top": "150px",
    "width": "519.948px"
   },
   "toc_section_display": true,
   "toc_window_display": true
  },
  "varInspector": {
   "cols": {
    "lenName": 16,
    "lenType": 16,
    "lenVar": 40
   },
   "kernels_config": {
    "python": {
     "delete_cmd_postfix": "",
     "delete_cmd_prefix": "del ",
     "library": "var_list.py",
     "varRefreshCmd": "print(var_dic_list())"
    },
    "r": {
     "delete_cmd_postfix": ") ",
     "delete_cmd_prefix": "rm(",
     "library": "var_list.r",
     "varRefreshCmd": "cat(var_dic_list()) "
    }
   },
   "types_to_exclude": [
    "module",
    "function",
    "builtin_function_or_method",
    "instance",
    "_Feature"
   ],
   "window_display": false
  }
 },
 "nbformat": 4,
 "nbformat_minor": 5
}
