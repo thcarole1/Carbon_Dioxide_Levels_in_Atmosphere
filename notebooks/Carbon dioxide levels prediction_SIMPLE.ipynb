{
 "cells": [
  {
   "cell_type": "markdown",
   "id": "7d18bc87",
   "metadata": {},
   "source": [
    "# Carbon level dioxide prediction: The big picture\n",
    "\n"
   ]
  },
  {
   "cell_type": "markdown",
   "id": "3a74a765",
   "metadata": {},
   "source": [
    "The carbon dioxide record from Mauna Loa Observatory, known as the “Keeling Curve,” is the world’s longest unbroken record of atmospheric carbon dioxide concentrations.<br>\n",
    "Scientists make atmospheric measurements in remote locations to sample air that is representative of a large volume of Earth’s atmosphere and relatively free from local influences.\n",
    "\n",
    "\n",
    "\n"
   ]
  },
  {
   "cell_type": "markdown",
   "id": "ad37fd68",
   "metadata": {},
   "source": [
    "**Source Kaggle** : https://www.kaggle.com/datasets/ucsandiego/carbon-dioxide\n"
   ]
  },
  {
   "cell_type": "markdown",
   "id": "72eedbdc",
   "metadata": {},
   "source": [
    "## Framing the problem\n",
    "\n"
   ]
  },
  {
   "cell_type": "markdown",
   "id": "afa7532b",
   "metadata": {},
   "source": [
    "### What could be the business objectives?\n"
   ]
  },
  {
   "cell_type": "markdown",
   "id": "a1affeb9",
   "metadata": {},
   "source": [
    "#### Environmental Impact Assessment\n"
   ]
  },
  {
   "cell_type": "markdown",
   "id": "8a11c13e",
   "metadata": {},
   "source": [
    "•\t**Objective**: Assess the impact of specific industries, regions, or activities on global CO₂ emissions.<br><br>\n",
    "•\t**Applications**: \n",
    "\n",
    "- Develop sustainability metrics for businesses to track their carbon footprint.\n",
    "- Help companies align with global environmental standards (e.g., UN Sustainable Development Goals).\n",
    "- Inform corporate social responsibility (CSR) strategies.\n"
   ]
  },
  {
   "cell_type": "markdown",
   "id": "bbe02111",
   "metadata": {},
   "source": [
    "#### Regulatory Compliance and Reporting\n"
   ]
  },
  {
   "cell_type": "markdown",
   "id": "428e8abf",
   "metadata": {},
   "source": [
    "•\t**Objective**: Help organizations meet emission standards and comply with regulations. <br><br>\n",
    "•\t**Applications**: \n",
    "\n",
    "- Forecast emissions trends to ensure compliance with future regulations.\n",
    "- Generate reports for governments or stakeholders showcasing emission reduction efforts.\n",
    "- Aid in carbon trading by quantifying emission reductions.\n",
    "\n"
   ]
  },
  {
   "cell_type": "markdown",
   "id": "a92e78e6",
   "metadata": {},
   "source": [
    "#### Emissions Reduction Strategy"
   ]
  },
  {
   "cell_type": "markdown",
   "id": "185a32df",
   "metadata": {},
   "source": [
    "• **Objective**: Identify key contributors to CO₂ emissions and design strategies to reduce them.<br><br>\n",
    "•\t**Applications**: \n",
    "- Prioritize emission reduction projects (e.g., renewable energy, electric vehicles).\n",
    "- Develop predictive models to estimate the impact of proposed initiatives.\n",
    "- Identify potential areas for investment in green technologies.\n"
   ]
  },
  {
   "cell_type": "markdown",
   "id": "4e5cc578",
   "metadata": {},
   "source": [
    "#### Policy Analysis and Advocacy\n"
   ]
  },
  {
   "cell_type": "markdown",
   "id": "83bb2ef1",
   "metadata": {},
   "source": [
    "•\t**Objective**: Provide data-driven insights for policymakers or advocacy groups.<br><br>\n",
    "•\t**Applications**: \n",
    "- Support policies on renewable energy adoption, carbon taxes, or emission caps.\n",
    "- Analyze trends in emissions by country or sector to recommend targeted interventions.\n",
    "- Track the effectiveness of previously implemented policies.\n"
   ]
  },
  {
   "cell_type": "markdown",
   "id": "4329c11b",
   "metadata": {},
   "source": [
    "#### Green Technology and Innovation\n"
   ]
  },
  {
   "cell_type": "markdown",
   "id": "e0e2aaa5",
   "metadata": {},
   "source": [
    "•\t**Objective**: Use data to guide innovation in low-carbon technologies.<br><br>\n",
    "•\t**Applications**: \n",
    "- Design algorithms to optimize energy consumption and reduce emissions.\n",
    "- Identify markets with high emissions as potential opportunities for green solutions.\n",
    "- Validate the ROI of new technologies in reducing carbon emissions.\n"
   ]
  },
  {
   "cell_type": "markdown",
   "id": "124ffe3d",
   "metadata": {},
   "source": [
    "#### Risk Management and Scenario Planning\n"
   ]
  },
  {
   "cell_type": "markdown",
   "id": "f5ec7a18",
   "metadata": {},
   "source": [
    "•\t**Objective**: Help businesses and governments prepare for future climate-related risks.<br><br>\n",
    "•\t**Applications**: \n",
    "- Build emission projection models under different scenarios (e.g., high vs. low regulation).\n",
    "- Assess the financial impact of emission-related risks, such as carbon taxes or reputational damage.\n",
    "- Identify sectors or regions at high risk for regulatory penalties or public scrutiny.\n"
   ]
  },
  {
   "cell_type": "markdown",
   "id": "2e826700",
   "metadata": {},
   "source": [
    "#### Public Awareness and Education\n"
   ]
  },
  {
   "cell_type": "markdown",
   "id": "af1ed84d",
   "metadata": {},
   "source": [
    "•\t**Objective**: Develop tools and resources to educate the public about CO₂ emissions.<br><br>\n",
    "•\t**Applications**: \n",
    "- Create interactive dashboards showing CO₂ emission trends and impacts.\n",
    "- Design campaigns highlighting the importance of individual and corporate action in emission reduction.\n",
    "- Partner with NGOs or educational institutions to raise awareness using data insights.\n"
   ]
  },
  {
   "cell_type": "markdown",
   "id": "56e7cd98",
   "metadata": {},
   "source": [
    "#### Carbon Offset and Credit Programs\n"
   ]
  },
  {
   "cell_type": "markdown",
   "id": "135b66dd",
   "metadata": {},
   "source": [
    "•\t**Objective**: Support the development of carbon offset programs.<br><br>\n",
    "•\t**Applications**: \n",
    "- Quantify emissions from specific activities to determine offset requirements.\n",
    "- Develop models to evaluate the effectiveness of offset initiatives (e.g., reforestation projects).\n",
    "- Provide data to support carbon credit trading platforms.\n"
   ]
  },
  {
   "cell_type": "markdown",
   "id": "f6904094",
   "metadata": {},
   "source": [
    "#### Investment Analysis for Sustainable Funds\n"
   ]
  },
  {
   "cell_type": "markdown",
   "id": "58b43414",
   "metadata": {},
   "source": [
    "•\t**Objective**: Guide investors toward low-carbon or climate-resilient assets.<br><br>\n",
    "•\t**Applications**: \n",
    "- Identify industries with decreasing emissions for ESG (Environmental, Social, Governance) investments.\n",
    "- Predict the long-term impact of climate policies on industry profitability.\n",
    "- Assess the carbon exposure of investment portfolios.\n"
   ]
  },
  {
   "cell_type": "markdown",
   "id": "e59285ec",
   "metadata": {},
   "source": [
    "#### Benchmarking and Competitive Analysis\n"
   ]
  },
  {
   "cell_type": "markdown",
   "id": "6839b5bf",
   "metadata": {},
   "source": [
    "•\t**Objective**: Benchmark an organization’s emissions against industry standards or competitors.<br><br>\n",
    "•\t**Applications**: \n",
    "o\tHighlight leaders and laggards in emissions reduction within a sector.\n",
    "o\tDevelop tools to measure how a company compares to peers in terms of carbon efficiency.\n",
    "o\tInform marketing strategies emphasizing sustainability leadership.\n"
   ]
  },
  {
   "cell_type": "markdown",
   "id": "1d0fab35",
   "metadata": {},
   "source": [
    "By leveraging this dataset, organizations across various industries can derive insights to advance their environmental objectives while aligning with global sustainability trends and regulatory frameworks."
   ]
  },
  {
   "cell_type": "markdown",
   "id": "fa4eaf4b",
   "metadata": {},
   "source": [
    "### What is the current solution (if it exists) ?\n"
   ]
  },
  {
   "cell_type": "markdown",
   "id": "8296dc8c",
   "metadata": {},
   "source": [
    "Predicting carbon dioxide (CO₂) levels is a critical task for environmental monitoring and climate action.<br><br>\n",
    "Based on the data at hand, which likely includes historical CO₂ emissions and time, several existing solutions and approaches can be applied to predict CO₂ levels. <br><br>\n",
    "Here’s an overview:\n"
   ]
  },
  {
   "cell_type": "markdown",
   "id": "f93e0845",
   "metadata": {},
   "source": [
    "#### Statistical and Classical Time Series Models\n"
   ]
  },
  {
   "cell_type": "markdown",
   "id": "f3a19d3a",
   "metadata": {},
   "source": [
    "These models are well-suited for datasets with clear temporal patterns and trends:"
   ]
  },
  {
   "cell_type": "markdown",
   "id": "d1239a4b",
   "metadata": {},
   "source": [
    "##### Autoregressive Integrated Moving Average (ARIMA)"
   ]
  },
  {
   "cell_type": "markdown",
   "id": "5d9d90fe",
   "metadata": {},
   "source": [
    "•\t**Description**: A classical time series model used to predict CO₂ levels based on past values.<br>\n",
    "•\t**Use Case**: Suitable for linear trends and seasonality in CO₂ emissions.<br><br>\n",
    "•\t**Advantages**: \n",
    "- Good for stationary data.\n",
    "- Provides interpretable coefficients.\n",
    "•\t**Challenges**: May not handle complex patterns or external factors well.\n"
   ]
  },
  {
   "cell_type": "markdown",
   "id": "0c55c8b7",
   "metadata": {},
   "source": [
    "##### Seasonal ARIMA (SARIMA)\n"
   ]
  },
  {
   "cell_type": "markdown",
   "id": "199ce987",
   "metadata": {},
   "source": [
    "•\t**Description**: Extends ARIMA by incorporating seasonal trends.<br>\n",
    "•\t**Use Case**: Ideal if the dataset shows periodic CO₂ level fluctuations, such as annual emissions cycles.<br>\n"
   ]
  },
  {
   "cell_type": "markdown",
   "id": "cb37beb1",
   "metadata": {},
   "source": [
    "##### Exponential Smoothing (ETS)\n"
   ]
  },
  {
   "cell_type": "markdown",
   "id": "7b72ee43",
   "metadata": {},
   "source": [
    "•\t**Description**: Uses weighted averages of past observations, with greater emphasis on recent data.<br>\n",
    "•\t**Use Case**: Suitable for short-term forecasting.<br>\n"
   ]
  },
  {
   "cell_type": "markdown",
   "id": "77ca290a",
   "metadata": {},
   "source": [
    "##### Vector Autoregression (VAR)\n"
   ]
  },
  {
   "cell_type": "markdown",
   "id": "34c0c260",
   "metadata": {},
   "source": [
    "•\t**Description**: A multivariate time series model for datasets with multiple interdependent variables (e.g., CO₂ levels, economic indicators, energy use).<br>\n",
    "•\t**Use Case**: Useful if external factors like GDP or population are included in the dataset.\n"
   ]
  },
  {
   "cell_type": "markdown",
   "id": "ae7fe4f6",
   "metadata": {},
   "source": [
    "#### Deep Learning Models\n"
   ]
  },
  {
   "cell_type": "markdown",
   "id": "7b6b0348",
   "metadata": {},
   "source": [
    "Deep learning methods are powerful for capturing complex patterns in large datasets.\n"
   ]
  },
  {
   "cell_type": "markdown",
   "id": "0e3a3623",
   "metadata": {},
   "source": [
    "##### Long Short-Term Memory Networks (LSTMs)\n"
   ]
  },
  {
   "cell_type": "markdown",
   "id": "346edffd",
   "metadata": {},
   "source": [
    "• **Description**: A type of recurrent neural network (RNN) designed for sequential data, ideal for time series forecasting.<br>\n",
    "•\t**Use Case**: Predicts future CO₂ levels by learning long-term dependencies in emission trends.<br>\n",
    "•\t**Advantages**: \n",
    "- Handles temporal dependencies well.\n",
    "- Works with non-linear trends.\n",
    "•\t**Challenges**: Computationally intensive and requires large datasets.\n"
   ]
  },
  {
   "cell_type": "markdown",
   "id": "87ffbc87",
   "metadata": {},
   "source": [
    "##### Convolutional Neural Networks (CNNs)\n"
   ]
  },
  {
   "cell_type": "markdown",
   "id": "f1efddb0",
   "metadata": {},
   "source": [
    "•\t**Description**: Can be adapted for time series forecasting by capturing local temporal patterns.<br>\n",
    "•\t**Use Case**: May be used alongside LSTMs in hybrid architectures.\n"
   ]
  },
  {
   "cell_type": "markdown",
   "id": "92829671",
   "metadata": {},
   "source": [
    "##### Transformer Models (e.g., Temporal Fusion Transformers)\n"
   ]
  },
  {
   "cell_type": "markdown",
   "id": "62989a10",
   "metadata": {},
   "source": [
    "•\t**Description**: Advanced models designed to handle sequential data with multiple features and dynamic trends.<br>\n",
    "•\t**Use Case**: Predict CO₂ levels with high accuracy by incorporating attention mechanisms.\n"
   ]
  },
  {
   "cell_type": "markdown",
   "id": "97e5738b",
   "metadata": {},
   "source": [
    "### What is the type of learning ?\n"
   ]
  },
  {
   "cell_type": "markdown",
   "id": "5b5484ed",
   "metadata": {},
   "source": [
    "With the gathered information, we are ready to design our system.<br>\n",
    "This is a **time series forecasting** task.\n",
    "\n"
   ]
  },
  {
   "cell_type": "markdown",
   "id": "a1fd1b45",
   "metadata": {},
   "source": [
    "## Selecting a performance measure\n"
   ]
  },
  {
   "cell_type": "markdown",
   "id": "cf62fac6",
   "metadata": {},
   "source": [
    "The next step is to choose a performance measure: <br>\n",
    "•\t**Short-term predictions**: Use MAE, RMSE, or MASE for clear and interpretable results.<br>\n",
    "•\t**Scale-independent metrics**: Use MAPE, sMAPE, or Theil’s U for datasets with varying scales or multiple regions.\n"
   ]
  },
  {
   "cell_type": "markdown",
   "id": "d1fc4416",
   "metadata": {},
   "source": [
    "We'll focus on:\n"
   ]
  },
  {
   "cell_type": "markdown",
   "id": "da95f024",
   "metadata": {},
   "source": [
    "### Mean Absolute Error (MAE)"
   ]
  },
  {
   "cell_type": "markdown",
   "id": "caee7af9",
   "metadata": {},
   "source": [
    "•\t**Description**: The average of absolute differences between actual and predicted values.<br><br>\n",
    "•\t**Formula**: <br>\n"
   ]
  },
  {
   "cell_type": "markdown",
   "id": "67f26f83",
   "metadata": {},
   "source": [
    "$$MAE  = \\frac{1}{n}\\sum_{i=1}^{n}|y_i - \\hat{y}_i|$$\n"
   ]
  },
  {
   "cell_type": "markdown",
   "id": "a6c327e9",
   "metadata": {},
   "source": [
    "•\t**Use Case**: \n",
    "- Easy to interpret as it represents the average error in the same unit as the data (e.g., metric tons of CO₂).\n",
    "- Sensitive to the scale of the data but not overly penalized by large errors.\n"
   ]
  },
  {
   "cell_type": "markdown",
   "id": "0ec9334b",
   "metadata": {},
   "source": [
    "### Mean Squared Error (MSE)\n"
   ]
  },
  {
   "cell_type": "markdown",
   "id": "99dea669",
   "metadata": {},
   "source": [
    "•\t**Description**: The average of squared differences between actual and predicted values.<br><br>\n",
    "•\t**Formula**:<br>\n"
   ]
  },
  {
   "cell_type": "markdown",
   "id": "9a680066",
   "metadata": {},
   "source": [
    "$$MSE = \\frac{1}{n} \\sum_{i=1}^{n} (y_i - \\hat{y}_i)^2$$\n"
   ]
  },
  {
   "cell_type": "markdown",
   "id": "c0960e45",
   "metadata": {},
   "source": [
    "•\t**Use Case**: \n",
    "- Penalizes large errors more heavily than MAE.\n",
    "- Useful for models where large prediction deviations are particularly undesirable.\n"
   ]
  },
  {
   "cell_type": "markdown",
   "id": "6ddd7fb9",
   "metadata": {},
   "source": [
    "### Root Mean Squared Error (RMSE)"
   ]
  },
  {
   "cell_type": "markdown",
   "id": "89a00eb7",
   "metadata": {},
   "source": [
    "•\t**Description**: The square root of MSE, representing the error in the same units as the original data.<br><br>\n",
    "•\t**Formula**:<br>\n"
   ]
  },
  {
   "cell_type": "markdown",
   "id": "7d70fdb5",
   "metadata": {},
   "source": [
    " $$RMSE = \\sqrt{\\frac{1}{n} \\sum_{i=1}^{n} (y_i - \\hat{y}_i)^2}$$\n",
    " "
   ]
  },
  {
   "cell_type": "markdown",
   "id": "1902db7d",
   "metadata": {},
   "source": [
    "•\t**Use Case**: \n",
    "- Highlights significant prediction errors.\n",
    "- Popular in time series forecasting due to interpretability.\n"
   ]
  },
  {
   "cell_type": "markdown",
   "id": "c013e364",
   "metadata": {},
   "source": [
    "### Mean Absolute Percentage Error (MAPE)"
   ]
  },
  {
   "cell_type": "markdown",
   "id": "efec756d",
   "metadata": {},
   "source": [
    "•\t**Description**: The average percentage error between actual and predicted values.<br><br>\n",
    "•\t**Formula**: <br>\n"
   ]
  },
  {
   "cell_type": "markdown",
   "id": "4ddb5046",
   "metadata": {},
   "source": [
    "$$MAPE=\\frac{1}{n} \\sum_{i=1}^{n} \\left| \\frac{y_i - \\hat{y}_i}{y_i} \\right| \\times 100 $$\n"
   ]
  },
  {
   "cell_type": "markdown",
   "id": "655e6bc2",
   "metadata": {},
   "source": [
    "•\t**Use Case**: \n",
    "- Provides a percentage-based measure, making it scale-independent.\n",
    "- Becomes problematic when actual values are near zero (dividing by zero).\n"
   ]
  },
  {
   "cell_type": "markdown",
   "id": "03fe5c19",
   "metadata": {},
   "source": [
    "# Getting the data\n"
   ]
  },
  {
   "cell_type": "markdown",
   "id": "91131b03",
   "metadata": {},
   "source": [
    "## Import libraries\n"
   ]
  },
  {
   "cell_type": "markdown",
   "id": "690f8aaa",
   "metadata": {},
   "source": [
    "Here will be imported all the necessary libraries that we'll use for this task !\n",
    "\n"
   ]
  },
  {
   "cell_type": "code",
   "execution_count": 1,
   "id": "074dc105",
   "metadata": {},
   "outputs": [],
   "source": [
    "import warnings\n",
    "warnings.filterwarnings(action = 'ignore')\n",
    "\n",
    "# # Libraries to import data\n",
    "import pandas as pd\n",
    "\n",
    "# Visualization\n",
    "import matplotlib.pyplot as plt\n",
    "import seaborn as sns\n",
    "\n",
    "# General libraries\n",
    "import numpy as np\n",
    "import math\n",
    "\n",
    "# Metrics\n",
    "from sklearn.metrics import mean_absolute_error, mean_squared_error, mean_absolute_percentage_error, r2_score\n",
    "from tensorflow.keras.metrics import RootMeanSquaredError, MeanAbsolutePercentageError\n",
    "\n",
    "# Import the seasonal_decompose tool that you saw in the lecture\n",
    "from statsmodels.tsa.seasonal import seasonal_decompose\n",
    "\n",
    "#Import the adfuller (Augmented Dicky-Fuller) test\n",
    "from statsmodels.tsa.stattools import adfuller\n",
    "\n",
    "\n",
    "from statsmodels.graphics.tsaplots import plot_pacf\n",
    "from statsmodels.graphics.tsaplots import plot_acf\n",
    "from statsmodels.tsa.arima.model import ARIMA\n",
    "from pmdarima import auto_arima\n",
    "import pmdarima as pm\n",
    "\n",
    "\n",
    "# Create RNN model\n",
    "from tensorflow.keras.models import Sequential\n",
    "from tensorflow.keras.optimizers import Adam\n",
    "from tensorflow.keras import layers\n",
    "from tensorflow.keras.callbacks import EarlyStopping\n",
    "\n",
    "# Scaling the data\n",
    "from sklearn.preprocessing import RobustScaler\n",
    "from sklearn.preprocessing import StandardScaler\n",
    "from sklearn.preprocessing import MinMaxScaler\n"
   ]
  },
  {
   "cell_type": "markdown",
   "id": "5e4fe03f",
   "metadata": {},
   "source": [
    "## Import the data\n"
   ]
  },
  {
   "cell_type": "markdown",
   "id": "7c718436",
   "metadata": {},
   "source": [
    "We import the data already stored locally.\n"
   ]
  },
  {
   "cell_type": "code",
   "execution_count": 2,
   "id": "cb9637ba",
   "metadata": {
    "scrolled": false
   },
   "outputs": [],
   "source": [
    "# We import the data already stored locally.\n",
    "path = '../data/raw_data/co2_levels.csv'\n",
    "\n",
    "co2_levels = pd.read_csv(path)"
   ]
  },
  {
   "cell_type": "markdown",
   "id": "8b709847",
   "metadata": {},
   "source": [
    "## Describe the features\n"
   ]
  },
  {
   "cell_type": "markdown",
   "id": "3b50ddf3",
   "metadata": {},
   "source": [
    "We have the following features : <br>\n",
    "- **Year**: year\n",
    "- **Month**: month \n",
    "- **Decimal Date**: decimal date\n",
    "- **Carbon Dioxide (ppm)**: Monthly CO2 concentrations in parts per million (ppm) measured on the 08A calibration scale and collected at 24:00 hours on the fifteenth of each month.\n",
    "- **Seasonally Adjusted CO2 (ppm)**:The fifth column provides the same data after a seasonal adjustment, which involves subtracting from the data a 4-harmonic fit with a linear gain factor to remove the seasonal cycle from carbon dioxide measurements\n",
    "- **Carbon Dioxide Fit (ppm)**:The sixth column provides the data with noise removed, generated from a stiff cubic spline function plus 4-harmonic functions with linear gain\n",
    "- **Seasonally Adjusted CO2 Fit (ppm)**:The seventh column is the same data with the seasonal cycle removed.\n"
   ]
  },
  {
   "cell_type": "markdown",
   "id": "2318b602",
   "metadata": {},
   "source": [
    "# Exploring the data\n"
   ]
  },
  {
   "cell_type": "markdown",
   "id": "bfdd9468",
   "metadata": {},
   "source": [
    "## Quick exploration\n"
   ]
  },
  {
   "cell_type": "code",
   "execution_count": 3,
   "id": "9bcefd73",
   "metadata": {
    "scrolled": true
   },
   "outputs": [
    {
     "data": {
      "text/html": [
       "<div>\n",
       "<style scoped>\n",
       "    .dataframe tbody tr th:only-of-type {\n",
       "        vertical-align: middle;\n",
       "    }\n",
       "\n",
       "    .dataframe tbody tr th {\n",
       "        vertical-align: top;\n",
       "    }\n",
       "\n",
       "    .dataframe thead th {\n",
       "        text-align: right;\n",
       "    }\n",
       "</style>\n",
       "<table border=\"1\" class=\"dataframe\">\n",
       "  <thead>\n",
       "    <tr style=\"text-align: right;\">\n",
       "      <th></th>\n",
       "      <th>Year</th>\n",
       "      <th>Month</th>\n",
       "      <th>Decimal Date</th>\n",
       "      <th>Carbon Dioxide (ppm)</th>\n",
       "      <th>Seasonally Adjusted CO2 (ppm)</th>\n",
       "      <th>Carbon Dioxide Fit (ppm)</th>\n",
       "      <th>Seasonally Adjusted CO2 Fit (ppm)</th>\n",
       "    </tr>\n",
       "  </thead>\n",
       "  <tbody>\n",
       "    <tr>\n",
       "      <th>0</th>\n",
       "      <td>1958</td>\n",
       "      <td>1</td>\n",
       "      <td>1958.0411</td>\n",
       "      <td>NaN</td>\n",
       "      <td>NaN</td>\n",
       "      <td>NaN</td>\n",
       "      <td>NaN</td>\n",
       "    </tr>\n",
       "    <tr>\n",
       "      <th>1</th>\n",
       "      <td>1958</td>\n",
       "      <td>2</td>\n",
       "      <td>1958.1260</td>\n",
       "      <td>NaN</td>\n",
       "      <td>NaN</td>\n",
       "      <td>NaN</td>\n",
       "      <td>NaN</td>\n",
       "    </tr>\n",
       "    <tr>\n",
       "      <th>2</th>\n",
       "      <td>1958</td>\n",
       "      <td>3</td>\n",
       "      <td>1958.2027</td>\n",
       "      <td>315.69</td>\n",
       "      <td>314.42</td>\n",
       "      <td>316.18</td>\n",
       "      <td>314.89</td>\n",
       "    </tr>\n",
       "    <tr>\n",
       "      <th>3</th>\n",
       "      <td>1958</td>\n",
       "      <td>4</td>\n",
       "      <td>1958.2877</td>\n",
       "      <td>317.45</td>\n",
       "      <td>315.15</td>\n",
       "      <td>317.30</td>\n",
       "      <td>314.98</td>\n",
       "    </tr>\n",
       "    <tr>\n",
       "      <th>4</th>\n",
       "      <td>1958</td>\n",
       "      <td>5</td>\n",
       "      <td>1958.3699</td>\n",
       "      <td>317.50</td>\n",
       "      <td>314.73</td>\n",
       "      <td>317.83</td>\n",
       "      <td>315.06</td>\n",
       "    </tr>\n",
       "  </tbody>\n",
       "</table>\n",
       "</div>"
      ],
      "text/plain": [
       "   Year  Month  Decimal Date  Carbon Dioxide (ppm)  \\\n",
       "0  1958      1     1958.0411                   NaN   \n",
       "1  1958      2     1958.1260                   NaN   \n",
       "2  1958      3     1958.2027                315.69   \n",
       "3  1958      4     1958.2877                317.45   \n",
       "4  1958      5     1958.3699                317.50   \n",
       "\n",
       "   Seasonally Adjusted CO2 (ppm)  Carbon Dioxide Fit (ppm)  \\\n",
       "0                            NaN                       NaN   \n",
       "1                            NaN                       NaN   \n",
       "2                         314.42                    316.18   \n",
       "3                         315.15                    317.30   \n",
       "4                         314.73                    317.83   \n",
       "\n",
       "   Seasonally Adjusted CO2 Fit (ppm)  \n",
       "0                                NaN  \n",
       "1                                NaN  \n",
       "2                             314.89  \n",
       "3                             314.98  \n",
       "4                             315.06  "
      ]
     },
     "execution_count": 3,
     "metadata": {},
     "output_type": "execute_result"
    }
   ],
   "source": [
    "# head of the data\n",
    "co2_levels.head()"
   ]
  },
  {
   "cell_type": "markdown",
   "id": "61dd599d",
   "metadata": {},
   "source": [
    "Let's create a Year_Month column and set  it as index of dataframe!\n"
   ]
  },
  {
   "cell_type": "code",
   "execution_count": 4,
   "id": "212eab65",
   "metadata": {},
   "outputs": [
    {
     "data": {
      "text/html": [
       "<div>\n",
       "<style scoped>\n",
       "    .dataframe tbody tr th:only-of-type {\n",
       "        vertical-align: middle;\n",
       "    }\n",
       "\n",
       "    .dataframe tbody tr th {\n",
       "        vertical-align: top;\n",
       "    }\n",
       "\n",
       "    .dataframe thead th {\n",
       "        text-align: right;\n",
       "    }\n",
       "</style>\n",
       "<table border=\"1\" class=\"dataframe\">\n",
       "  <thead>\n",
       "    <tr style=\"text-align: right;\">\n",
       "      <th></th>\n",
       "      <th>Carbon Dioxide (ppm)</th>\n",
       "      <th>Seasonally Adjusted CO2 (ppm)</th>\n",
       "      <th>Carbon Dioxide Fit (ppm)</th>\n",
       "      <th>Seasonally Adjusted CO2 Fit (ppm)</th>\n",
       "    </tr>\n",
       "    <tr>\n",
       "      <th>Year_Month</th>\n",
       "      <th></th>\n",
       "      <th></th>\n",
       "      <th></th>\n",
       "      <th></th>\n",
       "    </tr>\n",
       "  </thead>\n",
       "  <tbody>\n",
       "    <tr>\n",
       "      <th>1958-01-01</th>\n",
       "      <td>NaN</td>\n",
       "      <td>NaN</td>\n",
       "      <td>NaN</td>\n",
       "      <td>NaN</td>\n",
       "    </tr>\n",
       "    <tr>\n",
       "      <th>1958-02-01</th>\n",
       "      <td>NaN</td>\n",
       "      <td>NaN</td>\n",
       "      <td>NaN</td>\n",
       "      <td>NaN</td>\n",
       "    </tr>\n",
       "    <tr>\n",
       "      <th>1958-03-01</th>\n",
       "      <td>315.69</td>\n",
       "      <td>314.42</td>\n",
       "      <td>316.18</td>\n",
       "      <td>314.89</td>\n",
       "    </tr>\n",
       "    <tr>\n",
       "      <th>1958-04-01</th>\n",
       "      <td>317.45</td>\n",
       "      <td>315.15</td>\n",
       "      <td>317.30</td>\n",
       "      <td>314.98</td>\n",
       "    </tr>\n",
       "    <tr>\n",
       "      <th>1958-05-01</th>\n",
       "      <td>317.50</td>\n",
       "      <td>314.73</td>\n",
       "      <td>317.83</td>\n",
       "      <td>315.06</td>\n",
       "    </tr>\n",
       "  </tbody>\n",
       "</table>\n",
       "</div>"
      ],
      "text/plain": [
       "            Carbon Dioxide (ppm)  Seasonally Adjusted CO2 (ppm)  \\\n",
       "Year_Month                                                        \n",
       "1958-01-01                   NaN                            NaN   \n",
       "1958-02-01                   NaN                            NaN   \n",
       "1958-03-01                315.69                         314.42   \n",
       "1958-04-01                317.45                         315.15   \n",
       "1958-05-01                317.50                         314.73   \n",
       "\n",
       "            Carbon Dioxide Fit (ppm)  Seasonally Adjusted CO2 Fit (ppm)  \n",
       "Year_Month                                                               \n",
       "1958-01-01                       NaN                                NaN  \n",
       "1958-02-01                       NaN                                NaN  \n",
       "1958-03-01                    316.18                             314.89  \n",
       "1958-04-01                    317.30                             314.98  \n",
       "1958-05-01                    317.83                             315.06  "
      ]
     },
     "execution_count": 4,
     "metadata": {},
     "output_type": "execute_result"
    }
   ],
   "source": [
    "# Combine year and month into a new column as datetime\n",
    "co2_levels['Year_Month'] = pd.to_datetime(co2_levels['Year'].astype(str) + '-' + co2_levels['Month'].astype(str), format='%Y-%m')\n",
    "\n",
    "# Let's drop year and month column\n",
    "co2_levels.drop(columns=[\"Year\", \"Month\",\"Decimal Date\"], inplace=True, axis=1)\n",
    "\n",
    "# Let's set Year_Month as new index\n",
    "co2_levels.set_index(\"Year_Month\", inplace=True)\n",
    "co2_levels.head()"
   ]
  },
  {
   "cell_type": "markdown",
   "id": "4c25fb77",
   "metadata": {},
   "source": [
    "Let's only keep the Carbon dioxide column.\n"
   ]
  },
  {
   "cell_type": "code",
   "execution_count": 5,
   "id": "943e661a",
   "metadata": {},
   "outputs": [],
   "source": [
    "# Let's only keep the Carbon dioxide column.\n",
    "co2_levels.drop(columns=[\"Seasonally Adjusted CO2 (ppm)\",\n",
    "                         \"Carbon Dioxide Fit (ppm)\",\n",
    "                         \"Seasonally Adjusted CO2 Fit (ppm)\"], inplace=True, axis=1)"
   ]
  },
  {
   "cell_type": "code",
   "execution_count": 6,
   "id": "98464c7c",
   "metadata": {},
   "outputs": [
    {
     "name": "stdout",
     "output_type": "stream",
     "text": [
      "<class 'pandas.core.frame.DataFrame'>\n",
      "DatetimeIndex: 720 entries, 1958-01-01 to 2017-12-01\n",
      "Data columns (total 1 columns):\n",
      " #   Column                Non-Null Count  Dtype  \n",
      "---  ------                --------------  -----  \n",
      " 0   Carbon Dioxide (ppm)  703 non-null    float64\n",
      "dtypes: float64(1)\n",
      "memory usage: 11.2 KB\n"
     ]
    }
   ],
   "source": [
    "# summary of the DataFrame\n",
    "co2_levels.info()"
   ]
  },
  {
   "cell_type": "code",
   "execution_count": 7,
   "id": "0bea4a70",
   "metadata": {},
   "outputs": [
    {
     "data": {
      "text/html": [
       "<div>\n",
       "<style scoped>\n",
       "    .dataframe tbody tr th:only-of-type {\n",
       "        vertical-align: middle;\n",
       "    }\n",
       "\n",
       "    .dataframe tbody tr th {\n",
       "        vertical-align: top;\n",
       "    }\n",
       "\n",
       "    .dataframe thead th {\n",
       "        text-align: right;\n",
       "    }\n",
       "</style>\n",
       "<table border=\"1\" class=\"dataframe\">\n",
       "  <thead>\n",
       "    <tr style=\"text-align: right;\">\n",
       "      <th></th>\n",
       "      <th>Carbon Dioxide (ppm)</th>\n",
       "    </tr>\n",
       "  </thead>\n",
       "  <tbody>\n",
       "    <tr>\n",
       "      <th>count</th>\n",
       "      <td>703.000000</td>\n",
       "    </tr>\n",
       "    <tr>\n",
       "      <th>mean</th>\n",
       "      <td>352.375633</td>\n",
       "    </tr>\n",
       "    <tr>\n",
       "      <th>std</th>\n",
       "      <td>26.241884</td>\n",
       "    </tr>\n",
       "    <tr>\n",
       "      <th>min</th>\n",
       "      <td>313.210000</td>\n",
       "    </tr>\n",
       "    <tr>\n",
       "      <th>25%</th>\n",
       "      <td>328.555000</td>\n",
       "    </tr>\n",
       "    <tr>\n",
       "      <th>50%</th>\n",
       "      <td>349.800000</td>\n",
       "    </tr>\n",
       "    <tr>\n",
       "      <th>75%</th>\n",
       "      <td>373.195000</td>\n",
       "    </tr>\n",
       "    <tr>\n",
       "      <th>max</th>\n",
       "      <td>407.650000</td>\n",
       "    </tr>\n",
       "  </tbody>\n",
       "</table>\n",
       "</div>"
      ],
      "text/plain": [
       "       Carbon Dioxide (ppm)\n",
       "count            703.000000\n",
       "mean             352.375633\n",
       "std               26.241884\n",
       "min              313.210000\n",
       "25%              328.555000\n",
       "50%              349.800000\n",
       "75%              373.195000\n",
       "max              407.650000"
      ]
     },
     "execution_count": 7,
     "metadata": {},
     "output_type": "execute_result"
    }
   ],
   "source": [
    "# Descriptive statistics\n",
    "co2_levels.describe()"
   ]
  },
  {
   "cell_type": "code",
   "execution_count": 8,
   "id": "b1a262a3",
   "metadata": {
    "scrolled": false
   },
   "outputs": [
    {
     "data": {
      "image/png": "[encoded data removed]",
      "text/plain": [
       "<Figure size 800x500 with 1 Axes>"
      ]
     },
     "metadata": {},
     "output_type": "display_data"
    }
   ],
   "source": [
    "# Histogram of the DataFrame’s columns\n",
    "co2_levels.hist(bins=50, figsize=(8,5))\n",
    "plt.show()"
   ]
  },
  {
   "cell_type": "code",
   "execution_count": 9,
   "id": "b22badf1",
   "metadata": {},
   "outputs": [
    {
     "data": {
      "image/png": "[encoded data removed]",
      "text/plain": [
       "<Figure size 800x500 with 1 Axes>"
      ]
     },
     "metadata": {},
     "output_type": "display_data"
    }
   ],
   "source": [
    "def plot_time_series(data, y:None, title:None=''):\n",
    "    # Time series plot\n",
    "    fig, ax = plt.subplots(figsize=(8,5))\n",
    "    sns.lineplot(data = data, y=y, x = data.index)\n",
    "    \n",
    "    ax.set_title(f'- Line Plot - {title}')\n",
    "    # Adjust layout\n",
    "    plt.tight_layout()\n",
    "    plt.show()\n",
    "\n",
    "    \n",
    "plot_time_series(data = co2_levels, y = \"Carbon Dioxide (ppm)\", title = \"Carbon Dioxide (ppm)\")"
   ]
  },
  {
   "cell_type": "markdown",
   "id": "0a659e55",
   "metadata": {},
   "source": [
    "## Explore and visualizing the data to gain insights\n"
   ]
  },
  {
   "cell_type": "markdown",
   "id": "4dcfae1a",
   "metadata": {},
   "source": [
    "### Univariate analysis"
   ]
  },
  {
   "cell_type": "markdown",
   "id": "c9306a1e",
   "metadata": {},
   "source": [
    "#### Numerical features"
   ]
  },
  {
   "cell_type": "code",
   "execution_count": 10,
   "id": "76e00bc3",
   "metadata": {},
   "outputs": [],
   "source": [
    "# Get numerical features \n",
    "numerical_feats = co2_levels.select_dtypes(include='number').columns"
   ]
  },
  {
   "cell_type": "markdown",
   "id": "c9939ae8",
   "metadata": {},
   "source": [
    "Let's plot the histograms of the numerical features."
   ]
  },
  {
   "cell_type": "code",
   "execution_count": 11,
   "id": "a05b7065",
   "metadata": {},
   "outputs": [
    {
     "data": {
      "image/png": "[encoded data removed]",
      "text/plain": [
       "<Figure size 800x500 with 3 Axes>"
      ]
     },
     "metadata": {},
     "output_type": "display_data"
    }
   ],
   "source": [
    "# Plot histograms\n",
    "ncol_max = 3\n",
    "nrow_max = math.ceil(len(numerical_feats)/ncol_max)\n",
    "fig, axs = plt.subplots(nrows = nrow_max, ncols = ncol_max, figsize=(8, 5))\n",
    "\n",
    "\n",
    "# Flatten axes for easy iteration\n",
    "axs = axs.flatten()\n",
    "\n",
    "# Histograms\n",
    "for col in numerical_feats:  \n",
    "        # Plotting the histograms\n",
    "        sns.histplot(data = co2_levels[numerical_feats], \n",
    "                     x= co2_levels[col], \n",
    "                     kde = True,                                   \n",
    "                     ax=axs[co2_levels[numerical_feats].columns.get_loc(col)])\n",
    "        \n",
    "        # Formatting\n",
    "        axs[co2_levels[numerical_feats].columns.get_loc(col)].set_xlabel(col)\n",
    "        axs[co2_levels[numerical_feats].columns.get_loc(col)].set_title(f'Hist Plot - {col}')\n",
    "        \n",
    "# Hide unused subplots\n",
    "for ax in axs[len(numerical_feats):]:\n",
    "    ax.axis('off')\n",
    "    \n",
    "# Adjust layout\n",
    "plt.tight_layout()\n",
    "plt.show()"
   ]
  },
  {
   "cell_type": "markdown",
   "id": "d4497d36",
   "metadata": {},
   "source": [
    "Let's plot the violin plots of the numerical features."
   ]
  },
  {
   "cell_type": "code",
   "execution_count": 12,
   "id": "32046966",
   "metadata": {},
   "outputs": [
    {
     "data": {
      "image/png": "[encoded data removed]",
      "text/plain": [
       "<Figure size 800x500 with 3 Axes>"
      ]
     },
     "metadata": {},
     "output_type": "display_data"
    }
   ],
   "source": [
    "# Plot violin plots\n",
    "ncol_max = 3\n",
    "nrow_max = math.ceil(len(numerical_feats)/ncol_max)\n",
    "fig, axs = plt.subplots(nrows = nrow_max, ncols = ncol_max, figsize=(8, 5))\n",
    "\n",
    "\n",
    "# Flatten axes for easy iteration\n",
    "axs = axs.flatten()\n",
    "\n",
    "# boxplots\n",
    "for col in numerical_feats:  \n",
    "        # Plotting the violin plots\n",
    "        sns.violinplot(data = co2_levels[numerical_feats], \n",
    "                     x= co2_levels[col],                                   \n",
    "                     ax=axs[co2_levels[numerical_feats].columns.get_loc(col)])\n",
    "        \n",
    "        # Formatting\n",
    "        axs[co2_levels[numerical_feats].columns.get_loc(col)].set_xlabel(col)\n",
    "        axs[co2_levels[numerical_feats].columns.get_loc(col)].set_title(f'Violin Plot - {col}')  \n",
    "\n",
    "# Hide unused subplots\n",
    "for ax in axs[len(numerical_feats):]:\n",
    "    ax.axis('off')\n",
    "    \n",
    "# Adjust layout\n",
    "plt.tight_layout()\n",
    "plt.show()"
   ]
  },
  {
   "cell_type": "markdown",
   "id": "282cd338",
   "metadata": {},
   "source": [
    "Let's plot the boxplots of the numerical features."
   ]
  },
  {
   "cell_type": "code",
   "execution_count": 13,
   "id": "910a7519",
   "metadata": {},
   "outputs": [
    {
     "data": {
      "image/png": "[encoded data removed]",
      "text/plain": [
       "<Figure size 800x500 with 3 Axes>"
      ]
     },
     "metadata": {},
     "output_type": "display_data"
    }
   ],
   "source": [
    "# Plot boxplots\n",
    "ncol_max = 3\n",
    "nrow_max = math.ceil(len(numerical_feats)/ncol_max)\n",
    "fig, axs = plt.subplots(nrows = nrow_max, ncols = ncol_max, figsize=(8, 5))\n",
    "\n",
    "\n",
    "# Flatten axes for easy iteration\n",
    "axs = axs.flatten()\n",
    "\n",
    "# boxplots\n",
    "for col in numerical_feats:  \n",
    "        # Plotting the boxplots\n",
    "        sns.boxplot(data = co2_levels[numerical_feats], \n",
    "                     x= co2_levels[col],                                   \n",
    "                     ax=axs[co2_levels[numerical_feats].columns.get_loc(col)])\n",
    "        \n",
    "        # Formatting\n",
    "        axs[co2_levels[numerical_feats].columns.get_loc(col)].set_xlabel(col)\n",
    "        axs[co2_levels[numerical_feats].columns.get_loc(col)].set_title(f'Box Plot - {col}')  \n",
    "        \n",
    "# Hide unused subplots\n",
    "for ax in axs[len(numerical_feats):]:\n",
    "    ax.axis('off')\n",
    "    \n",
    "# Adjust layout\n",
    "plt.tight_layout()\n",
    "plt.show()"
   ]
  },
  {
   "cell_type": "markdown",
   "id": "073b2e53",
   "metadata": {},
   "source": [
    "# Prepare the data for forecasting\n",
    "\n"
   ]
  },
  {
   "cell_type": "markdown",
   "id": "9ee8642b",
   "metadata": {},
   "source": [
    "## Cleaning the data\n",
    "\n"
   ]
  },
  {
   "cell_type": "markdown",
   "id": "357872ab",
   "metadata": {},
   "source": [
    "### Processing duplicates\n"
   ]
  },
  {
   "cell_type": "markdown",
   "id": "48794886",
   "metadata": {},
   "source": [
    "We check the number of duplicated rows.\n"
   ]
  },
  {
   "cell_type": "code",
   "execution_count": 14,
   "id": "bc8dc2bb",
   "metadata": {},
   "outputs": [
    {
     "name": "stdout",
     "output_type": "stream",
     "text": [
      "Number of rows : 720\n",
      "Number of duplicated rows (index + values) : 0\n"
     ]
    }
   ],
   "source": [
    "# Check number of rows before removing duplicates\n",
    "print(f\"Number of rows : {len(co2_levels)}\")\n",
    "\n",
    "# Compute the number of duplicated rows\n",
    "print(f\"Number of duplicated rows (index + values) : {co2_levels.reset_index().duplicated().sum()}\")"
   ]
  },
  {
   "cell_type": "markdown",
   "id": "8d8a1728",
   "metadata": {},
   "source": [
    "### Processing missing data\n"
   ]
  },
  {
   "cell_type": "markdown",
   "id": "cfbcfa47",
   "metadata": {},
   "source": [
    "We check the percentage of missing values in the data at hand.\n"
   ]
  },
  {
   "cell_type": "code",
   "execution_count": 15,
   "id": "35cc2e75",
   "metadata": {
    "scrolled": false
   },
   "outputs": [
    {
     "data": {
      "text/plain": [
       "Carbon Dioxide (ppm)    2.361111\n",
       "dtype: float64"
      ]
     },
     "execution_count": 15,
     "metadata": {},
     "output_type": "execute_result"
    }
   ],
   "source": [
    "def get_missing_data(data):       \n",
    "    # Counting the percentage of NaN for each column\n",
    "    missing_data = data.isnull().sum().sort_values(ascending=False)/len(data)*100 #NaN percentage for each column\n",
    "\n",
    "    # missing_data\n",
    "    missing_data = missing_data[missing_data > 0]\n",
    "\n",
    "    #Missing data column names\n",
    "    missing_cols = missing_data.index.values.tolist()\n",
    "\n",
    "    #Show missing data in percent    \n",
    "    return missing_data\n",
    "\n",
    "get_missing_data(co2_levels)"
   ]
  },
  {
   "cell_type": "markdown",
   "id": "ce028147",
   "metadata": {},
   "source": [
    "We have **2.36%** of missing values!\n",
    "\n"
   ]
  },
  {
   "cell_type": "markdown",
   "id": "88750f02",
   "metadata": {},
   "source": [
    "Let's look at the date of the missing values.\n"
   ]
  },
  {
   "cell_type": "code",
   "execution_count": 16,
   "id": "ffed66b1",
   "metadata": {
    "scrolled": false
   },
   "outputs": [
    {
     "data": {
      "text/html": [
       "<div>\n",
       "<style scoped>\n",
       "    .dataframe tbody tr th:only-of-type {\n",
       "        vertical-align: middle;\n",
       "    }\n",
       "\n",
       "    .dataframe tbody tr th {\n",
       "        vertical-align: top;\n",
       "    }\n",
       "\n",
       "    .dataframe thead th {\n",
       "        text-align: right;\n",
       "    }\n",
       "</style>\n",
       "<table border=\"1\" class=\"dataframe\">\n",
       "  <thead>\n",
       "    <tr style=\"text-align: right;\">\n",
       "      <th></th>\n",
       "      <th>Carbon Dioxide (ppm)</th>\n",
       "    </tr>\n",
       "    <tr>\n",
       "      <th>Year_Month</th>\n",
       "      <th></th>\n",
       "    </tr>\n",
       "  </thead>\n",
       "  <tbody>\n",
       "    <tr>\n",
       "      <th>1958-01-01</th>\n",
       "      <td>NaN</td>\n",
       "    </tr>\n",
       "    <tr>\n",
       "      <th>1958-02-01</th>\n",
       "      <td>NaN</td>\n",
       "    </tr>\n",
       "    <tr>\n",
       "      <th>1958-06-01</th>\n",
       "      <td>NaN</td>\n",
       "    </tr>\n",
       "    <tr>\n",
       "      <th>1958-10-01</th>\n",
       "      <td>NaN</td>\n",
       "    </tr>\n",
       "    <tr>\n",
       "      <th>1964-02-01</th>\n",
       "      <td>NaN</td>\n",
       "    </tr>\n",
       "    <tr>\n",
       "      <th>1964-03-01</th>\n",
       "      <td>NaN</td>\n",
       "    </tr>\n",
       "    <tr>\n",
       "      <th>1964-04-01</th>\n",
       "      <td>NaN</td>\n",
       "    </tr>\n",
       "    <tr>\n",
       "      <th>2017-03-01</th>\n",
       "      <td>NaN</td>\n",
       "    </tr>\n",
       "    <tr>\n",
       "      <th>2017-04-01</th>\n",
       "      <td>NaN</td>\n",
       "    </tr>\n",
       "    <tr>\n",
       "      <th>2017-05-01</th>\n",
       "      <td>NaN</td>\n",
       "    </tr>\n",
       "    <tr>\n",
       "      <th>2017-06-01</th>\n",
       "      <td>NaN</td>\n",
       "    </tr>\n",
       "    <tr>\n",
       "      <th>2017-07-01</th>\n",
       "      <td>NaN</td>\n",
       "    </tr>\n",
       "    <tr>\n",
       "      <th>2017-08-01</th>\n",
       "      <td>NaN</td>\n",
       "    </tr>\n",
       "    <tr>\n",
       "      <th>2017-09-01</th>\n",
       "      <td>NaN</td>\n",
       "    </tr>\n",
       "    <tr>\n",
       "      <th>2017-10-01</th>\n",
       "      <td>NaN</td>\n",
       "    </tr>\n",
       "    <tr>\n",
       "      <th>2017-11-01</th>\n",
       "      <td>NaN</td>\n",
       "    </tr>\n",
       "    <tr>\n",
       "      <th>2017-12-01</th>\n",
       "      <td>NaN</td>\n",
       "    </tr>\n",
       "  </tbody>\n",
       "</table>\n",
       "</div>"
      ],
      "text/plain": [
       "            Carbon Dioxide (ppm)\n",
       "Year_Month                      \n",
       "1958-01-01                   NaN\n",
       "1958-02-01                   NaN\n",
       "1958-06-01                   NaN\n",
       "1958-10-01                   NaN\n",
       "1964-02-01                   NaN\n",
       "1964-03-01                   NaN\n",
       "1964-04-01                   NaN\n",
       "2017-03-01                   NaN\n",
       "2017-04-01                   NaN\n",
       "2017-05-01                   NaN\n",
       "2017-06-01                   NaN\n",
       "2017-07-01                   NaN\n",
       "2017-08-01                   NaN\n",
       "2017-09-01                   NaN\n",
       "2017-10-01                   NaN\n",
       "2017-11-01                   NaN\n",
       "2017-12-01                   NaN"
      ]
     },
     "execution_count": 16,
     "metadata": {},
     "output_type": "execute_result"
    }
   ],
   "source": [
    "# Let's look at the date of the missing values.\n",
    "co2_levels.loc[co2_levels[\"Carbon Dioxide (ppm)\"].isnull()]"
   ]
  },
  {
   "cell_type": "markdown",
   "id": "8319c290",
   "metadata": {},
   "source": [
    "The first values and the last values of the time series are NaN values. Let's get rid of those.\n"
   ]
  },
  {
   "cell_type": "code",
   "execution_count": 17,
   "id": "a19b7d36",
   "metadata": {
    "scrolled": true
   },
   "outputs": [],
   "source": [
    "# The first values and the last values of the time series are NaN values. Let's get rid of those.\n",
    "co2_levels = co2_levels.loc[(co2_levels.index > \"1958-02-01\")]\n",
    "co2_levels = co2_levels.loc[(co2_levels.index < \"2017-03-01\")]"
   ]
  },
  {
   "cell_type": "markdown",
   "id": "92060614",
   "metadata": {},
   "source": [
    "Let's check at the date of the remaining missing values.\n"
   ]
  },
  {
   "cell_type": "code",
   "execution_count": 18,
   "id": "786c319d",
   "metadata": {
    "scrolled": true
   },
   "outputs": [
    {
     "data": {
      "text/html": [
       "<div>\n",
       "<style scoped>\n",
       "    .dataframe tbody tr th:only-of-type {\n",
       "        vertical-align: middle;\n",
       "    }\n",
       "\n",
       "    .dataframe tbody tr th {\n",
       "        vertical-align: top;\n",
       "    }\n",
       "\n",
       "    .dataframe thead th {\n",
       "        text-align: right;\n",
       "    }\n",
       "</style>\n",
       "<table border=\"1\" class=\"dataframe\">\n",
       "  <thead>\n",
       "    <tr style=\"text-align: right;\">\n",
       "      <th></th>\n",
       "      <th>Carbon Dioxide (ppm)</th>\n",
       "    </tr>\n",
       "    <tr>\n",
       "      <th>Year_Month</th>\n",
       "      <th></th>\n",
       "    </tr>\n",
       "  </thead>\n",
       "  <tbody>\n",
       "    <tr>\n",
       "      <th>1958-06-01</th>\n",
       "      <td>NaN</td>\n",
       "    </tr>\n",
       "    <tr>\n",
       "      <th>1958-10-01</th>\n",
       "      <td>NaN</td>\n",
       "    </tr>\n",
       "    <tr>\n",
       "      <th>1964-02-01</th>\n",
       "      <td>NaN</td>\n",
       "    </tr>\n",
       "    <tr>\n",
       "      <th>1964-03-01</th>\n",
       "      <td>NaN</td>\n",
       "    </tr>\n",
       "    <tr>\n",
       "      <th>1964-04-01</th>\n",
       "      <td>NaN</td>\n",
       "    </tr>\n",
       "  </tbody>\n",
       "</table>\n",
       "</div>"
      ],
      "text/plain": [
       "            Carbon Dioxide (ppm)\n",
       "Year_Month                      \n",
       "1958-06-01                   NaN\n",
       "1958-10-01                   NaN\n",
       "1964-02-01                   NaN\n",
       "1964-03-01                   NaN\n",
       "1964-04-01                   NaN"
      ]
     },
     "execution_count": 18,
     "metadata": {},
     "output_type": "execute_result"
    }
   ],
   "source": [
    "# Let's look at the date of the missing values.\n",
    "co2_levels.loc[co2_levels[\"Carbon Dioxide (ppm)\"].isnull()]"
   ]
  },
  {
   "cell_type": "markdown",
   "id": "2350fa6f",
   "metadata": {},
   "source": [
    "The simplest option here is to use the very useful pd.interpolate(\"linear\") function to fill these in for us.\n"
   ]
  },
  {
   "cell_type": "code",
   "execution_count": 19,
   "id": "5ac147cd",
   "metadata": {},
   "outputs": [],
   "source": [
    "# The simplest option here is to use the very useful pd.interpolate(\"linear\") function to fill these in for us.\n",
    "co2_levels = co2_levels.interpolate(\"linear\")"
   ]
  },
  {
   "cell_type": "markdown",
   "id": "d8297dc1",
   "metadata": {},
   "source": [
    "Let's do a final check for missing values.\n"
   ]
  },
  {
   "cell_type": "code",
   "execution_count": 20,
   "id": "9e9e83f6",
   "metadata": {},
   "outputs": [
    {
     "data": {
      "text/plain": [
       "Series([], dtype: float64)"
      ]
     },
     "execution_count": 20,
     "metadata": {},
     "output_type": "execute_result"
    }
   ],
   "source": [
    "# Let's do a final check for missing values.\n",
    "get_missing_data(co2_levels)"
   ]
  },
  {
   "cell_type": "markdown",
   "id": "a749d8d5",
   "metadata": {},
   "source": [
    "We don't have Nan values anymore.\n"
   ]
  },
  {
   "cell_type": "code",
   "execution_count": 21,
   "id": "a5c13b67",
   "metadata": {},
   "outputs": [],
   "source": [
    "# Copy of data\n",
    "co2_levels_copy = co2_levels.copy()"
   ]
  },
  {
   "cell_type": "markdown",
   "id": "c54979ee",
   "metadata": {},
   "source": [
    "## Test set and train set\n",
    "\n"
   ]
  },
  {
   "cell_type": "markdown",
   "id": "014ecdd6",
   "metadata": {},
   "source": [
    "To avoid **data snooping bias**, we create a train set and a test set.\n",
    "\n"
   ]
  },
  {
   "cell_type": "markdown",
   "id": "889994bb",
   "metadata": {},
   "source": [
    "We split the data in : <br>\n",
    "- a train on which we will train our final model\n",
    "- a test set we will use to evaluate the model (in the end)\n"
   ]
  },
  {
   "cell_type": "code",
   "execution_count": 22,
   "id": "a37697df",
   "metadata": {},
   "outputs": [],
   "source": [
    "# Next up we need to split into a train and test set (we'll do an 80:20 split).\n",
    "# Let's keep the last 20% of the values out for testing purposes\n",
    "train_size = 0.8\n",
    "index = round(train_size*co2_levels.shape[0])\n",
    "\n",
    "train = co2_levels.iloc[:index]\n",
    "test = co2_levels.iloc[index:]"
   ]
  },
  {
   "cell_type": "code",
   "execution_count": 23,
   "id": "e88587f9",
   "metadata": {
    "scrolled": false
   },
   "outputs": [
    {
     "data": {
      "image/png": "[encoded data removed]",
      "text/plain": [
       "<Figure size 800x500 with 1 Axes>"
      ]
     },
     "metadata": {},
     "output_type": "display_data"
    }
   ],
   "source": [
    "# Plot the train set\n",
    "plot_time_series(data = train, y = \"Carbon Dioxide (ppm)\", title = \"train set\")"
   ]
  },
  {
   "cell_type": "code",
   "execution_count": 24,
   "id": "c4c74ea8",
   "metadata": {},
   "outputs": [],
   "source": [
    "# Evaluation of metrics\n",
    "def timeseries_evaluation_metrics_func(y_true, y_pred):\n",
    "    def mean_absolute_percentage_error(y_true, y_pred):\n",
    "        y_true, y_pred = np.array(y_true), np.array(y_pred)\n",
    "        return np.mean(np.abs((y_true - y_pred) / y_true)) * 100\n",
    "     \n",
    "    print('Evaluation metric results:-')\n",
    "    print(f'MSE is : {mean_squared_error(y_true, y_pred)}')\n",
    "    print(f'MSE is : {mean_absolute_error(y_true, y_pred)}')\n",
    "    print(f'RMSE is : {np.sqrt(mean_squared_error(y_true, y_pred))}')\n",
    "    print(f'MAPE is : {mean_absolute_percentage_error(y_true,y_pred)}')\n",
    "    print(f'R2 is : {r2_score(y_true, y_pred)}', end='\\n\\n')\n",
    "    "
   ]
  },
  {
   "cell_type": "code",
   "execution_count": 25,
   "id": "b0d7c9a2",
   "metadata": {},
   "outputs": [],
   "source": [
    "# Stationarity check \n",
    "def Augmented_Dickey_Fuller_Test_func(series , column_name):\n",
    "    print (f'Results of Dickey-Fuller Test for column:{column_name}')\n",
    "    df_test = adfuller(series, autolag='AIC')\n",
    "    df_output = pd.Series(df_test[0:4], \n",
    "                          index=['Test Statistic',\n",
    "                                 'p-value',\n",
    "                                 'No Lags Used',\n",
    "                                 'Number of Observations Used'])\n",
    "    for key,value in df_test[4].items():\n",
    "        df_output['Critical Value (%s)'%key] = value\n",
    "    print (df_output)\n",
    "        \n",
    "    if df_test[1] <= 0.05:\n",
    "        print(\"Conclusion:====>\")\n",
    "        print(\"Reject the null hypothesis\")\n",
    "        print(\"Data is stationary\")\n",
    "    else:\n",
    "        print(\"Conclusion:====>\")\n",
    "        print(\"Fail to reject the null hypothesis\")\n",
    "        print(\"Data is non-stationary\")         "
   ]
  },
  {
   "cell_type": "code",
   "execution_count": 26,
   "id": "84fa3358",
   "metadata": {
    "scrolled": false
   },
   "outputs": [
    {
     "name": "stdout",
     "output_type": "stream",
     "text": [
      "Results of Dickey-Fuller Test for column:Carbon Dioxide (ppm)\n",
      "Test Statistic                  -5.226416\n",
      "p-value                          0.000008\n",
      "No Lags Used                    12.000000\n",
      "Number of Observations Used    552.000000\n",
      "Critical Value (1%)             -3.442252\n",
      "Critical Value (5%)             -2.866790\n",
      "Critical Value (10%)            -2.569566\n",
      "dtype: float64\n",
      "Conclusion:====>\n",
      "Reject the null hypothesis\n",
      "Data is stationary\n"
     ]
    }
   ],
   "source": [
    "# Test of stationarity of the data\n",
    "Augmented_Dickey_Fuller_Test_func(train.diff().dropna(),\"Carbon Dioxide (ppm)\")"
   ]
  },
  {
   "cell_type": "code",
   "execution_count": 27,
   "id": "0c253c12",
   "metadata": {},
   "outputs": [
    {
     "name": "stdout",
     "output_type": "stream",
     "text": [
      "Performing stepwise search to minimize aic\n",
      " ARIMA(1,1,1)(0,0,0)[0] intercept   : AIC=1361.038, Time=0.13 sec\n",
      " ARIMA(0,1,0)(0,0,0)[0] intercept   : AIC=1824.900, Time=0.05 sec\n",
      " ARIMA(1,1,0)(0,0,0)[0] intercept   : AIC=1442.693, Time=0.05 sec\n",
      " ARIMA(0,1,1)(0,0,0)[0] intercept   : AIC=1478.766, Time=0.08 sec\n",
      " ARIMA(0,1,0)(0,0,0)[0]             : AIC=1828.179, Time=0.04 sec\n",
      " ARIMA(2,1,1)(0,0,0)[0] intercept   : AIC=1095.912, Time=0.20 sec\n",
      " ARIMA(2,1,0)(0,0,0)[0] intercept   : AIC=1282.617, Time=0.06 sec\n",
      " ARIMA(3,1,1)(0,0,0)[0] intercept   : AIC=1097.774, Time=0.31 sec\n",
      " ARIMA(2,1,2)(0,0,0)[0] intercept   : AIC=1097.727, Time=0.18 sec\n",
      " ARIMA(1,1,2)(0,0,0)[0] intercept   : AIC=1318.500, Time=0.11 sec\n",
      " ARIMA(3,1,0)(0,0,0)[0] intercept   : AIC=1239.044, Time=0.10 sec\n",
      " ARIMA(3,1,2)(0,0,0)[0] intercept   : AIC=1099.903, Time=0.32 sec\n",
      " ARIMA(2,1,1)(0,0,0)[0]             : AIC=1166.583, Time=0.08 sec\n",
      "\n",
      "Best model:  ARIMA(2,1,1)(0,0,0)[0] intercept\n",
      "Total fit time: 1.709 seconds\n"
     ]
    },
    {
     "data": {
      "text/html": [
       "<table class=\"simpletable\">\n",
       "<caption>SARIMAX Results</caption>\n",
       "<tr>\n",
       "  <th>Dep. Variable:</th>           <td>y</td>        <th>  No. Observations:  </th>    <td>566</td>  \n",
       "</tr>\n",
       "<tr>\n",
       "  <th>Model:</th>           <td>SARIMAX(2, 1, 1)</td> <th>  Log Likelihood     </th> <td>-542.956</td>\n",
       "</tr>\n",
       "<tr>\n",
       "  <th>Date:</th>            <td>Sat, 18 Jan 2025</td> <th>  AIC                </th> <td>1095.912</td>\n",
       "</tr>\n",
       "<tr>\n",
       "  <th>Time:</th>                <td>18:03:47</td>     <th>  BIC                </th> <td>1117.596</td>\n",
       "</tr>\n",
       "<tr>\n",
       "  <th>Sample:</th>             <td>03-01-1958</td>    <th>  HQIC               </th> <td>1104.375</td>\n",
       "</tr>\n",
       "<tr>\n",
       "  <th></th>                   <td>- 04-01-2005</td>   <th>                     </th>     <td> </td>   \n",
       "</tr>\n",
       "<tr>\n",
       "  <th>Covariance Type:</th>        <td>opg</td>       <th>                     </th>     <td> </td>   \n",
       "</tr>\n",
       "</table>\n",
       "<table class=\"simpletable\">\n",
       "<tr>\n",
       "      <td></td>         <th>coef</th>     <th>std err</th>      <th>z</th>      <th>P>|z|</th>  <th>[0.025</th>    <th>0.975]</th>  \n",
       "</tr>\n",
       "<tr>\n",
       "  <th>intercept</th> <td>    0.0344</td> <td>    0.003</td> <td>   11.519</td> <td> 0.000</td> <td>    0.029</td> <td>    0.040</td>\n",
       "</tr>\n",
       "<tr>\n",
       "  <th>ar.L1</th>     <td>    1.5507</td> <td>    0.022</td> <td>   69.839</td> <td> 0.000</td> <td>    1.507</td> <td>    1.594</td>\n",
       "</tr>\n",
       "<tr>\n",
       "  <th>ar.L2</th>     <td>   -0.8527</td> <td>    0.024</td> <td>  -35.019</td> <td> 0.000</td> <td>   -0.900</td> <td>   -0.805</td>\n",
       "</tr>\n",
       "<tr>\n",
       "  <th>ma.L1</th>     <td>   -0.9184</td> <td>    0.019</td> <td>  -47.441</td> <td> 0.000</td> <td>   -0.956</td> <td>   -0.880</td>\n",
       "</tr>\n",
       "<tr>\n",
       "  <th>sigma2</th>    <td>    0.3979</td> <td>    0.026</td> <td>   15.514</td> <td> 0.000</td> <td>    0.348</td> <td>    0.448</td>\n",
       "</tr>\n",
       "</table>\n",
       "<table class=\"simpletable\">\n",
       "<tr>\n",
       "  <th>Ljung-Box (L1) (Q):</th>     <td>0.17</td> <th>  Jarque-Bera (JB):  </th> <td>25.72</td>\n",
       "</tr>\n",
       "<tr>\n",
       "  <th>Prob(Q):</th>                <td>0.68</td> <th>  Prob(JB):          </th> <td>0.00</td> \n",
       "</tr>\n",
       "<tr>\n",
       "  <th>Heteroskedasticity (H):</th> <td>1.17</td> <th>  Skew:              </th> <td>0.52</td> \n",
       "</tr>\n",
       "<tr>\n",
       "  <th>Prob(H) (two-sided):</th>    <td>0.27</td> <th>  Kurtosis:          </th> <td>3.07</td> \n",
       "</tr>\n",
       "</table><br/><br/>Warnings:<br/>[1] Covariance matrix calculated using the outer product of gradients (complex-step)."
      ],
      "text/plain": [
       "<class 'statsmodels.iolib.summary.Summary'>\n",
       "\"\"\"\n",
       "                               SARIMAX Results                                \n",
       "==============================================================================\n",
       "Dep. Variable:                      y   No. Observations:                  566\n",
       "Model:               SARIMAX(2, 1, 1)   Log Likelihood                -542.956\n",
       "Date:                Sat, 18 Jan 2025   AIC                           1095.912\n",
       "Time:                        18:03:47   BIC                           1117.596\n",
       "Sample:                    03-01-1958   HQIC                          1104.375\n",
       "                         - 04-01-2005                                         \n",
       "Covariance Type:                  opg                                         \n",
       "==============================================================================\n",
       "                 coef    std err          z      P>|z|      [0.025      0.975]\n",
       "------------------------------------------------------------------------------\n",
       "intercept      0.0344      0.003     11.519      0.000       0.029       0.040\n",
       "ar.L1          1.5507      0.022     69.839      0.000       1.507       1.594\n",
       "ar.L2         -0.8527      0.024    -35.019      0.000      -0.900      -0.805\n",
       "ma.L1         -0.9184      0.019    -47.441      0.000      -0.956      -0.880\n",
       "sigma2         0.3979      0.026     15.514      0.000       0.348       0.448\n",
       "===================================================================================\n",
       "Ljung-Box (L1) (Q):                   0.17   Jarque-Bera (JB):                25.72\n",
       "Prob(Q):                              0.68   Prob(JB):                         0.00\n",
       "Heteroskedasticity (H):               1.17   Skew:                             0.52\n",
       "Prob(H) (two-sided):                  0.27   Kurtosis:                         3.07\n",
       "===================================================================================\n",
       "\n",
       "Warnings:\n",
       "[1] Covariance matrix calculated using the outer product of gradients (complex-step).\n",
       "\"\"\""
      ]
     },
     "execution_count": 27,
     "metadata": {},
     "output_type": "execute_result"
    }
   ],
   "source": [
    "stepwise_model = auto_arima(train,\n",
    "                            start_p=1,\n",
    "                            start_q=1,\n",
    "                            max_p=7,\n",
    "                            max_q=7,\n",
    "                            seasonal=False,\n",
    "                            d=None, \n",
    "                            trace=True,\n",
    "                            error_action='ignore',\n",
    "                            suppress_warnings=True, \n",
    "                            stepwise=True)\n",
    "stepwise_model.summary()"
   ]
  },
  {
   "cell_type": "code",
   "execution_count": 28,
   "id": "5c952085",
   "metadata": {},
   "outputs": [
    {
     "name": "stdout",
     "output_type": "stream",
     "text": [
      "Evaluation metric results:-\n",
      "MSE is : 35.76741329361172\n",
      "MSE is : 4.8948581753592775\n",
      "RMSE is : 5.9805863670389146\n",
      "MAPE is : 1.2341101707559339\n",
      "R2 is : 0.41451580544031363\n",
      "\n"
     ]
    }
   ],
   "source": [
    "# Predictions and confidence intervals \n",
    "forecast,conf_int = stepwise_model.predict(n_periods=len(test), return_conf_int=True)\n",
    "forecast = pd.DataFrame(forecast,columns=['co2_preds'])\n",
    "df_conf = pd.DataFrame(conf_int,columns= ['Upper_bound', 'Lower_bound'], index =forecast.index )"
   ]
  },
  {
   "cell_type": "code",
   "execution_count": null,
   "id": "6133e981",
   "metadata": {},
   "outputs": [],
   "source": [
    "# Check metrics\n",
    "timeseries_evaluation_metrics_func(test, forecast)"
   ]
  },
  {
   "cell_type": "code",
   "execution_count": 31,
   "id": "df80e129",
   "metadata": {},
   "outputs": [
    {
     "data": {
      "image/png": "[encoded data removed]",
      "text/plain": [
       "<Figure size 1500x700 with 1 Axes>"
      ]
     },
     "metadata": {},
     "output_type": "display_data"
    }
   ],
   "source": [
    "get_ipython().run_line_magic('matplotlib', 'inline')\n",
    "plt.rcParams[\"figure.figsize\"] = [15,7]\n",
    "plt.plot(train, label='Train')\n",
    "plt.plot(test, label='Test')\n",
    "plt.plot(forecast, label='Predicted ')\n",
    "plt.plot(df_conf['Upper_bound'], label='Confidence Interval Upper bound ')\n",
    "plt.plot(df_conf['Lower_bound'], label='Confidence Interval Lower bound ')\n",
    "plt.legend(loc='best')\n",
    "plt.show()"
   ]
  },
  {
   "cell_type": "code",
   "execution_count": 33,
   "id": "16d961f1",
   "metadata": {},
   "outputs": [
    {
     "data": {
      "image/png": "[encoded data removed]",
      "text/plain": [
       "<Figure size 1500x700 with 4 Axes>"
      ]
     },
     "metadata": {},
     "output_type": "display_data"
    }
   ],
   "source": [
    "# Additive Decomposition (y = Trend + Seasonal + Residuals)\n",
    "result_add = seasonal_decompose(test, model='additive')                                  \n",
    "result_add.plot();     \n"
   ]
  },
  {
   "cell_type": "code",
   "execution_count": null,
   "id": "7af693a9",
   "metadata": {},
   "outputs": [],
   "source": []
  },
  {
   "cell_type": "code",
   "execution_count": null,
   "id": "1a3a0b07",
   "metadata": {},
   "outputs": [],
   "source": []
  },
  {
   "cell_type": "code",
   "execution_count": null,
   "id": "64b1d5a8",
   "metadata": {},
   "outputs": [],
   "source": []
  },
  {
   "cell_type": "code",
   "execution_count": null,
   "id": "6bc4a7cb",
   "metadata": {},
   "outputs": [],
   "source": []
  },
  {
   "cell_type": "code",
   "execution_count": null,
   "id": "d99f9075",
   "metadata": {},
   "outputs": [],
   "source": []
  },
  {
   "cell_type": "code",
   "execution_count": null,
   "id": "99a70cea",
   "metadata": {},
   "outputs": [],
   "source": []
  },
  {
   "cell_type": "code",
   "execution_count": null,
   "id": "f33333e1",
   "metadata": {},
   "outputs": [],
   "source": []
  },
  {
   "cell_type": "code",
   "execution_count": null,
   "id": "f7d5ad33",
   "metadata": {},
   "outputs": [],
   "source": []
  },
  {
   "cell_type": "code",
   "execution_count": null,
   "id": "852a7ba6",
   "metadata": {},
   "outputs": [],
   "source": []
  },
  {
   "cell_type": "code",
   "execution_count": 29,
   "id": "24443f5f",
   "metadata": {},
   "outputs": [
    {
     "ename": "SyntaxError",
     "evalue": "Missing parentheses in call to 'print'. Did you mean print(...)? (908402389.py, line 1)",
     "output_type": "error",
     "traceback": [
      "\u001b[0;36m  Cell \u001b[0;32mIn [29], line 1\u001b[0;36m\u001b[0m\n\u001b[0;31m    print i\u001b[0m\n\u001b[0m    ^\u001b[0m\n\u001b[0;31mSyntaxError\u001b[0m\u001b[0;31m:\u001b[0m Missing parentheses in call to 'print'. Did you mean print(...)?\n"
     ]
    }
   ],
   "source": [
    "print i\n"
   ]
  },
  {
   "cell_type": "markdown",
   "id": "a43c56b4",
   "metadata": {},
   "source": [
    "# Getting ready to model\n",
    "\n"
   ]
  },
  {
   "cell_type": "markdown",
   "id": "d98fb282",
   "metadata": {},
   "source": [
    "For some Time Series models, we can simply through our data in and hope that it will decompose it, make it stationary for us and then model it for us (SARIMAX or TBATS are good examples of this), but we're going to go step by step instead. Since we're not relying on a model to remove seasonality and trend for us, we will take care of them ourselves."
   ]
  },
  {
   "cell_type": "markdown",
   "id": "95f998d1",
   "metadata": {},
   "source": [
    "## Additive decomposition\n",
    "\n"
   ]
  },
  {
   "cell_type": "code",
   "execution_count": null,
   "id": "3a9d6469",
   "metadata": {
    "scrolled": false
   },
   "outputs": [],
   "source": [
    "# Additive Decomposition (y = Trend + Seasonal + Residuals)\n",
    "result_add = seasonal_decompose(train, model='additive')                                  \n",
    "result_add.plot();          "
   ]
  },
  {
   "cell_type": "markdown",
   "id": "6466d56f",
   "metadata": {},
   "source": [
    "## Multiplicative decomposition\n",
    "\n"
   ]
  },
  {
   "cell_type": "code",
   "execution_count": null,
   "id": "f307ce6b",
   "metadata": {
    "scrolled": false
   },
   "outputs": [],
   "source": [
    "# Multiplicative Decomposition (y = Trend * Seasonal * Residuals)\n",
    "result_mul = seasonal_decompose(train, model='multiplicative')\n",
    "result_mul.plot();"
   ]
  },
  {
   "cell_type": "markdown",
   "id": "fbdb5827",
   "metadata": {},
   "source": [
    "## Observation of residuals\n",
    "\n"
   ]
  },
  {
   "cell_type": "markdown",
   "id": "b92b25d1",
   "metadata": {},
   "source": [
    "Plot the residuals (access the `.resid` attribute) from both and remember - we want the one that looks as __non-influenced__ by time as possible"
   ]
  },
  {
   "cell_type": "code",
   "execution_count": null,
   "id": "eba8cff4",
   "metadata": {},
   "outputs": [],
   "source": [
    "# Plot residuals for Additive decomposition\n",
    "result_add.resid.plot()"
   ]
  },
  {
   "cell_type": "code",
   "execution_count": null,
   "id": "961216c3",
   "metadata": {},
   "outputs": [],
   "source": [
    "# Plot residuals for Multiplicative decomposition\n",
    "result_mul.resid.plot()"
   ]
  },
  {
   "cell_type": "markdown",
   "id": "b62c7c93",
   "metadata": {},
   "source": [
    "Since both look reasonably stationary, we'll pick the **multiplicative model**.\n"
   ]
  },
  {
   "cell_type": "markdown",
   "id": "cd1c8e20",
   "metadata": {},
   "source": [
    "# Strategy\n",
    "\n"
   ]
  },
  {
   "cell_type": "markdown",
   "id": "97128ac2",
   "metadata": {},
   "source": [
    "Our strategy now is to take out the seasonal component of our time series. \n",
    "\n",
    "How can we do this? 🤔\n",
    "\n",
    "\n",
    "First, create a column called `\"seasonal_component\"`in our `train` DataFrame that is filled with the `.seasonal` component of your time series. \n"
   ]
  },
  {
   "cell_type": "markdown",
   "id": "65d2a536",
   "metadata": {},
   "source": [
    "## Seasonal component handling\n",
    "\n"
   ]
  },
  {
   "cell_type": "code",
   "execution_count": null,
   "id": "9d32b787",
   "metadata": {
    "scrolled": true
   },
   "outputs": [],
   "source": [
    "# First, create a column called \"seasonal_component\"in your train DataFrame that is filled with the .seasonal component of your time series.\n",
    "train[\"seasonal_component\"] = pd.DataFrame(result_mul.seasonal)\n",
    "train.head(5)"
   ]
  },
  {
   "cell_type": "markdown",
   "id": "ff5bf290",
   "metadata": {},
   "source": [
    "After we do this, create a separate, smaller DataFrame that only includes __one year__ of seasonal components (ie. the first 12 rows of your `seasonal components` column). <br>\n",
    "This will be useful for us later on. Name it `seasonal_one_year` and make sure we have a `\"month\"` column equal to the corresponding `index.month` (e.g. we have have a row with the January seasonal component and a 1 next to it). \n",
    "\n"
   ]
  },
  {
   "cell_type": "code",
   "execution_count": null,
   "id": "92e8fe8e",
   "metadata": {},
   "outputs": [],
   "source": [
    "# create a separate, smaller DataFrame that only includes one year of seasonal components (ie. the first 12 rows of your seasonal components column). This will be useful for us later on.\n",
    "seasonal_one_year = pd.DataFrame(result_mul.seasonal)[:12]\n",
    "\n",
    "# make sure you have a \"month\" column equal to the corresponding index.month (e.g. you have have a row with the January seasonal component and a 1 next to it).\n",
    "seasonal_one_year[\"month\"] = seasonal_one_year.index.month\n",
    "seasonal_one_year"
   ]
  },
  {
   "cell_type": "markdown",
   "id": "f6cac9f6",
   "metadata": {},
   "source": [
    "Since this is from a multiplicative model, if we want to __remove__ this seasonal component, we'll need to __divide__ our original time series by these repeating (12-month cycle) values."
   ]
  },
  {
   "cell_type": "code",
   "execution_count": null,
   "id": "352c1cb7",
   "metadata": {},
   "outputs": [],
   "source": [
    "# Create a new column named \"seasonal_stripped\" equal to the value of our original time series divided by the seasonal component.\n",
    "train[\"seasonal_stripped\"] = train[\"Carbon Dioxide (ppm)\"]/train[\"seasonal_component\"]\n",
    "train.head(5)"
   ]
  },
  {
   "cell_type": "code",
   "execution_count": null,
   "id": "3d78cc8f",
   "metadata": {},
   "outputs": [],
   "source": [
    "# Plot the train set without seasonal trend\n",
    "plot_time_series(data = train, y = \"seasonal_stripped\", title = \"seasonal_stripped\")"
   ]
  },
  {
   "cell_type": "markdown",
   "id": "0dfcc72f",
   "metadata": {},
   "source": [
    "Does it look stationary yet? "
   ]
  },
  {
   "cell_type": "markdown",
   "id": "be632ff9",
   "metadata": {},
   "source": [
    "Our next task is to take this __deseasonalized__ time series and to look get it stationary. <br>\n",
    "Let's try using `.diff()` and see how it looks. Then try diffing one more time to see any changes. \n"
   ]
  },
  {
   "cell_type": "code",
   "execution_count": null,
   "id": "19584942",
   "metadata": {},
   "outputs": [],
   "source": [
    "# Our next task is to take this deseasonalized time series and to look get it stationary. Try using .diff() and see how it looks.\n",
    "train[\"seasonal_stripped\"].diff().plot()"
   ]
  },
  {
   "cell_type": "code",
   "execution_count": null,
   "id": "03e50098",
   "metadata": {},
   "outputs": [],
   "source": [
    "#  Then try diffing one more time to see any changes.\n",
    "train[\"seasonal_stripped\"].diff().diff().plot()\n"
   ]
  },
  {
   "cell_type": "markdown",
   "id": "d2926fb5",
   "metadata": {},
   "source": [
    "Both should look quite stationary visually, use the `adfuller` (**Augmented Dicky-Fuller**) test to verify that each one is. \n",
    "\n",
    "\n",
    "N.B. When we use `diff`, we create null values in your DataFrame, we'll need to drop these to perform an ADF test.\n"
   ]
  },
  {
   "cell_type": "markdown",
   "id": "83dc3747",
   "metadata": {},
   "source": [
    "## Check for stationarity\n"
   ]
  },
  {
   "cell_type": "markdown",
   "id": "20cbb7e7",
   "metadata": {},
   "source": [
    "Let's check our p-values from **ADF test**.\n",
    "\n"
   ]
  },
  {
   "cell_type": "code",
   "execution_count": null,
   "id": "c382a598",
   "metadata": {},
   "outputs": [],
   "source": [
    "# P-value for 1 diffrenciation of the de-seasonalized time series\n",
    "p_value_1_diff = adfuller(train[\"seasonal_stripped\"].diff().dropna())[1]\n",
    "print(f'The p-value for 1 diff is : {p_value_1_diff}')"
   ]
  },
  {
   "cell_type": "code",
   "execution_count": null,
   "id": "cfb9d5a8",
   "metadata": {},
   "outputs": [],
   "source": [
    "# P-value for 2 diffrenciations of the de-seasonalized time series\n",
    "p_value_2_diff = adfuller(train[\"seasonal_stripped\"].diff().diff().dropna())[1]\n",
    "print(f'The p-value for 2 diff is : {p_value_2_diff}')"
   ]
  },
  {
   "cell_type": "markdown",
   "id": "92152638",
   "metadata": {},
   "source": [
    "Both seem to be reasonably stationary, and it looks like there's no need to overdifference (though we can always try building a twice-diffed time series later). \n"
   ]
  },
  {
   "cell_type": "markdown",
   "id": "821c62ee",
   "metadata": {},
   "source": [
    "Let's go ahead and plot our `acf` and `pacf` plots (be sure to drop any `null` values - those will break your ACF and PACF calculators) 😔"
   ]
  },
  {
   "cell_type": "code",
   "execution_count": null,
   "id": "71efa8fe",
   "metadata": {},
   "outputs": [],
   "source": [
    "fig, ax = plt.subplots(1, 2, figsize=(14, 5))\n",
    "plot_acf(train[\"seasonal_stripped\"].diff().dropna(), ax=ax[0], lags=20)\n",
    "plot_pacf(train[\"seasonal_stripped\"].diff().dropna(), ax=ax[1], lags=20)\n",
    "plt.show()"
   ]
  },
  {
   "cell_type": "markdown",
   "id": "6758f3e3",
   "metadata": {},
   "source": [
    "The AR **p** parameter would be **p = 1** (i.e 1 significant lag on PACF plot). <br>\n",
    "The I **d** parameter would be **d = 1** (i.e 1 differenciation).<br>\n",
    "The MA **q** parameter would be **q = 1** (i.e 1 significatn lag on ACF plot). \n"
   ]
  },
  {
   "cell_type": "markdown",
   "id": "419b6af2",
   "metadata": {},
   "source": [
    "# ARIMA model\n",
    "\n"
   ]
  },
  {
   "cell_type": "markdown",
   "id": "3abfa02a",
   "metadata": {},
   "source": [
    "## Manual approach\n",
    "\n"
   ]
  },
  {
   "cell_type": "markdown",
   "id": "49b2f038",
   "metadata": {},
   "source": [
    "Now build a simple ARIMA model with the appropriate order values for your p d and q values. Investigate its model summary."
   ]
  },
  {
   "cell_type": "code",
   "execution_count": null,
   "id": "f7a332be",
   "metadata": {},
   "outputs": [],
   "source": [
    "#Now we build a simple ARIMA model with the appropriate order values for your p d and q values and then investigate its model summary.\n",
    "p = 1\n",
    "d = 1\n",
    "q = 1\n",
    "\n",
    "arima = ARIMA(train[\"seasonal_stripped\"], order=(p, d, q))\n",
    "fitted = arima.fit()\n",
    "display(fitted.summary())\n",
    "display(fitted.aic)"
   ]
  },
  {
   "cell_type": "markdown",
   "id": "13b4ddb6",
   "metadata": {},
   "source": [
    "It looks like we cannot trust our coefficients fully (i.e p-value > 0.05).\n"
   ]
  },
  {
   "cell_type": "markdown",
   "id": "2152e536",
   "metadata": {},
   "source": [
    "Was it the best model? <br>\n",
    "Trying using the `auto_arima` function to grid search different models and see which has the best AIC.\n"
   ]
  },
  {
   "cell_type": "markdown",
   "id": "c05cc018",
   "metadata": {},
   "source": [
    "## Grid Search approach\n"
   ]
  },
  {
   "cell_type": "code",
   "execution_count": null,
   "id": "c3d59f14",
   "metadata": {},
   "outputs": [],
   "source": [
    "# Trying using the `auto_arima` function to grid search different models and see which has the best AIC.\n",
    "model = pm.auto_arima(train[\"seasonal_stripped\"],                   \n",
    "                       test='adf',\n",
    "                       trace=True)\n",
    "display(model.summary())"
   ]
  },
  {
   "cell_type": "markdown",
   "id": "d52acd28",
   "metadata": {},
   "source": [
    "Often times, it can be hard to predict which model with fit best on our data so it is usually a good idea to grid-search and compare our models' AIC scores 🧐\n"
   ]
  },
  {
   "cell_type": "markdown",
   "id": "7a749d02",
   "metadata": {},
   "source": [
    "## Making predictions with ARIMA model\n",
    "\n"
   ]
  },
  {
   "cell_type": "markdown",
   "id": "8f484140",
   "metadata": {},
   "source": [
    "### Predictions\n"
   ]
  },
  {
   "cell_type": "markdown",
   "id": "141d4acb",
   "metadata": {},
   "source": [
    "Now that we have our best model, we'd like to generate some predictions and - crucially - some confidence intervals. <br>\n",
    "We'll use your model to predict for the length of our test set and ensure that we also return those intervals (using `return_conf_int = True`).<br> Create a `preds_df` DataFrame with columns for `preds`, `upper` and `lower` bounds.\n",
    "\n"
   ]
  },
  {
   "cell_type": "code",
   "execution_count": null,
   "id": "cebc99a1",
   "metadata": {},
   "outputs": [],
   "source": [
    "# generate some predictions and - crucially - some confidence intervals.\n",
    "predictions = model.predict(n_periods=len(test),\n",
    "                X=test,\n",
    "                return_conf_int=True,\n",
    "                alpha=0.05,)\n"
   ]
  },
  {
   "cell_type": "code",
   "execution_count": null,
   "id": "4fc1893e",
   "metadata": {},
   "outputs": [],
   "source": [
    "# Create a `preds_df` DataFrame with columns for `preds`, `upper` and `lower` bounds.\n",
    "preds_df = pd.DataFrame(\n",
    "    {\"preds\" : predictions[0],\n",
    "     \"lower\" : predictions[1][:,0],\n",
    "     \"upper\" : predictions[1][:,1]})\n",
    "preds_df"
   ]
  },
  {
   "cell_type": "markdown",
   "id": "1052f769",
   "metadata": {},
   "source": [
    "Now we plot them, out and see how they look compared alongside our `train` data.\n"
   ]
  },
  {
   "cell_type": "code",
   "execution_count": null,
   "id": "e6959745",
   "metadata": {},
   "outputs": [],
   "source": [
    "# Now we plot them, out and see how they look compared alongside our `train` data.\n",
    "preds_df.plot()\n",
    "train[\"Carbon Dioxide (ppm)\"].plot()"
   ]
  },
  {
   "cell_type": "markdown",
   "id": "ee84f0f4",
   "metadata": {},
   "source": [
    "We're looking at three straight lines coming out of something that clearly had seasonality.<br> To account for this, we need to re-incorporate the seasonality component that we extracted earlier!\n"
   ]
  },
  {
   "cell_type": "markdown",
   "id": "e4276e5e",
   "metadata": {},
   "source": [
    "### Re-incorporate seasonality\n"
   ]
  },
  {
   "cell_type": "markdown",
   "id": "d2797f0c",
   "metadata": {},
   "source": [
    "Let's create a `month` column in our `test` DataFrame and populate it with the month component of the index. \n",
    "\n"
   ]
  },
  {
   "cell_type": "code",
   "execution_count": null,
   "id": "4224c762",
   "metadata": {
    "scrolled": true
   },
   "outputs": [],
   "source": [
    "# Let's create a `month` column in your `test` DataFrame and populate it with the month component of the index. \n",
    "preds_df[\"month\"] = preds_df.index.month\n",
    "preds_df"
   ]
  },
  {
   "cell_type": "markdown",
   "id": "097939d1",
   "metadata": {},
   "source": [
    "Now we can take our `seasonal_one_year` DataFrame that we made earlier and simply merge it onto our `preds_df`!\n"
   ]
  },
  {
   "cell_type": "code",
   "execution_count": null,
   "id": "90b7d53a",
   "metadata": {
    "scrolled": true
   },
   "outputs": [],
   "source": [
    "# Now we can take our `seasonal_one_year` DataFrame that we made earlier and simply merge it onto our `preds_df`!\n",
    "preds_df = preds_df.merge(seasonal_one_year, on = \"month\", how = \"left\")\n",
    "preds_df"
   ]
  },
  {
   "cell_type": "markdown",
   "id": "746288c1",
   "metadata": {},
   "source": [
    "Now we can create your `full_preds`, `upper_conf` and `lower_conf` (created as new columns in the `preds_df` DataFrame) by multiplying out your `preds`, `upper` __and__ `lower` columns with the seasonal component that we now have in our `preds_df` DataFrame.\n"
   ]
  },
  {
   "cell_type": "code",
   "execution_count": null,
   "id": "2be7ca58",
   "metadata": {},
   "outputs": [],
   "source": [
    "# Now we can create your `full_preds`, `upper_conf` and `lower_conf` (created as new columns in the `preds_df` DataFrame) by multiplying out your `preds`, `upper` __and__ `lower` columns with the seasonal component that we now have in our `preds_df` DataFrame.\n",
    "\n",
    "preds_df[\"full_preds\"] = preds_df[\"preds\"] * preds_df[\"seasonal\"]\n",
    "\n",
    "preds_df[\"lower_conf\"] = preds_df[\"lower\"] * preds_df[\"seasonal\"]\n",
    "\n",
    "preds_df[\"upper_conf\"] = preds_df[\"upper\"] * preds_df[\"seasonal\"]\n",
    "\n",
    "preds_df"
   ]
  },
  {
   "cell_type": "markdown",
   "id": "e0e6532c",
   "metadata": {},
   "source": [
    "Finally, to make plotting easier for us, we set the index of our `preds_df` to be the same as the index of our `test` DataFrame (since they have the same length this should be quite easy for us!)\n"
   ]
  },
  {
   "cell_type": "code",
   "execution_count": null,
   "id": "f2279eab",
   "metadata": {},
   "outputs": [],
   "source": [
    "# Finally, to make plotting easier for us, we set the index of our `preds_df` to be the same as the index of our `test` DataFrame (since they have the same length this should be quite easy for us!)\n",
    "preds_df.set_index(test.index, inplace = True)\n",
    "preds_df"
   ]
  },
  {
   "cell_type": "markdown",
   "id": "c222e236",
   "metadata": {},
   "source": [
    "Now we plot everything out - the end of our train (e.g. the last 100 values), our full predictions, upper and lower confidence bounds and the true values from your `preds_df` DataFrame!\n"
   ]
  },
  {
   "cell_type": "code",
   "execution_count": null,
   "id": "028714ae",
   "metadata": {},
   "outputs": [],
   "source": [
    "# Now we plot everything out - the train set (e.g. the last 100 values), our full predictions, upper and lower confidence bounds and the true values from your `preds_df` DataFrame!\n",
    "                                                   \n",
    "plt.plot(train[\"Carbon Dioxide (ppm)\"][-100:], label=\"Train Data\")\n",
    "plt.plot(preds_df[\"lower_conf\"], label=\"Lower Confidence\")\n",
    "plt.plot(preds_df[\"upper_conf\"], label=\"Upper Confidence\")\n",
    "plt.plot(preds_df[\"full_preds\"], label=\"Predictions\")\n",
    "plt.plot(test, label=\"Test Data\")\n",
    "plt.legend()\n",
    "\n",
    "plt.show()"
   ]
  },
  {
   "cell_type": "code",
   "execution_count": null,
   "id": "2919efe2",
   "metadata": {},
   "outputs": [],
   "source": [
    "# Now we plot everything out - the train set (e.g. the last 100 values), our full predictions, upper and lower confidence bounds and the true values from your `preds_df` DataFrame!\n",
    "                                                   \n",
    "# plt.plot(train[\"Carbon Dioxide (ppm)\"][-100:], label=\"Train Data\")\n",
    "plt.plot(preds_df[\"lower_conf\"], label=\"Lower Confidence\")\n",
    "plt.plot(preds_df[\"upper_conf\"], label=\"Upper Confidence\")\n",
    "plt.plot(preds_df[\"full_preds\"], label=\"Predictions\")\n",
    "plt.plot(test, label=\"Test Data\")\n",
    "plt.legend()\n",
    "\n",
    "plt.show()"
   ]
  },
  {
   "cell_type": "markdown",
   "id": "37b24e61",
   "metadata": {},
   "source": [
    "Our predictions look pretty good! We can see that the true values are slightly higher than what we predicted but remains well within the bounds of our confidence intervals for a few years out from when we started making our predictions.\n"
   ]
  },
  {
   "cell_type": "markdown",
   "id": "7b7e8b55",
   "metadata": {},
   "source": [
    "Why did our values dip below the true values?\n"
   ]
  },
  {
   "cell_type": "code",
   "execution_count": null,
   "id": "cdffa7e7",
   "metadata": {
    "scrolled": false
   },
   "outputs": [],
   "source": [
    "# Why did our values dip below the true values?\n",
    "seasonal_decompose(test[\"Carbon Dioxide (ppm)\"], model='additive').plot();"
   ]
  },
  {
   "cell_type": "markdown",
   "id": "acc97b84",
   "metadata": {},
   "source": [
    "It looks like in 2016-2018 there was a __slight rise__ in all of our values before the regular (slightly shallower) trend took over again. This is a great example of something occuring in our test dataset that we simply cannot predict. We don't know why there was a surge in CO2 readings - and we couldn't predict for it.\n"
   ]
  },
  {
   "cell_type": "markdown",
   "id": "36753a58",
   "metadata": {},
   "source": [
    "❗ When we model with Time Series, we __cannot magically predict the future__. What we're trying to do is accurately capture and then extend the patterns of the past. \n",
    "\n",
    "- Often times, your raw predictions (without a seasonal component) will look like a fairly boring straight line 🙄 (as our current initial ones did) but this is what we'd expect\n",
    "- Some of the most value that we get out when doing Time Series analysis lies in being able to __quantify__ our trends, seasonal components and our confidence intervals so we can make well-informed decisions ✅\n"
   ]
  },
  {
   "cell_type": "markdown",
   "id": "8f792169",
   "metadata": {},
   "source": [
    "## Performance metrics on ARIMA model\n"
   ]
  },
  {
   "cell_type": "code",
   "execution_count": null,
   "id": "fd422ddd",
   "metadata": {},
   "outputs": [],
   "source": [
    "y_true = test[\"Carbon Dioxide (ppm)\"]\n",
    "y_pred = preds_df[\"full_preds\"]\n",
    "\n",
    "MAE_ARIMA = mean_absolute_error(y_true, y_pred)\n",
    "MSE_ARIMA = mean_squared_error(y_true, y_pred)\n",
    "RMSE_ARIMA = np.sqrt(MSE_ARIMA)\n",
    "MAPE_ARIMA = mean_absolute_percentage_error(y_true, y_pred)\n",
    "\n",
    "\n",
    "print(f\"The MAE on ARIMA model: {MAE_ARIMA}\")\n",
    "print(f\"The MSE on ARIMA model: {MSE_ARIMA}\")\n",
    "print(f\"The RMSE on ARIMA model: {RMSE_ARIMA}\")\n",
    "print(f\"The MAPE on ARIMA model: {MAPE_ARIMA}\")"
   ]
  },
  {
   "cell_type": "markdown",
   "id": "3360ce35",
   "metadata": {},
   "source": [
    "# Deep learning"
   ]
  },
  {
   "cell_type": "markdown",
   "id": "e0f7f1e2",
   "metadata": {},
   "source": [
    "## Define X and y\n"
   ]
  },
  {
   "cell_type": "code",
   "execution_count": null,
   "id": "9568ff34",
   "metadata": {},
   "outputs": [],
   "source": [
    "# Next up we need to split into a train and test set (we'll do an 80:20 split).\n",
    "# Let's keep the last 20% of the values out for testing purposes\n",
    "train_size = 0.8\n",
    "index = round(train_size*co2_levels_copy.shape[0])\n",
    "\n",
    "train = co2_levels_copy.iloc[:index]\n",
    "test = co2_levels_copy.iloc[index:]\n",
    "\n",
    "display(train.shape)\n",
    "display(test.shape)"
   ]
  },
  {
   "cell_type": "code",
   "execution_count": null,
   "id": "4a8fdd59",
   "metadata": {
    "scrolled": false
   },
   "outputs": [],
   "source": [
    "def create_X_y(data, window_size):\n",
    "    \"\"\"\n",
    "    Converts a time series into X (features) and y (targets).\n",
    "    \n",
    "    Parameters:\n",
    "        data (array-like): Time series data.\n",
    "        window_size (int): Number of past values to use as predictors.\n",
    "    \n",
    "    Returns:\n",
    "        X (numpy array): Input features.\n",
    "        y (numpy array): Target values.\n",
    "    \"\"\"\n",
    "    X, y = [], []\n",
    "    for i in range(len(data) - window_size):\n",
    "        # Create a window of `window_size` observations for X\n",
    "        X.append(data.iloc[i:i + window_size])\n",
    "        # Use the next observation as y\n",
    "        y.append(data.iloc[i + window_size])\n",
    "    return np.array(X), np.array(y)\n",
    "\n",
    "# Example\n",
    "window_size = 1\n",
    "X_train, y_train = create_X_y(train, window_size)\n",
    "X_test, y_test = create_X_y(test, window_size)\n",
    "\n",
    "# Display shapes\n",
    "print(f\"Shape of X_train : {X_train.shape}\")\n",
    "print(f\"Shape of y_train : {y_train.shape}\")\n",
    "print(f\"Shape of X_test : {X_test.shape}\")\n",
    "print(f\"Shape of y_test : {y_test.shape}\")\n"
   ]
  },
  {
   "cell_type": "markdown",
   "id": "33ced3c5",
   "metadata": {},
   "source": [
    "## Scaling"
   ]
  },
  {
   "cell_type": "code",
   "execution_count": null,
   "id": "2865c60f",
   "metadata": {},
   "outputs": [],
   "source": [
    "# Instantiate the scaler\n",
    "minmax_scaler = MinMaxScaler()\n",
    "\n",
    "# Fit the scaler on entire data\n",
    "minmax_scaler.fit(X_train.reshape(-1,1)) \n",
    "\n",
    "# Transform entire data through the fitted scaler\n",
    "X_train_scaled = minmax_scaler.transform(X_train.reshape(-1,1))\n",
    "\n",
    "# Display shapes\n",
    "print(f\"Shape of X_train_scaled : {X_train_scaled.shape}\")\n"
   ]
  },
  {
   "cell_type": "code",
   "execution_count": null,
   "id": "e6d239ea",
   "metadata": {},
   "outputs": [],
   "source": [
    "# Reshape\n",
    "X_train_scaled = X_train_scaled.reshape(X_train_scaled.shape[0], window_size,X_train_scaled.shape[1])"
   ]
  },
  {
   "cell_type": "code",
   "execution_count": null,
   "id": "746d6ca3",
   "metadata": {},
   "outputs": [],
   "source": [
    "# # Instantiate the scaler\n",
    "# minmax_scaler = MinMaxScaler()\n",
    "\n",
    "# # Fit the scaler on entire data\n",
    "# minmax_scaler.fit(X_train.values.reshape(-1,1)) \n",
    "\n",
    "# # Transform entire data through the fitted scaler\n",
    "# historical_data[numerical_columns_no_outliers] = minmax_scaler.transform(historical_data[target].values.reshape(-1,1))\n",
    "\n",
    "# # Message displayed\n",
    "# print(\"SCALING DONE !\")"
   ]
  },
  {
   "cell_type": "markdown",
   "id": "5624c8a5",
   "metadata": {},
   "source": [
    "## Create model\n"
   ]
  },
  {
   "cell_type": "code",
   "execution_count": null,
   "id": "e3554b6d",
   "metadata": {},
   "outputs": [],
   "source": [
    "# Create LSTM model architecture\n",
    "def define_LSTM_model():\n",
    "    # 1- RNN Architecture\n",
    "    model = Sequential()\n",
    "    model.add(layers.LSTM(units=80, \n",
    "                          activation='tanh', \n",
    "                          input_shape=(X_train.shape[1],X_train.shape[2])))\n",
    "    model.add(layers.Dense(1, activation=\"linear\"))\n",
    "\n",
    "    # 2- Compilation\n",
    "    model.compile(loss='mse', optimizer='adam', metrics =['mse', \n",
    "                                                          'mae',\n",
    "                                                          RootMeanSquaredError(),\n",
    "                                                          MeanAbsolutePercentageError()])\n",
    "    \n",
    "    return model"
   ]
  },
  {
   "cell_type": "markdown",
   "id": "ae34fa5f",
   "metadata": {},
   "source": [
    "## Train model\n"
   ]
  },
  {
   "cell_type": "code",
   "execution_count": null,
   "id": "440eeaf9",
   "metadata": {},
   "outputs": [],
   "source": [
    "%%time \n",
    "# Instantiate model\n",
    "model_RNN = define_LSTM_model()\n",
    "\n",
    "# Fitting model\n",
    "es = EarlyStopping(patience = 50, restore_best_weights=True)\n",
    "\n",
    "history = model_RNN.fit(x=X_train_scaled,\n",
    "                    y=y_train,\n",
    "                    batch_size=16,\n",
    "                    epochs=1000,\n",
    "                    verbose=0,\n",
    "                    callbacks=[es],\n",
    "                    validation_split=0.3,\n",
    "                    shuffle=False)\n"
   ]
  },
  {
   "cell_type": "code",
   "execution_count": null,
   "id": "2ac25f1c",
   "metadata": {},
   "outputs": [],
   "source": [
    "model_RNN.summary()\n"
   ]
  },
  {
   "cell_type": "code",
   "execution_count": null,
   "id": "e3e4c52c",
   "metadata": {},
   "outputs": [],
   "source": [
    "# Function definition for visualization of history\n",
    "def plot_loss_metric(history, metric, title=None):\n",
    "    fig, ax = plt.subplots(1,2, figsize=(20,7))\n",
    "\n",
    "    # --- LOSS --- \n",
    "\n",
    "    ax[0].plot(history.history['loss'])\n",
    "    ax[0].plot(history.history['val_loss'])\n",
    "\n",
    "    ax[0].set_title('Model loss')\n",
    "    ax[0].set_ylabel('Loss')\n",
    "    ax[0].set_xlabel('Epoch')\n",
    "\n",
    "    min_loss = min(min(history.history['loss']),min(history.history['val_loss']))\n",
    "    max_loss = max(max(history.history['loss']),max(history.history['val_loss']))\n",
    "    ax[0].set_ylim((min_loss,max_loss))\n",
    "\n",
    "    ax[0].legend(['Train', 'Test'], loc='best')\n",
    "\n",
    "    ax[0].grid(axis=\"x\",linewidth=0.5)\n",
    "    ax[0].grid(axis=\"y\",linewidth=0.5)\n",
    "\n",
    "    # --- METRIC\n",
    "\n",
    "    ax[1].plot(history.history[metric])\n",
    "    ax[1].plot(history.history[f'val_{metric}'])\n",
    "\n",
    "    ax[1].set_title(f'Model {metric}')\n",
    "    ax[1].set_ylabel(metric)\n",
    "    \n",
    "    ax[1].set_xlabel('Epoch')\n",
    "\n",
    "    ax[1].legend(['Train', 'Test'], loc='best')\n",
    "    \n",
    "    min_metric = min(min(history.history[metric]),min(history.history[f'val_{metric}']))\n",
    "    max_metric = max(max(history.history[metric]),max(history.history[f'val_{metric}']))\n",
    "    ax[1].set_ylim((min_metric,max_metric))\n",
    "\n",
    "    ax[1].grid(axis=\"x\",linewidth=0.5)\n",
    "    ax[1].grid(axis=\"y\",linewidth=0.5)\n",
    "\n",
    "    if title:\n",
    "        fig.suptitle(title)"
   ]
  },
  {
   "cell_type": "code",
   "execution_count": null,
   "id": "803dbc5c",
   "metadata": {},
   "outputs": [],
   "source": [
    "# Visualization of history\n",
    "plot_loss_metric(history, 'mse')"
   ]
  },
  {
   "cell_type": "code",
   "execution_count": null,
   "id": "e1dd464c",
   "metadata": {},
   "outputs": [],
   "source": [
    "# Visualization of history\n",
    "plot_loss_metric(history, 'mae')"
   ]
  },
  {
   "cell_type": "code",
   "execution_count": null,
   "id": "2f26d0ac",
   "metadata": {},
   "outputs": [],
   "source": [
    "# Visualization of history\n",
    "plot_loss_metric(history, 'root_mean_squared_error')"
   ]
  },
  {
   "cell_type": "code",
   "execution_count": null,
   "id": "924ea145",
   "metadata": {},
   "outputs": [],
   "source": [
    "# Visualization of history\n",
    "plot_loss_metric(history, 'mean_absolute_percentage_error')"
   ]
  },
  {
   "cell_type": "markdown",
   "id": "2f76fccf",
   "metadata": {},
   "source": [
    "## Evaluate model\n"
   ]
  },
  {
   "cell_type": "code",
   "execution_count": null,
   "id": "6bf9a4b0",
   "metadata": {},
   "outputs": [],
   "source": [
    "# Evaluate model on unseen data (X_test)\n",
    "model_RNN.evaluate(X_test,y_test)"
   ]
  },
  {
   "cell_type": "markdown",
   "id": "91b15c68",
   "metadata": {},
   "source": [
    "## Predictions\n"
   ]
  },
  {
   "cell_type": "code",
   "execution_count": null,
   "id": "c8ddca49",
   "metadata": {},
   "outputs": [],
   "source": [
    "# Predictions from unseen data\n",
    "y_pred = model_RNN.predict(X_test)"
   ]
  },
  {
   "cell_type": "code",
   "execution_count": null,
   "id": "cd47fcfa",
   "metadata": {},
   "outputs": [],
   "source": [
    "# Shape\n",
    "print(f\"Shape of y_pred : {y_test.shape}\")"
   ]
  },
  {
   "cell_type": "markdown",
   "id": "282edcd5",
   "metadata": {},
   "source": [
    "## Visualization"
   ]
  },
  {
   "cell_type": "code",
   "execution_count": null,
   "id": "24aac02a",
   "metadata": {},
   "outputs": [],
   "source": [
    "y_test_export = pd.DataFrame(y_test, columns=['co2_test'])\n",
    "y_test_export"
   ]
  },
  {
   "cell_type": "code",
   "execution_count": null,
   "id": "547ab0d8",
   "metadata": {},
   "outputs": [],
   "source": [
    "y_pred_export = pd.DataFrame(y_pred, columns=['co2_pred'])\n",
    "y_pred_export"
   ]
  },
  {
   "cell_type": "code",
   "execution_count": null,
   "id": "640242d6",
   "metadata": {},
   "outputs": [],
   "source": []
  },
  {
   "cell_type": "code",
   "execution_count": null,
   "id": "2bc3af05",
   "metadata": {},
   "outputs": [],
   "source": []
  },
  {
   "cell_type": "code",
   "execution_count": null,
   "id": "a2a0dafd",
   "metadata": {},
   "outputs": [],
   "source": []
  },
  {
   "cell_type": "code",
   "execution_count": null,
   "id": "2a517d4c",
   "metadata": {},
   "outputs": [],
   "source": []
  }
 ],
 "metadata": {
  "kernelspec": {
   "display_name": "Python 3 (ipykernel)",
   "language": "python",
   "name": "python3"
  },
  "language_info": {
   "codemirror_mode": {
    "name": "ipython",
    "version": 3
   },
   "file_extension": ".py",
   "mimetype": "text/x-python",
   "name": "python",
   "nbconvert_exporter": "python",
   "pygments_lexer": "ipython3",
   "version": "3.10.6"
  },
  "toc": {
   "base_numbering": 1,
   "nav_menu": {},
   "number_sections": true,
   "sideBar": true,
   "skip_h1_title": false,
   "title_cell": "Table of Contents",
   "title_sidebar": "Contents",
   "toc_cell": false,
   "toc_position": {
    "height": "calc(100% - 180px)",
    "left": "10px",
    "top": "150px",
    "width": "338.372px"
   },
   "toc_section_display": true,
   "toc_window_display": true
  },
  "varInspector": {
   "cols": {
    "lenName": 16,
    "lenType": 16,
    "lenVar": 40
   },
   "kernels_config": {
    "python": {
     "delete_cmd_postfix": "",
     "delete_cmd_prefix": "del ",
     "library": "var_list.py",
     "varRefreshCmd": "print(var_dic_list())"
    },
    "r": {
     "delete_cmd_postfix": ") ",
     "delete_cmd_prefix": "rm(",
     "library": "var_list.r",
     "varRefreshCmd": "cat(var_dic_list()) "
    }
   },
   "types_to_exclude": [
    "module",
    "function",
    "builtin_function_or_method",
    "instance",
    "_Feature"
   ],
   "window_display": false
  }
 },
 "nbformat": 4,
 "nbformat_minor": 5
}
